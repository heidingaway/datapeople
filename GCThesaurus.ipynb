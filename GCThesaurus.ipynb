{
  "nbformat": 4,
  "nbformat_minor": 0,
  "metadata": {
    "colab": {
      "provenance": [],
      "authorship_tag": "ABX9TyPongsk8gvpfi0pFIlCMNf3",
      "include_colab_link": true
    },
    "kernelspec": {
      "name": "python3",
      "display_name": "Python 3"
    },
    "language_info": {
      "name": "python"
    }
  },
  "cells": [
    {
      "cell_type": "markdown",
      "metadata": {
        "id": "view-in-github",
        "colab_type": "text"
      },
      "source": [
        "<a href=\"https://colab.research.google.com/github/heidingaway/datapeople/blob/main/GCThesaurus.ipynb\" target=\"_parent\"><img src=\"https://colab.research.google.com/assets/colab-badge.svg\" alt=\"Open In Colab\"/></a>"
      ]
    },
    {
      "cell_type": "code",
      "source": [
        "import pandas as pd\n",
        "import os\n",
        "import zipfile\n",
        "import yaml\n",
        "import re\n",
        "import unicodedata\n",
        "import hashlib\n",
        "from pickle import DEFAULT_PROTOCOL\n",
        "\n",
        "def to_lower_camel_case(text):\n",
        "    # Split the text into words based on underscores\n",
        "    text = text.split(' ')\n",
        "    # Convert the first word to lowercase and the rest to title case, then join them\n",
        "    camel_case = text[0].lower() + ''.join(text.title() for text in text[1:])\n",
        "    return camel_case"
      ],
      "metadata": {
        "id": "R3eMDEo0AGB1"
      },
      "execution_count": 59,
      "outputs": []
    },
    {
      "cell_type": "code",
      "execution_count": 60,
      "metadata": {
        "id": "6o7v1_-E_9Wt",
        "colab": {
          "base_uri": "https://localhost:8080/"
        },
        "outputId": "294bbb3b-6228-4d34-982e-fd48a0b06d55"
      },
      "outputs": [
        {
          "output_type": "stream",
          "name": "stdout",
          "text": [
            "         longTitle        predicate                    subject identifier\n",
            "22145  Zootechnics  subjectCategory  NE Nature and Environment      22145\n",
            "22144  Zootechnics  subjectCategory             AG Agriculture      22144\n",
            "22143  Zootechnics              use           Animal husbandry      22143\n",
            "22142         Zoos  subjectCategory  NE Nature and Environment      22142\n",
            "22141         Zoos              use         Zoological gardens      22141\n",
            "longTitle     22146\n",
            "predicate     22146\n",
            "subject       22146\n",
            "identifier    22146\n",
            "dtype: int64\n"
          ]
        }
      ],
      "source": [
        "## Link to CSV\n",
        "\n",
        "src = \"https://canada.multites.net/cst/EAEAD1E6-7DD2-4997-BE7F-40BFB1CBE8A2/CST20240911.csv\"\n",
        "\n",
        "# Create the DataFrame from all the retrieved records\n",
        "df = pd.read_csv(src)\n",
        "\n",
        "# Add column names\n",
        "df.columns = ['object', 'predicate', 'subject']\n",
        "\n",
        "# Create a new column 'identifier' using the index number\n",
        "df['identifier'] = df.index.astype(str) # Use index as identifier\n",
        "\n",
        "# identify long title\n",
        "df = df.rename(columns={'object': 'longTitle'}).sort_values(by='longTitle', ascending=False)\n",
        "\n",
        "#lowercamelcase\n",
        "df['predicate'] = df['predicate'].apply(to_lower_camel_case)\n",
        "\n",
        "# Display the DataFrame\n",
        "print(df.head())\n",
        "print(df.count())"
      ]
    },
    {
      "cell_type": "code",
      "source": [
        "# Function to remove accents and special characters from a string\n",
        "def clean_title(text):\n",
        "    text = unicodedata.normalize('NFKD', text).encode('ascii', 'ignore').decode('ascii') # Remove accents\n",
        "    text = re.sub(r\"[^a-zA-Z0-9 -]\", \"\", text)  # Remove special characters except spaces and dashes\n",
        "    text = text[:50]  # Truncate to 50 characters if longer\n",
        "    return text\n",
        "\n",
        "# Group by 'longTitle' and 'predicate' and aggregate 'linkedsubject' with comma separation\n",
        "grouped_df = df.groupby(['subject', 'predicate'])['longTitle'].apply(lambda x: ', '.join(x)).reset_index()\n",
        "\n",
        "# Define the strings you want to add\n",
        "prefix = \"\\\"[[\"  # Prefix without identifier\n",
        "suffix = \"]]\\\"\"\n",
        "\n",
        "grouped_df['subject'] = grouped_df['subject'].apply(clean_title)\n",
        "grouped_df['subject'] = grouped_df.apply(lambda row: f\"{prefix}{row['subject']}{suffix}\", axis=1)\n",
        "\n",
        "# Before pivoting, reset the index and make \"identifier\" a column instead of the index.\n",
        "pivoted_df = grouped_df.pivot_table(\n",
        "    index='longTitle',\n",
        "    columns='predicate',\n",
        "    values='subject',\n",
        "    aggfunc=lambda x: ', '.join(x.dropna().astype(str)) # Changed aggfunc to join values\n",
        ")\n",
        "\n",
        "# Reset index to make 'title' a column again\n",
        "pivoted_df = pivoted_df.reset_index()\n",
        "\n",
        "# Apply cleaning function to the 'title' and 'subject' column\n",
        "pivoted_df['title'] = pivoted_df['longTitle'].apply(clean_title)\n",
        "pivoted_df['longTitle'] = \"'\" + pivoted_df['longTitle'] + \"'\""
      ],
      "metadata": {
        "id": "kdrT1pwue4f_"
      },
      "execution_count": 61,
      "outputs": []
    },
    {
      "cell_type": "code",
      "source": [
        "for index, row in pivoted_df.iterrows():  # Iterate through rows with index and row data\n",
        "    for column in pivoted_df.columns:\n",
        "        if column not in ['title', 'longTitle'] and pd.notna(row[column]) and row[column] != '':\n",
        "            # Ensure data type is string and replace NaNs with empty string\n",
        "            pivoted_df.loc[index, column] = str(row[column]).replace(\"]\\\", \", \"]\\\"\\n- \")  # Replace first\n",
        "\n",
        "        if column in ['historyNote', 'scopeNote'] and pd.notna(row[column]) and row[column] != '':  # Check for specific columns\n",
        "            pivoted_df.loc[index, column] = str(row[column]).replace(\"[[\", \"\").replace(\"]]\", \"\") # Remove [[ and ]] after replacement\n",
        "\n",
        "print(pivoted_df.head())"
      ],
      "metadata": {
        "colab": {
          "base_uri": "https://localhost:8080/"
        },
        "id": "nhcKkaTeCyTW",
        "outputId": "c8450775-301c-4e25-e327-8367a6ce9d94"
      },
      "execution_count": 62,
      "outputs": [
        {
          "output_type": "stream",
          "name": "stdout",
          "text": [
            "predicate                                longTitle broaderTerm  \\\n",
            "0                               '2SLGBTQI+ people'         NaN   \n",
            "1                                 'AIDS (disease)'         NaN   \n",
            "2                                  'Abbreviations'         NaN   \n",
            "3                          'Aboriginal businesses'         NaN   \n",
            "4          'Aboriginal issues, Aboriginal affairs'         NaN   \n",
            "\n",
            "predicate                   french historyNote  \\\n",
            "0          \"[[Personne 2ELGBTQI]]\"         NaN   \n",
            "1                       \"[[Sida]]\"         NaN   \n",
            "2                \"[[Abreviation]]\"         NaN   \n",
            "3                              NaN         NaN   \n",
            "4                              NaN         NaN   \n",
            "\n",
            "predicate                                       narrowerTerm  \\\n",
            "0          \"[[Asexual people]]\"\\n- \"[[Bisexual people]]\"\\...   \n",
            "1                                                        NaN   \n",
            "2                                                        NaN   \n",
            "3                                                        NaN   \n",
            "4                                                        NaN   \n",
            "\n",
            "predicate                          relatedTerm  \\\n",
            "0                                          NaN   \n",
            "1          \"[[Sexually transmitted diseases]]\"   \n",
            "2                                          NaN   \n",
            "3                                          NaN   \n",
            "4                                          NaN   \n",
            "\n",
            "predicate                                          scopeNote subjectCategory  \\\n",
            "0          \"Lesbian Gay Bisexual Transgender Queer Two-Sp...             NaN   \n",
            "1                                                        NaN             NaN   \n",
            "2                                                        NaN             NaN   \n",
            "3                                                        NaN             NaN   \n",
            "4                                                        NaN             NaN   \n",
            "\n",
            "predicate                          use  \\\n",
            "0                                  NaN   \n",
            "1                                  NaN   \n",
            "2                                  NaN   \n",
            "3          \"[[Indigenous businesses]]\"   \n",
            "4             \"[[Indigenous affairs]]\"   \n",
            "\n",
            "predicate                                            usedFor  \\\n",
            "0          \"[[2SLGBTQ people]]\"\\n- \"[[LGBTI people]]\"\\n- ...   \n",
            "1          \"[[Acquired immune deficiency syndrome]]\"\\n- \"...   \n",
            "2                                                        NaN   \n",
            "3                                                        NaN   \n",
            "4                                                        NaN   \n",
            "\n",
            "predicate                                 title  \n",
            "0                               2SLGBTQI people  \n",
            "1                                  AIDS disease  \n",
            "2                                 Abbreviations  \n",
            "3                         Aboriginal businesses  \n",
            "4          Aboriginal issues Aboriginal affairs  \n"
          ]
        }
      ]
    },
    {
      "cell_type": "code",
      "source": [
        "# Create a new directory for Markdown files with a unique name\n",
        "dir_name = \"markdown_files\"\n",
        "i = 1\n",
        "while os.path.exists(dir_name):\n",
        "    dir_name = f\"markdown_files_{i}\"\n",
        "    i += 1\n",
        "os.makedirs(dir_name)\n",
        "\n",
        "# Function to create markdown content with bullet points\n",
        "def create_markdown_content(row):\n",
        "    markdown_content = f\"---\\ntitle: {row['title']}\\nlongTitle: {row['longTitle']}\\ntags:\\n- gccommon\\n\"\n",
        "    for column in pivoted_df.columns:\n",
        "        if column not in ['title', 'longTitle'] and pd.notna(row[column]) and row[column] != '':\n",
        "            markdown_content += f\"{column}:\\n\"  # Heading for the section\n",
        "            markdown_content += f\"- {row[column]}\\n\"  # Add the bulleted content\n",
        "    markdown_content += \"---\"\n",
        "    return markdown_content\n",
        "\n",
        "# Create the markdown files\n",
        "def create_markdown_file(row):  # Define a function to create individual files\n",
        "    file_name = os.path.join(dir_name, f\"{row['title']}.md\")\n",
        "    with open(file_name, \"w\") as f:\n",
        "        f.write(create_markdown_content(row))\n",
        "\n",
        "pivoted_df.apply(create_markdown_file, axis=1)  # Apply to pivoted_df\n",
        "\n",
        "print(f\"Markdown files created successfully in directory: {dir_name}\")"
      ],
      "metadata": {
        "colab": {
          "base_uri": "https://localhost:8080/"
        },
        "outputId": "147eade2-b3e3-423f-b1e6-77e646eb632e",
        "id": "76-XwqCmE1Ff"
      },
      "execution_count": 63,
      "outputs": [
        {
          "output_type": "stream",
          "name": "stdout",
          "text": [
            "Markdown files created successfully in directory: markdown_files_6\n"
          ]
        }
      ]
    },
    {
      "cell_type": "code",
      "source": [
        "output_dir = \"csv_files\"\n",
        "i = 1\n",
        "while os.path.exists(output_dir):\n",
        "    output_dir = f\"csv_files_{i}\"\n",
        "    i += 1\n",
        "os.makedirs(output_dir)\n",
        "\n",
        "# Iterate through each group (title) and export to CSV\n",
        "for title, group_data in pivoted_df.groupby('title'):\n",
        "    file_name = f\"{title}.csv\"  #\n",
        "    file_path = os.path.join(output_dir, file_name)\n",
        "    group_data.to_csv(file_path, index=False)\n",
        "\n",
        "print(f\"CSV files exported to: {output_dir}\")"
      ],
      "metadata": {
        "colab": {
          "base_uri": "https://localhost:8080/"
        },
        "id": "9TjdNFdce9iQ",
        "outputId": "8062d0c0-6e00-4e82-d865-31ecb9daecad"
      },
      "execution_count": 64,
      "outputs": [
        {
          "output_type": "stream",
          "name": "stdout",
          "text": [
            "CSV files exported to: csv_files_4\n"
          ]
        }
      ]
    },
    {
      "cell_type": "code",
      "source": [
        "# Create a new directory for Markdown files with a unique name\n",
        "dir_name = \"markdown_files\"\n",
        "i = 1\n",
        "while os.path.exists(dir_name):\n",
        "    dir_name = f\"markdown_files_{i}\"\n",
        "    i += 1\n",
        "os.makedirs(dir_name)\n",
        "\n",
        "# Function to create markdown content with bullet points\n",
        "def create_markdown_content(row):\n",
        "    markdown_content = f\"---\\ntitle: {row['title']}\\nlongTitle: {row['longTitle']}\\ntags:\\n- gccommon\\n\"\n",
        "    for column in pivoted_df.columns:\n",
        "        if column not in ['title', 'longTitle'] and pd.notna(row[column]) and row[column] != '':\n",
        "            markdown_content += f\"{column}:\\n\"  # Heading for the section\n",
        "            markdown_content += f\"- {row[column]}\\n\"  # Add the bulleted content\n",
        "    markdown_content += \"---\"\n",
        "    return markdown_content\n",
        "\n",
        "# Create the markdown files\n",
        "def create_markdown_file(row):  # Define a function to create individual files\n",
        "    file_name = os.path.join(dir_name, f\"{row['title']}.md\")\n",
        "    with open(file_name, \"w\") as f:\n",
        "        f.write(create_markdown_content(row))\n",
        "\n",
        "pivoted_df.apply(create_markdown_file, axis=1)  # Apply to pivoted_df\n",
        "\n",
        "print(f\"Markdown files created successfully in directory: {dir_name}\")"
      ],
      "metadata": {
        "colab": {
          "base_uri": "https://localhost:8080/"
        },
        "id": "3Pewv8_KkqoQ",
        "outputId": "2412491a-4baf-4d03-bb85-71911f16f413"
      },
      "execution_count": 65,
      "outputs": [
        {
          "output_type": "stream",
          "name": "stdout",
          "text": [
            "Markdown files created successfully in directory: markdown_files_7\n"
          ]
        }
      ]
    },
    {
      "cell_type": "code",
      "source": [
        "# Create a zip file of the markdown directory\n",
        "def zip_directory(directory_path, zip_file_path):\n",
        "    with zipfile.ZipFile(zip_file_path, 'w') as zipf:\n",
        "        for root, _, files in os.walk(directory_path):\n",
        "            for file in files:\n",
        "                file_path = os.path.join(root, file)\n",
        "                arcname = os.path.relpath(file_path, directory_path)\n",
        "                zipf.write(file_path, arcname=arcname)\n",
        "\n",
        "# Zip the 'markdown_files' directory\n",
        "zip_directory(dir_name, 'markdown_files.zip')\n",
        "\n",
        "print(f\"Markdown files zipped to: markdown_files.zip\")"
      ],
      "metadata": {
        "colab": {
          "base_uri": "https://localhost:8080/"
        },
        "id": "yUiOPOWInkWU",
        "outputId": "c986741d-7c11-40ee-9e5a-af7e33ac20c4"
      },
      "execution_count": 66,
      "outputs": [
        {
          "output_type": "stream",
          "name": "stdout",
          "text": [
            "Markdown files zipped to: markdown_files.zip\n"
          ]
        }
      ]
    }
  ]
}