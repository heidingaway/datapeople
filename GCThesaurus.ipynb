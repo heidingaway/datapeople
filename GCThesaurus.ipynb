{
  "nbformat": 4,
  "nbformat_minor": 0,
  "metadata": {
    "colab": {
      "provenance": [],
      "authorship_tag": "ABX9TyOCHiA2lsApUXzTN5NdxfGQ",
      "include_colab_link": true
    },
    "kernelspec": {
      "name": "python3",
      "display_name": "Python 3"
    },
    "language_info": {
      "name": "python"
    }
  },
  "cells": [
    {
      "cell_type": "markdown",
      "metadata": {
        "id": "view-in-github",
        "colab_type": "text"
      },
      "source": [
        "<a href=\"https://colab.research.google.com/github/heidingaway/datapeople/blob/main/GCThesaurus.ipynb\" target=\"_parent\"><img src=\"https://colab.research.google.com/assets/colab-badge.svg\" alt=\"Open In Colab\"/></a>"
      ]
    },
    {
      "cell_type": "code",
      "source": [
        "import pandas as pd\n",
        "import os\n",
        "import zipfile\n",
        "import yaml\n",
        "import re\n",
        "import unicodedata\n",
        "import hashlib"
      ],
      "metadata": {
        "id": "R3eMDEo0AGB1"
      },
      "execution_count": 1,
      "outputs": []
    },
    {
      "cell_type": "code",
      "execution_count": 13,
      "metadata": {
        "id": "6o7v1_-E_9Wt",
        "colab": {
          "base_uri": "https://localhost:8080/"
        },
        "outputId": "2fb4e5ed-925a-4536-c7fe-1e511ee0b660"
      },
      "outputs": [
        {
          "output_type": "stream",
          "name": "stdout",
          "text": [
            "                          subject predicate                object\n",
            "0               2-spirited people       Use     Two-spirit people\n",
            "1               2019-nCoV disease       Use  Coronavirus diseases\n",
            "2  2019 novel coronavirus disease       Use  Coronavirus diseases\n",
            "3                 2SLGBTQ+ people       Use      2SLGBTQI+ people\n",
            "4                2SLGBTQI+ people    French    Personne 2ELGBTQI+\n",
            "subject      22146\n",
            "predicate    22146\n",
            "object       22146\n",
            "dtype: int64\n"
          ]
        }
      ],
      "source": [
        "## Link to CSV\n",
        "\n",
        "src = \"https://canada.multites.net/cst/EAEAD1E6-7DD2-4997-BE7F-40BFB1CBE8A2/CST20240911.csv\"\n",
        "\n",
        "# Create the DataFrame from all the retrieved records\n",
        "df = pd.read_csv(src)\n",
        "\n",
        "# Add column names\n",
        "df.columns = ['subject', 'predicate', 'object']\n",
        "\n",
        "# Display the DataFrame\n",
        "print(df.head())\n",
        "print(df.count())"
      ]
    },
    {
      "cell_type": "code",
      "source": [
        "# Reset index with drop=True to avoid creating a new 'index' or 'level_0' column\n",
        "df = df.reset_index(drop=True)\n",
        "\n",
        "# Create a new column 'identifier' using the index number\n",
        "df['identifier'] = df.index.astype(str) # Use index as identifier\n",
        "\n",
        "# Define the strings you want to add\n",
        "prefix = \"[[\"  # Prefix without identifier\n",
        "suffix = \"]]\"\n",
        "\n",
        "# Use the apply method with a lambda function to modify the column content\n",
        "# Include identifier in linkedsubject using f-string\n",
        "df['linkedsubject'] = df.apply(lambda row: f\"{prefix}{row['identifier']} {row['subject']}{suffix}\", axis=1)\n",
        "\n",
        "# identify long title\n",
        "df = df.rename(columns={'object': 'longTitle', 'predicate': 'h2'}).sort_values(by='longTitle', ascending=False)\n",
        "\n",
        "def to_lower_camel_case(text):\n",
        "    \"\"\"Converts a string to lowerCamelCase.\"\"\"\n",
        "    cleaned_text = re.sub(r'[^a-zA-Z0-9]', ' ', text).lower()\n",
        "    camel_case = ''.join(word.capitalize() if i > 0 else word for i, word in enumerate(cleaned_text.split()))\n",
        "    return camel_case[0].lower() + camel_case[1:]\n",
        "\n",
        "# Iterate through the DataFrame and update 'h2' column\n",
        "for index, row in df.iterrows():\n",
        "    original_term = row['h2']\n",
        "    camel_case_term = to_lower_camel_case(original_term)\n",
        "    df.loc[index, 'h2'] = camel_case_term  # Update the value directly\n",
        "\n",
        "# Now df['h2'] contains the updated terms in lowerCamelCase\n",
        "print(df.head())\n",
        "\n",
        "# Display the modified DataFrame\n",
        "print(df.head())"
      ],
      "metadata": {
        "colab": {
          "base_uri": "https://localhost:8080/"
        },
        "id": "lSc71cPTLeXv",
        "outputId": "22521476-ad31-44d1-8d6f-b24c1554a904"
      },
      "execution_count": 22,
      "outputs": [
        {
          "output_type": "stream",
          "name": "stdout",
          "text": [
            "           subject      h2           longTitle identifier  \\\n",
            "0        Art works  french         Œuvre d'art          0   \n",
            "1     Human beings  french         Être humain          1   \n",
            "2    Sports events  french   Événement sportif          2   \n",
            "3  Cultural events  french  Événement culturel          3   \n",
            "4    Tax avoidance  french    Évitement fiscal          4   \n",
            "\n",
            "           linkedsubject  \n",
            "0        [[0 Art works]]  \n",
            "1     [[1 Human beings]]  \n",
            "2    [[2 Sports events]]  \n",
            "3  [[3 Cultural events]]  \n",
            "4    [[4 Tax avoidance]]  \n",
            "           subject      h2           longTitle identifier  \\\n",
            "0        Art works  french         Œuvre d'art          0   \n",
            "1     Human beings  french         Être humain          1   \n",
            "2    Sports events  french   Événement sportif          2   \n",
            "3  Cultural events  french  Événement culturel          3   \n",
            "4    Tax avoidance  french    Évitement fiscal          4   \n",
            "\n",
            "           linkedsubject  \n",
            "0        [[0 Art works]]  \n",
            "1     [[1 Human beings]]  \n",
            "2    [[2 Sports events]]  \n",
            "3  [[3 Cultural events]]  \n",
            "4    [[4 Tax avoidance]]  \n"
          ]
        }
      ]
    },
    {
      "cell_type": "code",
      "source": [
        "cleandf = df.drop(['subject', 'identifier'], axis=1)\n",
        "print(cleandf.head())\n",
        "\n",
        "print(cleandf['h2'].unique())"
      ],
      "metadata": {
        "colab": {
          "base_uri": "https://localhost:8080/"
        },
        "id": "O1EbjUqOcuJZ",
        "outputId": "2fa0fafd-0bda-4ff3-fecc-24c344c58e0b"
      },
      "execution_count": 34,
      "outputs": [
        {
          "output_type": "stream",
          "name": "stdout",
          "text": [
            "       h2           longTitle          linkedsubject\n",
            "0  french         Œuvre d'art        [[0 Art works]]\n",
            "1  french         Être humain     [[1 Human beings]]\n",
            "2  french   Événement sportif    [[2 Sports events]]\n",
            "3  french  Événement culturel  [[3 Cultural events]]\n",
            "4  french    Évitement fiscal    [[4 Tax avoidance]]\n",
            "['french' 'usedFor' 'broaderTerm' 'relatedTerm' 'use' 'narrowerTerm'\n",
            " 'scopeNote' 'historyNote' 'subjectCategory']\n"
          ]
        }
      ]
    },
    {
      "cell_type": "code",
      "source": [
        "# Group by 'longTitle' and 'h2' and aggregate 'linkedsubject' with comma separation\n",
        "grouped_df = cleandf.groupby(['longTitle', 'h2'])['linkedsubject'].apply(lambda x: ', '.join(x)).reset_index()\n",
        "\n",
        "# Before pivoting, reset the index and make \"identifier\" a column instead of the index.\n",
        "pivoted_df = cleandf.pivot_table(\n",
        "    index='longTitle',\n",
        "    columns='h2',\n",
        "    values='linkedsubject',\n",
        "    aggfunc=lambda x: ', '.join(x.dropna().astype(str)) # Changed aggfunc to join values\n",
        ")\n",
        "\n",
        "# Reset index to make 'longTitle' a column again\n",
        "pivoted_df = pivoted_df.reset_index()\n",
        "\n",
        "# Function to remove accents and special characters from a string\n",
        "def clean_title(text):\n",
        "    text = unicodedata.normalize('NFKD', text).encode('ascii', 'ignore').decode('ascii') # Remove accents\n",
        "    text = re.sub(r\"[^a-zA-Z0-9 ]\", \"\", text) # Remove special characters except spaces\n",
        "    text = text[:50]  # Truncate to 50 characters if longer\n",
        "    return text\n",
        "\n",
        "# Apply cleaning function to the 'title' column\n",
        "pivoted_df['title'] = pivoted_df['longTitle'].apply(clean_title)\n",
        "\n",
        "for column in pivoted_df.columns:\n",
        "    if column not in ['title', 'longTitle']:\n",
        "        pivoted_df[column] = pivoted_df[column].str.replace(\"], \", \"]\\n- \", regex=False)\n",
        "\n",
        "print(pivoted_df)"
      ],
      "metadata": {
        "colab": {
          "base_uri": "https://localhost:8080/"
        },
        "id": "kdrT1pwue4f_",
        "outputId": "f1f91796-2895-4305-beb4-f9292ed5b36d"
      },
      "execution_count": 24,
      "outputs": [
        {
          "output_type": "stream",
          "name": "stdout",
          "text": [
            "h2                                            longTitle broaderTerm  \\\n",
            "0     \"Bicycle paths\" replaces \"Cycling trails\" as p...         NaN   \n",
            "1     \"Biochemicals\" replaces \"Biochemical products\"...         NaN   \n",
            "2     \"Coasts\" replaces \"Coastlands\" as preferred te...         NaN   \n",
            "3     \"Cultural groups\" replaces \"Cultural minoritie...         NaN   \n",
            "4     \"Demining\" replaces \"Mine clearing\" as preferr...         NaN   \n",
            "...                                                 ...         ...   \n",
            "7583                                   Évitement fiscal         NaN   \n",
            "7584                                 Événement culturel         NaN   \n",
            "7585                                  Événement sportif         NaN   \n",
            "7586                                        Être humain         NaN   \n",
            "7587                                        Œuvre d'art         NaN   \n",
            "\n",
            "h2                   french  \\\n",
            "0                       NaN   \n",
            "1                       NaN   \n",
            "2                       NaN   \n",
            "3                       NaN   \n",
            "4                       NaN   \n",
            "...                     ...   \n",
            "7583    [[4 Tax avoidance]]   \n",
            "7584  [[3 Cultural events]]   \n",
            "7585    [[2 Sports events]]   \n",
            "7586     [[1 Human beings]]   \n",
            "7587        [[0 Art works]]   \n",
            "\n",
            "h2                                          historyNote narrowerTerm  \\\n",
            "0     [[22144 Cycling trails]]\\n- [[22145 Bicycle pa...          NaN   \n",
            "1     [[22142 Biochemicals]]\\n- [[22143 Biochemical ...          NaN   \n",
            "2              [[22140 Coastlands]]\\n- [[22141 Coasts]]          NaN   \n",
            "3     [[22138 Cultural groups]]\\n- [[22139 Cultural ...          NaN   \n",
            "4         [[22136 Demining]]\\n- [[22137 Mine clearing]]          NaN   \n",
            "...                                                 ...          ...   \n",
            "7583                                                NaN          NaN   \n",
            "7584                                                NaN          NaN   \n",
            "7585                                                NaN          NaN   \n",
            "7586                                                NaN          NaN   \n",
            "7587                                                NaN          NaN   \n",
            "\n",
            "h2   relatedTerm scopeNote subjectCategory  use usedFor  \\\n",
            "0            NaN       NaN             NaN  NaN     NaN   \n",
            "1            NaN       NaN             NaN  NaN     NaN   \n",
            "2            NaN       NaN             NaN  NaN     NaN   \n",
            "3            NaN       NaN             NaN  NaN     NaN   \n",
            "4            NaN       NaN             NaN  NaN     NaN   \n",
            "...          ...       ...             ...  ...     ...   \n",
            "7583         NaN       NaN             NaN  NaN     NaN   \n",
            "7584         NaN       NaN             NaN  NaN     NaN   \n",
            "7585         NaN       NaN             NaN  NaN     NaN   \n",
            "7586         NaN       NaN             NaN  NaN     NaN   \n",
            "7587         NaN       NaN             NaN  NaN     NaN   \n",
            "\n",
            "h2                                                title  \n",
            "0     Bicycle paths replaces Cycling trails as prefe...  \n",
            "1     Biochemicals replaces Biochemical products as ...  \n",
            "2     Coasts replaces Coastlands as preferred term i...  \n",
            "3     Cultural groups replaces Cultural minorities a...  \n",
            "4     Demining replaces Mine clearing as preferred t...  \n",
            "...                                                 ...  \n",
            "7583                                   Evitement fiscal  \n",
            "7584                                 Evenement culturel  \n",
            "7585                                  Evenement sportif  \n",
            "7586                                        Etre humain  \n",
            "7587                                          uvre dart  \n",
            "\n",
            "[7588 rows x 11 columns]\n"
          ]
        }
      ]
    },
    {
      "cell_type": "code",
      "source": [
        "output_dir = \"csv_files\"\n",
        "i = 1\n",
        "while os.path.exists(output_dir):\n",
        "    output_dir = f\"csv_files_{i}\"\n",
        "    i += 1\n",
        "os.makedirs(output_dir)\n",
        "\n",
        "# Iterate through each group (title) and export to CSV\n",
        "for title, group_data in pivoted_df.groupby('title'):\n",
        "    file_name = f\"{title}.csv\"  #\n",
        "    file_path = os.path.join(output_dir, file_name)\n",
        "    group_data.to_csv(file_path, index=False)\n",
        "\n",
        "print(f\"CSV files exported to: {output_dir}\")"
      ],
      "metadata": {
        "colab": {
          "base_uri": "https://localhost:8080/"
        },
        "id": "9TjdNFdce9iQ",
        "outputId": "3f7c86e9-e3d3-4f5b-bb3b-575a9dcf3791"
      },
      "execution_count": 25,
      "outputs": [
        {
          "output_type": "stream",
          "name": "stdout",
          "text": [
            "CSV files exported to: csv_files_2\n"
          ]
        }
      ]
    },
    {
      "cell_type": "code",
      "source": [
        "# Create a new directory for Markdown files with a unique name\n",
        "dir_name = \"markdown_files\"\n",
        "i = 1\n",
        "while os.path.exists(dir_name):\n",
        "    dir_name = f\"markdown_files_{i}\"\n",
        "    i += 1\n",
        "os.makedirs(dir_name)\n",
        "\n",
        "# Function to create markdown content with bullet points\n",
        "def create_markdown_content(row):\n",
        "    markdown_content = f\"---\\n\\ntitle: {row['title']}\\nalias: {row['longTitle']}\\n\"\n",
        "    for column in pivoted_df.columns:\n",
        "        if column not in ['title', 'longTitle'] and pd.notna(row[column]) and row[column] != '':\n",
        "            markdown_content += f\"{column}:\\n\"  # Heading for the section\n",
        "            markdown_content += f\"- {row[column]}\\n\"  # Add the bulleted content\n",
        "    markdown_content += \"\\n---\"  # Add the separator at the end\n",
        "    return markdown_content\n",
        "\n",
        "# Create the markdown files\n",
        "def create_markdown_file(row):  # Define a function to create individual files\n",
        "    file_name = os.path.join(dir_name, f\"{row['title']}.md\")\n",
        "    with open(file_name, \"w\") as f:\n",
        "        f.write(create_markdown_content(row))\n",
        "\n",
        "pivoted_df.apply(create_markdown_file, axis=1)  # Apply to pivoted_df\n",
        "\n",
        "print(f\"Markdown files created successfully in directory: {dir_name}\")"
      ],
      "metadata": {
        "colab": {
          "base_uri": "https://localhost:8080/"
        },
        "id": "3Pewv8_KkqoQ",
        "outputId": "1eee6476-3387-4b7e-d340-deb1f744061e"
      },
      "execution_count": 32,
      "outputs": [
        {
          "output_type": "stream",
          "name": "stdout",
          "text": [
            "Markdown files created successfully in directory: markdown_files_5\n"
          ]
        }
      ]
    },
    {
      "cell_type": "code",
      "source": [
        "# Create a zip file of the markdown directory\n",
        "def zip_directory(directory_path, zip_file_path):\n",
        "    with zipfile.ZipFile(zip_file_path, 'w') as zipf:\n",
        "        for root, _, files in os.walk(directory_path):\n",
        "            for file in files:\n",
        "                file_path = os.path.join(root, file)\n",
        "                arcname = os.path.relpath(file_path, directory_path)\n",
        "                zipf.write(file_path, arcname=arcname)\n",
        "\n",
        "# Zip the 'markdown_files' directory\n",
        "zip_directory(dir_name, 'markdown_files.zip')\n",
        "\n",
        "print(f\"Markdown files zipped to: markdown_files.zip\")"
      ],
      "metadata": {
        "colab": {
          "base_uri": "https://localhost:8080/"
        },
        "id": "yUiOPOWInkWU",
        "outputId": "2f0b67d8-4d69-4b68-8c35-4686fc33f16a"
      },
      "execution_count": 33,
      "outputs": [
        {
          "output_type": "stream",
          "name": "stdout",
          "text": [
            "Markdown files zipped to: markdown_files.zip\n"
          ]
        }
      ]
    }
  ]
}