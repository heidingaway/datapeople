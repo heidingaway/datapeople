{
  "nbformat": 4,
  "nbformat_minor": 0,
  "metadata": {
    "colab": {
      "provenance": [],
      "authorship_tag": "ABX9TyMhuv0Ff8jZqUh7cYATeSpS",
      "include_colab_link": true
    },
    "kernelspec": {
      "name": "python3",
      "display_name": "Python 3"
    },
    "language_info": {
      "name": "python"
    }
  },
  "cells": [
    {
      "cell_type": "markdown",
      "metadata": {
        "id": "view-in-github",
        "colab_type": "text"
      },
      "source": [
        "<a href=\"https://colab.research.google.com/github/heidingaway/datapeople/blob/main/GCThesaurus.ipynb\" target=\"_parent\"><img src=\"https://colab.research.google.com/assets/colab-badge.svg\" alt=\"Open In Colab\"/></a>"
      ]
    },
    {
      "cell_type": "code",
      "source": [
        "import pandas as pd\n",
        "import os\n",
        "import zipfile\n",
        "import yaml\n",
        "import re\n",
        "import unicodedata\n",
        "import hashlib"
      ],
      "metadata": {
        "id": "R3eMDEo0AGB1"
      },
      "execution_count": 1,
      "outputs": []
    },
    {
      "cell_type": "code",
      "execution_count": 105,
      "metadata": {
        "id": "6o7v1_-E_9Wt",
        "colab": {
          "base_uri": "https://localhost:8080/"
        },
        "outputId": "40892137-6d82-4e3e-abf3-94f81c5dc1da"
      },
      "outputs": [
        {
          "output_type": "stream",
          "name": "stdout",
          "text": [
            "                          subject predicate                object\n",
            "0               2-spirited people       Use     Two-spirit people\n",
            "1               2019-nCoV disease       Use  Coronavirus diseases\n",
            "2  2019 novel coronavirus disease       Use  Coronavirus diseases\n",
            "3                 2SLGBTQ+ people       Use      2SLGBTQI+ people\n",
            "4                2SLGBTQI+ people    French    Personne 2ELGBTQI+\n",
            "subject      22146\n",
            "predicate    22146\n",
            "object       22146\n",
            "dtype: int64\n"
          ]
        }
      ],
      "source": [
        "## Link to CSV\n",
        "\n",
        "src = \"https://canada.multites.net/cst/EAEAD1E6-7DD2-4997-BE7F-40BFB1CBE8A2/CST20240911.csv\"\n",
        "\n",
        "# Create the DataFrame from all the retrieved records\n",
        "df = pd.read_csv(src)\n",
        "\n",
        "# Add column names\n",
        "df.columns = ['subject', 'predicate', 'object']\n",
        "\n",
        "# Display the DataFrame\n",
        "print(df.head())\n",
        "print(df.count())"
      ]
    },
    {
      "cell_type": "code",
      "source": [
        "# Reset index with drop=True to avoid creating a new 'index' or 'level_0' column\n",
        "df = df.reset_index(drop=True)\n",
        "\n",
        "# Create a new column 'identifier' using the index number\n",
        "df['identifier'] = df.index.astype(str) # Use index as identifier\n",
        "\n",
        "# Define the strings you want to add\n",
        "prefix = \"[[\"  # Prefix without identifier\n",
        "suffix = \"]]\"\n",
        "\n",
        "# Use the apply method with a lambda function to modify the column content\n",
        "# Include identifier in linkedsubject using f-string\n",
        "df['linkedsubject'] = df.apply(lambda row: f\"{prefix}{row['identifier']} {row['subject']}{suffix}\", axis=1)\n",
        "\n",
        "# Define the headings you want to add\n",
        "heading2 = \"## \"\n",
        "\n",
        "# Use the apply method with a lambda function to modify the column content\n",
        "df['h2'] = df['predicate'].apply(lambda x: f\"{heading2}{x}\")\n",
        "\n",
        "# identify long title\n",
        "df = df.rename(columns={'object': 'longTitle'}).sort_values(by='longTitle', ascending=False)\n",
        "\n",
        "# Display the modified DataFrame\n",
        "print(df.head())"
      ],
      "metadata": {
        "colab": {
          "base_uri": "https://localhost:8080/"
        },
        "id": "lSc71cPTLeXv",
        "outputId": "9d377fd8-7289-4e58-ff3a-c7a858bb3b67"
      },
      "execution_count": 106,
      "outputs": [
        {
          "output_type": "stream",
          "name": "stdout",
          "text": [
            "               subject predicate           longTitle identifier  \\\n",
            "1475         Art works    French         Œuvre d'art       1475   \n",
            "10161     Human beings    French         Être humain      10161   \n",
            "19251    Sports events    French   Événement sportif      19251   \n",
            "4635   Cultural events    French  Événement culturel       4635   \n",
            "19712    Tax avoidance    French    Évitement fiscal      19712   \n",
            "\n",
            "                  linkedsubject         h2  \n",
            "1475         [[1475 Art works]]  ## French  \n",
            "10161    [[10161 Human beings]]  ## French  \n",
            "19251   [[19251 Sports events]]  ## French  \n",
            "4635   [[4635 Cultural events]]  ## French  \n",
            "19712   [[19712 Tax avoidance]]  ## French  \n"
          ]
        }
      ]
    },
    {
      "cell_type": "code",
      "source": [
        "cleandf = df.drop(['subject','predicate', 'identifier'], axis=1)\n",
        "print(cleandf.head())"
      ],
      "metadata": {
        "colab": {
          "base_uri": "https://localhost:8080/"
        },
        "id": "O1EbjUqOcuJZ",
        "outputId": "33455cbc-d3a7-4d90-fe78-39a0ed43c0dc"
      },
      "execution_count": 107,
      "outputs": [
        {
          "output_type": "stream",
          "name": "stdout",
          "text": [
            "                longTitle             linkedsubject         h2\n",
            "1475          Œuvre d'art        [[1475 Art works]]  ## French\n",
            "10161         Être humain    [[10161 Human beings]]  ## French\n",
            "19251   Événement sportif   [[19251 Sports events]]  ## French\n",
            "4635   Événement culturel  [[4635 Cultural events]]  ## French\n",
            "19712    Évitement fiscal   [[19712 Tax avoidance]]  ## French\n"
          ]
        }
      ]
    },
    {
      "cell_type": "code",
      "source": [
        "# Group by 'longTitle' and 'h2' and aggregate 'linkedsubject' with comma separation\n",
        "grouped_df = cleandf.groupby(['longTitle', 'h2'])['linkedsubject'].apply(lambda x: ', '.join(x)).reset_index()\n",
        "\n",
        "# Before pivoting, reset the index and make \"identifier\" a column instead of the index.\n",
        "pivoted_df = cleandf.pivot_table(\n",
        "    index='longTitle',\n",
        "    columns='h2',\n",
        "    values='linkedsubject',\n",
        "    aggfunc=lambda x: ', '.join(x.dropna().astype(str)) # Changed aggfunc to join values\n",
        ")\n",
        "\n",
        "# Reset index to make 'longTitle' a column again\n",
        "pivoted_df = pivoted_df.reset_index()\n",
        "\n",
        "# Function to remove accents and special characters from a string\n",
        "def clean_title(text):\n",
        "    text = unicodedata.normalize('NFKD', text).encode('ascii', 'ignore').decode('ascii') # Remove accents\n",
        "    text = re.sub(r\"[^a-zA-Z0-9 ]\", \"\", text) # Remove special characters except spaces\n",
        "    text = text[:50]  # Truncate to 50 characters if longer\n",
        "    return text\n",
        "\n",
        "# Apply cleaning function to the 'title' column\n",
        "pivoted_df['title'] = pivoted_df['longTitle'].apply(clean_title)\n",
        "\n",
        "print(pivoted_df)"
      ],
      "metadata": {
        "colab": {
          "base_uri": "https://localhost:8080/"
        },
        "id": "kdrT1pwue4f_",
        "outputId": "4f684ce5-7447-4666-ca58-8760ef862529"
      },
      "execution_count": 108,
      "outputs": [
        {
          "output_type": "stream",
          "name": "stdout",
          "text": [
            "h2                                            longTitle ## Broader Term  \\\n",
            "0     \"Bicycle paths\" replaces \"Cycling trails\" as p...             NaN   \n",
            "1     \"Biochemicals\" replaces \"Biochemical products\"...             NaN   \n",
            "2     \"Coasts\" replaces \"Coastlands\" as preferred te...             NaN   \n",
            "3     \"Cultural groups\" replaces \"Cultural minoritie...             NaN   \n",
            "4     \"Demining\" replaces \"Mine clearing\" as preferr...             NaN   \n",
            "...                                                 ...             ...   \n",
            "7583                                   Évitement fiscal             NaN   \n",
            "7584                                 Événement culturel             NaN   \n",
            "7585                                  Événement sportif             NaN   \n",
            "7586                                        Être humain             NaN   \n",
            "7587                                        Œuvre d'art             NaN   \n",
            "\n",
            "h2                   ## French  \\\n",
            "0                          NaN   \n",
            "1                          NaN   \n",
            "2                          NaN   \n",
            "3                          NaN   \n",
            "4                          NaN   \n",
            "...                        ...   \n",
            "7583   [[19712 Tax avoidance]]   \n",
            "7584  [[4635 Cultural events]]   \n",
            "7585   [[19251 Sports events]]   \n",
            "7586    [[10161 Human beings]]   \n",
            "7587        [[1475 Art works]]   \n",
            "\n",
            "h2                                      ## History note ## Narrower Term  \\\n",
            "0       [[4789 Cycling trails]], [[2016 Bicycle paths]]              NaN   \n",
            "1     [[2090 Biochemicals]], [[2082 Biochemical prod...              NaN   \n",
            "2                  [[3430 Coastlands]], [[3436 Coasts]]              NaN   \n",
            "3     [[4646 Cultural groups]], [[4688 Cultural mino...              NaN   \n",
            "4            [[5079 Demining]], [[13705 Mine clearing]]              NaN   \n",
            "...                                                 ...              ...   \n",
            "7583                                                NaN              NaN   \n",
            "7584                                                NaN              NaN   \n",
            "7585                                                NaN              NaN   \n",
            "7586                                                NaN              NaN   \n",
            "7587                                                NaN              NaN   \n",
            "\n",
            "h2   ## Related Term ## Scope Note ## Subject Category ## Use ## Used For  \\\n",
            "0                NaN           NaN                 NaN    NaN         NaN   \n",
            "1                NaN           NaN                 NaN    NaN         NaN   \n",
            "2                NaN           NaN                 NaN    NaN         NaN   \n",
            "3                NaN           NaN                 NaN    NaN         NaN   \n",
            "4                NaN           NaN                 NaN    NaN         NaN   \n",
            "...              ...           ...                 ...    ...         ...   \n",
            "7583             NaN           NaN                 NaN    NaN         NaN   \n",
            "7584             NaN           NaN                 NaN    NaN         NaN   \n",
            "7585             NaN           NaN                 NaN    NaN         NaN   \n",
            "7586             NaN           NaN                 NaN    NaN         NaN   \n",
            "7587             NaN           NaN                 NaN    NaN         NaN   \n",
            "\n",
            "h2                                                title  \n",
            "0     Bicycle paths replaces Cycling trails as prefe...  \n",
            "1     Biochemicals replaces Biochemical products as ...  \n",
            "2     Coasts replaces Coastlands as preferred term i...  \n",
            "3     Cultural groups replaces Cultural minorities a...  \n",
            "4     Demining replaces Mine clearing as preferred t...  \n",
            "...                                                 ...  \n",
            "7583                                   Evitement fiscal  \n",
            "7584                                 Evenement culturel  \n",
            "7585                                  Evenement sportif  \n",
            "7586                                        Etre humain  \n",
            "7587                                          uvre dart  \n",
            "\n",
            "[7588 rows x 11 columns]\n"
          ]
        }
      ]
    },
    {
      "cell_type": "code",
      "source": [
        "output_dir = \"csv_files\"\n",
        "i = 1\n",
        "while os.path.exists(output_dir):\n",
        "    output_dir = f\"csv_files_{i}\"\n",
        "    i += 1\n",
        "os.makedirs(output_dir)\n",
        "\n",
        "# Iterate through each group (title) and export to CSV\n",
        "for title, group_data in pivoted_df.groupby('title'):\n",
        "    file_name = f\"{title}.csv\"  #\n",
        "    file_path = os.path.join(output_dir, file_name)\n",
        "    group_data.to_csv(file_path, index=False)\n",
        "\n",
        "print(f\"CSV files exported to: {output_dir}\")"
      ],
      "metadata": {
        "colab": {
          "base_uri": "https://localhost:8080/"
        },
        "id": "9TjdNFdce9iQ",
        "outputId": "4615e5b3-52f7-4b5d-e47f-2566aa262cf3"
      },
      "execution_count": 89,
      "outputs": [
        {
          "output_type": "stream",
          "name": "stdout",
          "text": [
            "CSV files exported to: csv_files_5\n"
          ]
        }
      ]
    },
    {
      "cell_type": "code",
      "source": [
        "# Create a new directory for Markdown files with a unique name\n",
        "dir_name = \"markdown_files\"\n",
        "i = 1\n",
        "while os.path.exists(dir_name):\n",
        "    dir_name = f\"markdown_files_{i}\"\n",
        "    i += 1\n",
        "os.makedirs(dir_name)\n",
        "\n",
        "def create_markdown_file(row):\n",
        "    title = row['title']\n",
        "    file_name = os.path.join(dir_name, f\"{title}.md\")\n",
        "    markdown_content = f\"---\\ntitle: {title}\\nalias: {row['longTitle']}\\n---\\n\\n\"\n",
        "    for column in pivoted_df.columns:\n",
        "        if column not in ['title', 'longTitle'] and pd.notna(row[column]) and row[column] != '':\n",
        "            markdown_content += f\"{column}\\n\\n{row[column]}  \\n\\n\"\n",
        "    with open(file_name, \"w\") as f:\n",
        "        f.write(markdown_content)\n",
        "\n",
        "pivoted_df.apply(create_markdown_file, axis=1)\n",
        "\n",
        "print(f\"Markdown files created successfully in directory: {dir_name}\")"
      ],
      "metadata": {
        "colab": {
          "base_uri": "https://localhost:8080/"
        },
        "id": "3Pewv8_KkqoQ",
        "outputId": "d35d2f23-5305-4267-968c-f0f9ad328be9"
      },
      "execution_count": 102,
      "outputs": [
        {
          "output_type": "stream",
          "name": "stdout",
          "text": [
            "Markdown files created successfully in directory: markdown_files_19\n"
          ]
        }
      ]
    },
    {
      "cell_type": "code",
      "source": [
        "# Create a zip file of the markdown directory\n",
        "def zip_directory(directory_path, zip_file_path):\n",
        "    with zipfile.ZipFile(zip_file_path, 'w') as zipf:\n",
        "        for root, _, files in os.walk(directory_path):\n",
        "            for file in files:\n",
        "                file_path = os.path.join(root, file)\n",
        "                arcname = os.path.relpath(file_path, directory_path)\n",
        "                zipf.write(file_path, arcname=arcname)\n",
        "\n",
        "# Zip the 'markdown_files' directory\n",
        "zip_directory(dir_name, 'markdown_files.zip')\n",
        "\n",
        "print(f\"Markdown files zipped to: markdown_files.zip\")"
      ],
      "metadata": {
        "colab": {
          "base_uri": "https://localhost:8080/"
        },
        "id": "yUiOPOWInkWU",
        "outputId": "24e6556d-1ac1-42a9-92b4-42b38bc5ca0c"
      },
      "execution_count": 79,
      "outputs": [
        {
          "output_type": "stream",
          "name": "stdout",
          "text": [
            "Markdown files zipped to: markdown_files.zip\n"
          ]
        }
      ]
    }
  ]
}