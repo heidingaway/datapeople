{
  "nbformat": 4,
  "nbformat_minor": 0,
  "metadata": {
    "colab": {
      "provenance": [],
      "authorship_tag": "ABX9TyPK8YeNCMgDbpMnjr+wT3sp",
      "include_colab_link": true
    },
    "kernelspec": {
      "name": "python3",
      "display_name": "Python 3"
    },
    "language_info": {
      "name": "python"
    }
  },
  "cells": [
    {
      "cell_type": "markdown",
      "metadata": {
        "id": "view-in-github",
        "colab_type": "text"
      },
      "source": [
        "<a href=\"https://colab.research.google.com/github/heidingaway/datapeople/blob/main/GCThesaurus.ipynb\" target=\"_parent\"><img src=\"https://colab.research.google.com/assets/colab-badge.svg\" alt=\"Open In Colab\"/></a>"
      ]
    },
    {
      "cell_type": "code",
      "source": [
        "import pandas as pd\n",
        "import os\n",
        "import zipfile\n",
        "import yaml\n",
        "import re\n",
        "import unicodedata\n",
        "import hashlib"
      ],
      "metadata": {
        "id": "R3eMDEo0AGB1"
      },
      "execution_count": 189,
      "outputs": []
    },
    {
      "cell_type": "code",
      "execution_count": 190,
      "metadata": {
        "id": "6o7v1_-E_9Wt",
        "colab": {
          "base_uri": "https://localhost:8080/"
        },
        "outputId": "e9c9c35e-88a2-4e68-9434-2623e1e9987b"
      },
      "outputs": [
        {
          "output_type": "stream",
          "name": "stdout",
          "text": [
            "                          subject predicate                object\n",
            "0               2-spirited people       Use     Two-spirit people\n",
            "1               2019-nCoV disease       Use  Coronavirus diseases\n",
            "2  2019 novel coronavirus disease       Use  Coronavirus diseases\n",
            "3                 2SLGBTQ+ people       Use      2SLGBTQI+ people\n",
            "4                2SLGBTQI+ people    French    Personne 2ELGBTQI+\n",
            "subject      22146\n",
            "predicate    22146\n",
            "object       22146\n",
            "dtype: int64\n"
          ]
        }
      ],
      "source": [
        "## Link to CSV\n",
        "\n",
        "src = \"https://canada.multites.net/cst/EAEAD1E6-7DD2-4997-BE7F-40BFB1CBE8A2/CST20240911.csv\"\n",
        "\n",
        "# Create the DataFrame from all the retrieved records\n",
        "df = pd.read_csv(src)\n",
        "\n",
        "# Add column names\n",
        "df.columns = ['subject', 'predicate', 'object']\n",
        "\n",
        "# Display the DataFrame\n",
        "print(df.head())\n",
        "print(df.count())"
      ]
    },
    {
      "cell_type": "code",
      "source": [
        "# Reset index with drop=True to avoid creating a new 'index' or 'level_0' column\n",
        "df = df.reset_index(drop=True)\n",
        "\n",
        "# Create a new column 'identifier' using the index number\n",
        "df['identifier'] = df.index.astype(str) # Use index as identifier\n",
        "\n",
        "# Use the apply method with a lambda function to modify the column content\n",
        "# Include identifier in linkedsubject using f-string\n",
        "df['linkedsubject'] = df.apply(lambda row: f\"{row['identifier']} {row['subject']}\", axis=1)\n",
        "\n",
        "# identify long title\n",
        "df = df.rename(columns={'object': 'longTitle', 'predicate': 'h2'}).sort_values(by='longTitle', ascending=False)\n",
        "\n",
        "def to_lower_camel_case(text):\n",
        "    \"\"\"Converts a string to lowerCamelCase.\"\"\"\n",
        "    cleaned_text = re.sub(r'[^a-zA-Z0-9]', ' ', text).lower()\n",
        "    camel_case = ''.join(word.capitalize() if i > 0 else word for i, word in enumerate(cleaned_text.split()))\n",
        "    return camel_case[0].lower() + camel_case[1:]\n",
        "\n",
        "# Iterate through the DataFrame and update 'h2' column\n",
        "for index, row in df.iterrows():\n",
        "    original_term = row['h2']\n",
        "    camel_case_term = to_lower_camel_case(original_term)\n",
        "    df.loc[index, 'h2'] = camel_case_term  # Update the value directly\n",
        "\n",
        "# Now df['h2'] contains the updated terms in lowerCamelCase\n",
        "print(df.head())\n",
        "\n",
        "# Display the modified DataFrame\n",
        "print(df.head())"
      ],
      "metadata": {
        "colab": {
          "base_uri": "https://localhost:8080/"
        },
        "id": "lSc71cPTLeXv",
        "outputId": "2506e354-305b-45ef-9f6c-91b9aecbdd93"
      },
      "execution_count": 191,
      "outputs": [
        {
          "output_type": "stream",
          "name": "stdout",
          "text": [
            "               subject      h2           longTitle identifier  \\\n",
            "1475         Art works  french         Œuvre d'art       1475   \n",
            "10161     Human beings  french         Être humain      10161   \n",
            "19251    Sports events  french   Événement sportif      19251   \n",
            "4635   Cultural events  french  Événement culturel       4635   \n",
            "19712    Tax avoidance  french    Évitement fiscal      19712   \n",
            "\n",
            "              linkedsubject  \n",
            "1475         1475 Art works  \n",
            "10161    10161 Human beings  \n",
            "19251   19251 Sports events  \n",
            "4635   4635 Cultural events  \n",
            "19712   19712 Tax avoidance  \n",
            "               subject      h2           longTitle identifier  \\\n",
            "1475         Art works  french         Œuvre d'art       1475   \n",
            "10161     Human beings  french         Être humain      10161   \n",
            "19251    Sports events  french   Événement sportif      19251   \n",
            "4635   Cultural events  french  Événement culturel       4635   \n",
            "19712    Tax avoidance  french    Évitement fiscal      19712   \n",
            "\n",
            "              linkedsubject  \n",
            "1475         1475 Art works  \n",
            "10161    10161 Human beings  \n",
            "19251   19251 Sports events  \n",
            "4635   4635 Cultural events  \n",
            "19712   19712 Tax avoidance  \n"
          ]
        }
      ]
    },
    {
      "cell_type": "code",
      "source": [
        "cleandf = df.drop(['subject', 'identifier'], axis=1)\n",
        "print(cleandf.head())\n",
        "\n",
        "print(cleandf['h2'].unique())"
      ],
      "metadata": {
        "colab": {
          "base_uri": "https://localhost:8080/"
        },
        "id": "O1EbjUqOcuJZ",
        "outputId": "07a5afc4-4abf-45f2-de17-8416dff346dd"
      },
      "execution_count": 192,
      "outputs": [
        {
          "output_type": "stream",
          "name": "stdout",
          "text": [
            "           h2           longTitle         linkedsubject\n",
            "1475   french         Œuvre d'art        1475 Art works\n",
            "10161  french         Être humain    10161 Human beings\n",
            "19251  french   Événement sportif   19251 Sports events\n",
            "4635   french  Événement culturel  4635 Cultural events\n",
            "19712  french    Évitement fiscal   19712 Tax avoidance\n",
            "['french' 'usedFor' 'broaderTerm' 'relatedTerm' 'use' 'narrowerTerm'\n",
            " 'scopeNote' 'historyNote' 'subjectCategory']\n"
          ]
        }
      ]
    },
    {
      "cell_type": "code",
      "source": [
        "# Before pivoting, reset the index and make \"identifier\" a column instead of the index.\n",
        "pivoted_df = cleandf.pivot_table(\n",
        "    index='longTitle',\n",
        "    columns='h2',\n",
        "    values='linkedsubject',\n",
        "    aggfunc=lambda x: '; '.join(x.dropna().astype(str)) # Changed aggfunc to join values\n",
        ")\n",
        "\n",
        "# Reset index to make 'longTitle' a column again\n",
        "pivoted_df = pivoted_df.reset_index()\n",
        "\n",
        "# Function to remove accents and special characters from a string\n",
        "def clean_title(text):\n",
        "    text = unicodedata.normalize('NFKD', text).encode('ascii', 'ignore').decode('ascii') # Remove accents\n",
        "    text = re.sub(r\"[^a-zA-Z0-9 ]\", \"\", text) # Remove special characters except spaces\n",
        "    text = text[:50]  # Truncate to 50 characters if longer\n",
        "    return text\n",
        "\n",
        "# Apply cleaning function to the 'title' column\n",
        "pivoted_df['title'] = pivoted_df['longTitle'].apply(clean_title)\n",
        "\n",
        "print(pivoted_df)"
      ],
      "metadata": {
        "colab": {
          "base_uri": "https://localhost:8080/"
        },
        "id": "kdrT1pwue4f_",
        "outputId": "ffa99232-72aa-4f50-b7c2-093a8e7c0745"
      },
      "execution_count": 193,
      "outputs": [
        {
          "output_type": "stream",
          "name": "stdout",
          "text": [
            "h2                                            longTitle broaderTerm  \\\n",
            "0     \"Bicycle paths\" replaces \"Cycling trails\" as p...         NaN   \n",
            "1     \"Biochemicals\" replaces \"Biochemical products\"...         NaN   \n",
            "2     \"Coasts\" replaces \"Coastlands\" as preferred te...         NaN   \n",
            "3     \"Cultural groups\" replaces \"Cultural minoritie...         NaN   \n",
            "4     \"Demining\" replaces \"Mine clearing\" as preferr...         NaN   \n",
            "...                                                 ...         ...   \n",
            "7583                                   Évitement fiscal         NaN   \n",
            "7584                                 Événement culturel         NaN   \n",
            "7585                                  Événement sportif         NaN   \n",
            "7586                                        Être humain         NaN   \n",
            "7587                                        Œuvre d'art         NaN   \n",
            "\n",
            "h2                  french                                     historyNote  \\\n",
            "0                      NaN         4789 Cycling trails; 2016 Bicycle paths   \n",
            "1                      NaN    2090 Biochemicals; 2082 Biochemical products   \n",
            "2                      NaN                    3430 Coastlands; 3436 Coasts   \n",
            "3                      NaN  4646 Cultural groups; 4688 Cultural minorities   \n",
            "4                      NaN              5079 Demining; 13705 Mine clearing   \n",
            "...                    ...                                             ...   \n",
            "7583   19712 Tax avoidance                                             NaN   \n",
            "7584  4635 Cultural events                                             NaN   \n",
            "7585   19251 Sports events                                             NaN   \n",
            "7586    10161 Human beings                                             NaN   \n",
            "7587        1475 Art works                                             NaN   \n",
            "\n",
            "h2   narrowerTerm relatedTerm scopeNote subjectCategory  use usedFor  \\\n",
            "0             NaN         NaN       NaN             NaN  NaN     NaN   \n",
            "1             NaN         NaN       NaN             NaN  NaN     NaN   \n",
            "2             NaN         NaN       NaN             NaN  NaN     NaN   \n",
            "3             NaN         NaN       NaN             NaN  NaN     NaN   \n",
            "4             NaN         NaN       NaN             NaN  NaN     NaN   \n",
            "...           ...         ...       ...             ...  ...     ...   \n",
            "7583          NaN         NaN       NaN             NaN  NaN     NaN   \n",
            "7584          NaN         NaN       NaN             NaN  NaN     NaN   \n",
            "7585          NaN         NaN       NaN             NaN  NaN     NaN   \n",
            "7586          NaN         NaN       NaN             NaN  NaN     NaN   \n",
            "7587          NaN         NaN       NaN             NaN  NaN     NaN   \n",
            "\n",
            "h2                                                title  \n",
            "0     Bicycle paths replaces Cycling trails as prefe...  \n",
            "1     Biochemicals replaces Biochemical products as ...  \n",
            "2     Coasts replaces Coastlands as preferred term i...  \n",
            "3     Cultural groups replaces Cultural minorities a...  \n",
            "4     Demining replaces Mine clearing as preferred t...  \n",
            "...                                                 ...  \n",
            "7583                                   Evitement fiscal  \n",
            "7584                                 Evenement culturel  \n",
            "7585                                  Evenement sportif  \n",
            "7586                                        Etre humain  \n",
            "7587                                          uvre dart  \n",
            "\n",
            "[7588 rows x 11 columns]\n"
          ]
        }
      ]
    },
    {
      "cell_type": "code",
      "source": [
        "output_dir = \"csv_files\"\n",
        "i = 1\n",
        "while os.path.exists(output_dir):\n",
        "    output_dir = f\"csv_files_{i}\"\n",
        "    i += 1\n",
        "os.makedirs(output_dir)\n",
        "\n",
        "# Iterate through each group (title) and export to CSV\n",
        "for title, group_data in pivoted_df.groupby('title'):\n",
        "    file_name = f\"{title}.csv\"  #\n",
        "    file_path = os.path.join(output_dir, file_name)\n",
        "    group_data.to_csv(file_path, index=False)\n",
        "\n",
        "print(f\"CSV files exported to: {output_dir}\")"
      ],
      "metadata": {
        "colab": {
          "base_uri": "https://localhost:8080/"
        },
        "id": "9TjdNFdce9iQ",
        "outputId": "c00ad7d7-522f-47ed-812c-a7a5a8e7a821"
      },
      "execution_count": 194,
      "outputs": [
        {
          "output_type": "stream",
          "name": "stdout",
          "text": [
            "CSV files exported to: csv_files_17\n"
          ]
        }
      ]
    },
    {
      "cell_type": "code",
      "source": [
        "# Preformat for Markdown links\n",
        "for column in pivoted_df.columns:\n",
        "    # Check if column is not in the list ['title', 'longTitle']\n",
        "    if column not in ['title', 'longTitle']:\n",
        "        pivoted_df[column] = pivoted_df[column].astype(str).apply(lambda x: '- \"[[' + x.replace('; ', ']]\"\\n- \"[[') + ']]\"' if x not in ['', 'nan'] else x)\n",
        "        # We check for empty strings and \"nan\" and skip transformation if found\n",
        "\n",
        "print(pivoted_df.sort_values(by=['broaderTerm']))"
      ],
      "metadata": {
        "colab": {
          "base_uri": "https://localhost:8080/"
        },
        "id": "N-JIH41MiSJJ",
        "outputId": "6bac91ea-9725-4516-bb63-34642aeae38a"
      },
      "execution_count": 195,
      "outputs": [
        {
          "output_type": "stream",
          "name": "stdout",
          "text": [
            "h2                         longTitle  \\\n",
            "4092                       Livestock   \n",
            "970                       Businesses   \n",
            "6384                 Social problems   \n",
            "356             Alternative medicine   \n",
            "4999                      Parliament   \n",
            "...                              ...   \n",
            "2605  Federal territorial agreements   \n",
            "2604                   Federal taxes   \n",
            "2603                Federal services   \n",
            "2601            Federal publications   \n",
            "7587                     Œuvre d'art   \n",
            "\n",
            "h2                                          broaderTerm  \\\n",
            "4092  - \"[[10000 Hogs]]\"\\n- \"[[2873 Cattle]]\"\\n- \"[[...   \n",
            "970   - \"[[10010 Home-based businesses]]\"\\n- \"[[8466...   \n",
            "6384  - \"[[10043 Homelessness]]\"\\n- \"[[5375 Discrimi...   \n",
            "356                            - \"[[10049 Homeopathy]]\"   \n",
            "4999  - \"[[10100 House of Commons]]\"\\n- \"[[18525 Sen...   \n",
            "...                                                 ...   \n",
            "2605                                                nan   \n",
            "2604                                                nan   \n",
            "2603                                                nan   \n",
            "2601                                                nan   \n",
            "7587                                                nan   \n",
            "\n",
            "h2                    french historyNote                 narrowerTerm  \\\n",
            "4092                     nan         nan         - \"[[1113 Animals]]\"   \n",
            "970                      nan         nan  - \"[[15107 Organizations]]\"   \n",
            "6384                     nan         nan                          nan   \n",
            "356                      nan         nan       - \"[[13337 Medicine]]\"   \n",
            "4999                     nan         nan                          nan   \n",
            "...                      ...         ...                          ...   \n",
            "2605                     nan         nan       - \"[[401 Agreements]]\"   \n",
            "2604                     nan         nan          - \"[[19773 Taxes]]\"   \n",
            "2603                     nan         nan                          nan   \n",
            "2601                     nan         nan                          nan   \n",
            "7587  - \"[[1475 Art works]]\"         nan                          nan   \n",
            "\n",
            "h2                                          relatedTerm scopeNote  \\\n",
            "4092  - \"[[16162 Poultry]]\"\\n- \"[[12867 Manure]]\"\\n-...       nan   \n",
            "970   - \"[[19551 Suppliers]]\"\\n- \"[[6768 Entrepreneu...       nan   \n",
            "6384  - \"[[18926 Social issues]]\"\\n- \"[[19029 Social...       nan   \n",
            "356                      - \"[[13329 Medicinal plants]]\"       nan   \n",
            "4999  - \"[[16364 Prime Minister]]\"\\n- \"[[13373 Membe...       nan   \n",
            "...                                                 ...       ...   \n",
            "2605  - \"[[20071 Territorial governments]]\"\\n- \"[[75...       nan   \n",
            "2604                                                nan       nan   \n",
            "2603                                                nan       nan   \n",
            "2601                                                nan       nan   \n",
            "7587                                                nan       nan   \n",
            "\n",
            "h2   subjectCategory                                                use  \\\n",
            "4092             nan      - \"[[7424 Farm animals]]\"\\n- \"[[9866 Herds]]\"   \n",
            "970              nan  - \"[[2519 Business enterprises]]\"\\n- \"[[6751 E...   \n",
            "6384             nan                                                nan   \n",
            "356              nan                        - \"[[19062 Soft medicine]]\"   \n",
            "4999             nan  - \"[[15298 Parliament of Canada]]\"\\n- \"[[2705 ...   \n",
            "...              ...                                                ...   \n",
            "2605             nan                                                nan   \n",
            "2604             nan                                                nan   \n",
            "2603             nan                                                nan   \n",
            "2601             nan                                                nan   \n",
            "7587             nan                                                nan   \n",
            "\n",
            "h2                                 usedFor                           title  \n",
            "4092                                   nan                       Livestock  \n",
            "970                                    nan                      Businesses  \n",
            "6384                                   nan                 Social problems  \n",
            "356                                    nan            Alternative medicine  \n",
            "4999                                   nan                      Parliament  \n",
            "...                                    ...                             ...  \n",
            "2605                                   nan  Federal territorial agreements  \n",
            "2604                                   nan                   Federal taxes  \n",
            "2603      - \"[[9242 Government services]]\"                Federal services  \n",
            "2601  - \"[[9231 Government publications]]\"            Federal publications  \n",
            "7587                                   nan                       uvre dart  \n",
            "\n",
            "[7588 rows x 11 columns]\n"
          ]
        }
      ]
    },
    {
      "cell_type": "code",
      "source": [
        "# Create a new directory for Markdown files with a unique name\n",
        "dir_name = \"markdown_files\"\n",
        "i = 1\n",
        "while os.path.exists(dir_name):\n",
        "    dir_name = f\"markdown_files_{i}\"\n",
        "    i += 1\n",
        "os.makedirs(dir_name)\n",
        "\n",
        "# Function to create markdown content with bullet points\n",
        "def create_markdown_content(row):\n",
        "    markdown_content = f\"---\\ntitle: {row['title']}\\nalias: {row['longTitle']}\\n\"\n",
        "    for column in pivoted_df.columns:\n",
        "        if column not in ['title', 'longTitle'] and row[column] != 'nan':\n",
        "            markdown_content += f\"\\n{column}:\\n\" # property name\n",
        "            markdown_content += f\"{row[column]}\"  # Add the bulleted content\n",
        "    markdown_content += \"\\n---\"  # Add the separator at the end\n",
        "    return markdown_content\n",
        "\n",
        "# Create the markdown files\n",
        "def create_markdown_file(row):  # Define a function to create individual files\n",
        "    file_name = os.path.join(dir_name, f\"{row['title']}.md\")\n",
        "    with open(file_name, \"w\") as f:\n",
        "        f.write(create_markdown_content(row))\n",
        "\n",
        "pivoted_df.apply(create_markdown_file, axis=1)  # Apply to pivoted_df\n",
        "\n",
        "print(f\"Markdown files created successfully in directory: {dir_name}\")"
      ],
      "metadata": {
        "colab": {
          "base_uri": "https://localhost:8080/"
        },
        "id": "3Pewv8_KkqoQ",
        "outputId": "3ef88f2d-70a8-4227-ffa8-38801f63adf7"
      },
      "execution_count": 196,
      "outputs": [
        {
          "output_type": "stream",
          "name": "stdout",
          "text": [
            "Markdown files created successfully in directory: markdown_files_20\n"
          ]
        }
      ]
    },
    {
      "cell_type": "code",
      "source": [
        "# Create a zip file of the markdown directory\n",
        "def zip_directory(directory_path, zip_file_path):\n",
        "    with zipfile.ZipFile(zip_file_path, 'w') as zipf:\n",
        "        for root, _, files in os.walk(directory_path):\n",
        "            for file in files:\n",
        "                file_path = os.path.join(root, file)\n",
        "                arcname = os.path.relpath(file_path, directory_path)\n",
        "                zipf.write(file_path, arcname=arcname)\n",
        "\n",
        "# Zip the 'markdown_files' directory\n",
        "zip_directory(dir_name, 'markdown_files.zip')\n",
        "\n",
        "print(f\"Markdown files zipped to: markdown_files.zip\")"
      ],
      "metadata": {
        "colab": {
          "base_uri": "https://localhost:8080/"
        },
        "id": "yUiOPOWInkWU",
        "outputId": "9fbc638d-8d82-4074-fd63-352f170fe0c5"
      },
      "execution_count": 197,
      "outputs": [
        {
          "output_type": "stream",
          "name": "stdout",
          "text": [
            "Markdown files zipped to: markdown_files.zip\n"
          ]
        }
      ]
    }
  ]
}