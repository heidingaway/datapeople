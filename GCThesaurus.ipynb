{
  "nbformat": 4,
  "nbformat_minor": 0,
  "metadata": {
    "colab": {
      "provenance": [],
      "authorship_tag": "ABX9TyPuLrMgT0ylrAcp16Fj+sQW",
      "include_colab_link": true
    },
    "kernelspec": {
      "name": "python3",
      "display_name": "Python 3"
    },
    "language_info": {
      "name": "python"
    }
  },
  "cells": [
    {
      "cell_type": "markdown",
      "metadata": {
        "id": "view-in-github",
        "colab_type": "text"
      },
      "source": [
        "<a href=\"https://colab.research.google.com/github/heidingaway/datapeople/blob/main/GCThesaurus.ipynb\" target=\"_parent\"><img src=\"https://colab.research.google.com/assets/colab-badge.svg\" alt=\"Open In Colab\"/></a>"
      ]
    },
    {
      "cell_type": "code",
      "source": [
        "import pandas as pd\n",
        "import os\n",
        "import zipfile\n",
        "import yaml\n",
        "import re\n",
        "import unicodedata"
      ],
      "metadata": {
        "id": "R3eMDEo0AGB1"
      },
      "execution_count": 113,
      "outputs": []
    },
    {
      "cell_type": "code",
      "execution_count": 114,
      "metadata": {
        "id": "6o7v1_-E_9Wt"
      },
      "outputs": [],
      "source": [
        "## Link to CSV\n",
        "\n",
        "src = \"https://canada.multites.net/cst/EAEAD1E6-7DD2-4997-BE7F-40BFB1CBE8A2/CST20240911.csv\"\n",
        "\n",
        "# Create the DataFrame from all the retrieved records\n",
        "df = pd.read_csv(src)\n",
        "\n",
        "# Add column names\n",
        "df.columns = ['subject', 'predicate', 'object']"
      ]
    },
    {
      "cell_type": "code",
      "source": [
        "# Create the DataFrame from all the retrieved records\n",
        "print(df.head())"
      ],
      "metadata": {
        "colab": {
          "base_uri": "https://localhost:8080/"
        },
        "id": "se-o8fz8ACok",
        "outputId": "0e79385f-712d-441a-db46-e5216d200adf"
      },
      "execution_count": 115,
      "outputs": [
        {
          "output_type": "stream",
          "name": "stdout",
          "text": [
            "                          subject predicate                object\n",
            "0               2-spirited people       Use     Two-spirit people\n",
            "1               2019-nCoV disease       Use  Coronavirus diseases\n",
            "2  2019 novel coronavirus disease       Use  Coronavirus diseases\n",
            "3                 2SLGBTQ+ people       Use      2SLGBTQI+ people\n",
            "4                2SLGBTQI+ people    French    Personne 2ELGBTQI+\n"
          ]
        }
      ]
    },
    {
      "cell_type": "code",
      "source": [
        "# Define the strings you want to add\n",
        "prefix = \"[[\"\n",
        "suffix = \"]]\"\n",
        "\n",
        "# Use the apply method with a lambda function to modify the column content\n",
        "df['linkedsubject'] = df['subject'].apply(lambda x: f\"{prefix}{x}{suffix}\")\n",
        "\n",
        "# Define the headings you want to add\n",
        "heading2 = \"## \"\n",
        "\n",
        "# Use the apply method with a lambda function to modify the column content\n",
        "df['h2'] = df['predicate'].apply(lambda x: f\"{heading2}{x}\")\n",
        "\n",
        "# identify title\n",
        "df = df.rename(columns={'object': 'title'})\n",
        "\n",
        "# Display the modified DataFrame\n",
        "print(df.head())"
      ],
      "metadata": {
        "colab": {
          "base_uri": "https://localhost:8080/"
        },
        "id": "lSc71cPTLeXv",
        "outputId": "27ff1ce1-e007-42a4-8f5c-67f75834522a"
      },
      "execution_count": 116,
      "outputs": [
        {
          "output_type": "stream",
          "name": "stdout",
          "text": [
            "                          subject predicate                 title  \\\n",
            "0               2-spirited people       Use     Two-spirit people   \n",
            "1               2019-nCoV disease       Use  Coronavirus diseases   \n",
            "2  2019 novel coronavirus disease       Use  Coronavirus diseases   \n",
            "3                 2SLGBTQ+ people       Use      2SLGBTQI+ people   \n",
            "4                2SLGBTQI+ people    French    Personne 2ELGBTQI+   \n",
            "\n",
            "                        linkedsubject         h2  \n",
            "0               [[2-spirited people]]     ## Use  \n",
            "1               [[2019-nCoV disease]]     ## Use  \n",
            "2  [[2019 novel coronavirus disease]]     ## Use  \n",
            "3                 [[2SLGBTQ+ people]]     ## Use  \n",
            "4                [[2SLGBTQI+ people]]  ## French  \n"
          ]
        }
      ]
    },
    {
      "cell_type": "code",
      "source": [
        "# Group by 'h2' and then 'title' in a single groupby operation\n",
        "grouped = df.groupby(['h2', 'title'])\n",
        "\n",
        "# Print the sorted results\n",
        "print(grouped.head().sort_values(by='title', ascending=True))"
      ],
      "metadata": {
        "colab": {
          "base_uri": "https://localhost:8080/"
        },
        "id": "5rpgrfu8BYVU",
        "outputId": "13764d8e-97cb-4e73-8493-8abbad77b79a"
      },
      "execution_count": 117,
      "outputs": [
        {
          "output_type": "stream",
          "name": "stdout",
          "text": [
            "                    subject     predicate  \\\n",
            "4789         Cycling trails  History note   \n",
            "2016          Bicycle paths  History note   \n",
            "2082   Biochemical products  History note   \n",
            "2090           Biochemicals  History note   \n",
            "3436                 Coasts  History note   \n",
            "...                     ...           ...   \n",
            "19712         Tax avoidance        French   \n",
            "4635        Cultural events        French   \n",
            "19251         Sports events        French   \n",
            "10161          Human beings        French   \n",
            "1475              Art works        French   \n",
            "\n",
            "                                                   title  \\\n",
            "4789   \"Bicycle paths\" replaces \"Cycling trails\" as p...   \n",
            "2016   \"Bicycle paths\" replaces \"Cycling trails\" as p...   \n",
            "2082   \"Biochemicals\" replaces \"Biochemical products\"...   \n",
            "2090   \"Biochemicals\" replaces \"Biochemical products\"...   \n",
            "3436   \"Coasts\" replaces \"Coastlands\" as preferred te...   \n",
            "...                                                  ...   \n",
            "19712                                   Évitement fiscal   \n",
            "4635                                  Événement culturel   \n",
            "19251                                  Événement sportif   \n",
            "10161                                        Être humain   \n",
            "1475                                         Œuvre d'art   \n",
            "\n",
            "                  linkedsubject               h2  \n",
            "4789         [[Cycling trails]]  ## History note  \n",
            "2016          [[Bicycle paths]]  ## History note  \n",
            "2082   [[Biochemical products]]  ## History note  \n",
            "2090           [[Biochemicals]]  ## History note  \n",
            "3436                 [[Coasts]]  ## History note  \n",
            "...                         ...              ...  \n",
            "19712         [[Tax avoidance]]        ## French  \n",
            "4635        [[Cultural events]]        ## French  \n",
            "19251         [[Sports events]]        ## French  \n",
            "10161          [[Human beings]]        ## French  \n",
            "1475              [[Art works]]        ## French  \n",
            "\n",
            "[15035 rows x 5 columns]\n"
          ]
        }
      ]
    },
    {
      "cell_type": "code",
      "source": [
        "# Create a directory to store the CSV files\n",
        "output_dir = 'csv_files8'  # Name of the directory\n",
        "os.makedirs(output_dir, exist_ok=True)  # Create the directory if it doesn't exist\n",
        "\n",
        "# Save as csv, using the title column for file names (sanitized)\n",
        "def save_to_csv(x):\n",
        "    # Get the 'title' from the first row of the group\n",
        "    title = x['title'].iloc[0]\n",
        "\n",
        "    # Sanitize the title to create a safe file name\n",
        "    file_name = \"\".join([c for c in title if c.isalnum() or c in \"._- \"]).rstrip()[:100] + \".csv\"  # Limit to 100 characters\n",
        "\n",
        "    # Create the full file path\n",
        "    file_path = os.path.join(output_dir, file_name)\n",
        "\n",
        "    # Check if file already exists, add a counter if needed\n",
        "    counter = 1\n",
        "    while os.path.exists(file_path):\n",
        "        file_name = \"\".join([c for c in title if c.isalnum() or c in \"._- \"]).rstrip()[:100] + f\"_{counter}.csv\"\n",
        "        file_path = os.path.join(output_dir, file_name)\n",
        "        counter += 1\n",
        "\n",
        "    x.to_csv(file_path, index=False)\n",
        "\n",
        "grouped.apply(save_to_csv)\n",
        "print(f\"DataFrame saved to multiple files in '{output_dir}' directory\")"
      ],
      "metadata": {
        "colab": {
          "base_uri": "https://localhost:8080/"
        },
        "id": "UyFQzorVEvtK",
        "outputId": "70c9c5d9-2b4d-4c87-af3d-7f0e950f8591"
      },
      "execution_count": 118,
      "outputs": [
        {
          "output_type": "stream",
          "name": "stdout",
          "text": [
            "DataFrame saved to multiple files in 'csv_files8' directory\n"
          ]
        },
        {
          "output_type": "stream",
          "name": "stderr",
          "text": [
            "<ipython-input-118-07f27c7900f6>:25: DeprecationWarning: DataFrameGroupBy.apply operated on the grouping columns. This behavior is deprecated, and in a future version of pandas the grouping columns will be excluded from the operation. Either pass `include_groups=False` to exclude the groupings or explicitly select the grouping columns after groupby to silence this warning.\n",
            "  grouped.apply(save_to_csv)\n"
          ]
        }
      ]
    }
  ]
}