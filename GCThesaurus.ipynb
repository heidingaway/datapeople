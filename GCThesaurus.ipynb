{
  "nbformat": 4,
  "nbformat_minor": 0,
  "metadata": {
    "colab": {
      "provenance": [],
      "authorship_tag": "ABX9TyO1Z+hbfddCJOpSCnlRRJOr",
      "include_colab_link": true
    },
    "kernelspec": {
      "name": "python3",
      "display_name": "Python 3"
    },
    "language_info": {
      "name": "python"
    }
  },
  "cells": [
    {
      "cell_type": "markdown",
      "metadata": {
        "id": "view-in-github",
        "colab_type": "text"
      },
      "source": [
        "<a href=\"https://colab.research.google.com/github/heidingaway/datapeople/blob/main/GCThesaurus.ipynb\" target=\"_parent\"><img src=\"https://colab.research.google.com/assets/colab-badge.svg\" alt=\"Open In Colab\"/></a>"
      ]
    },
    {
      "cell_type": "code",
      "source": [
        "import pandas as pd\n",
        "import os\n",
        "import zipfile\n",
        "import yaml\n",
        "import re\n",
        "import unicodedata\n",
        "import hashlib"
      ],
      "metadata": {
        "id": "R3eMDEo0AGB1"
      },
      "execution_count": null,
      "outputs": []
    },
    {
      "cell_type": "code",
      "execution_count": null,
      "metadata": {
        "id": "6o7v1_-E_9Wt",
        "colab": {
          "base_uri": "https://localhost:8080/"
        },
        "outputId": "ac9eae36-b465-44ce-9a11-2c6f83994667"
      },
      "outputs": [
        {
          "output_type": "stream",
          "name": "stdout",
          "text": [
            "                          subject predicate                object\n",
            "0               2-spirited people       Use     Two-spirit people\n",
            "1               2019-nCoV disease       Use  Coronavirus diseases\n",
            "2  2019 novel coronavirus disease       Use  Coronavirus diseases\n",
            "3                 2SLGBTQ+ people       Use      2SLGBTQI+ people\n",
            "4                2SLGBTQI+ people    French    Personne 2ELGBTQI+\n"
          ]
        }
      ],
      "source": [
        "## Link to CSV\n",
        "\n",
        "src = \"https://canada.multites.net/cst/EAEAD1E6-7DD2-4997-BE7F-40BFB1CBE8A2/CST20240911.csv\"\n",
        "\n",
        "# Create the DataFrame from all the retrieved records\n",
        "df = pd.read_csv(src)\n",
        "\n",
        "# Add column names\n",
        "df.columns = ['subject', 'predicate', 'object']\n",
        "\n",
        "# Display the DataFrame\n",
        "print(df.head())"
      ]
    },
    {
      "cell_type": "code",
      "source": [
        "# Define the strings you want to add\n",
        "prefix = \"[[\"\n",
        "suffix = \"]]\"\n",
        "\n",
        "# Use the apply method with a lambda function to modify the column content\n",
        "df['linkedsubject'] = df['subject'].apply(lambda x: f\"{prefix}{x}{suffix}\")\n",
        "\n",
        "# Define the headings you want to add\n",
        "heading2 = \"## \"\n",
        "\n",
        "# Use the apply method with a lambda function to modify the column content\n",
        "df['h2'] = df['predicate'].apply(lambda x: f\"{heading2}{x}\")\n",
        "\n",
        "# identify title\n",
        "df = df.rename(columns={'object': 'longTitle'}).sort_values(by='longTitle', ascending=False)\n",
        "\n",
        "# Display the modified DataFrame\n",
        "print(df.head())"
      ],
      "metadata": {
        "colab": {
          "base_uri": "https://localhost:8080/"
        },
        "id": "lSc71cPTLeXv",
        "outputId": "5792983a-d6fe-4772-bc4d-6b6bb1fedc5d"
      },
      "execution_count": null,
      "outputs": [
        {
          "output_type": "stream",
          "name": "stdout",
          "text": [
            "               subject predicate           longTitle        linkedsubject  \\\n",
            "1475         Art works    French         Œuvre d'art        [[Art works]]   \n",
            "10161     Human beings    French         Être humain     [[Human beings]]   \n",
            "19251    Sports events    French   Événement sportif    [[Sports events]]   \n",
            "4635   Cultural events    French  Événement culturel  [[Cultural events]]   \n",
            "19712    Tax avoidance    French    Évitement fiscal    [[Tax avoidance]]   \n",
            "\n",
            "              h2  \n",
            "1475   ## French  \n",
            "10161  ## French  \n",
            "19251  ## French  \n",
            "4635   ## French  \n",
            "19712  ## French  \n"
          ]
        }
      ]
    },
    {
      "cell_type": "code",
      "source": [
        "cleandf = df.drop(['subject','predicate'], axis=1)\n",
        "print(cleandf.head())"
      ],
      "metadata": {
        "colab": {
          "base_uri": "https://localhost:8080/"
        },
        "id": "O1EbjUqOcuJZ",
        "outputId": "c57d9dc0-a772-43ec-ec62-0acd54aad6b8"
      },
      "execution_count": null,
      "outputs": [
        {
          "output_type": "stream",
          "name": "stdout",
          "text": [
            "                longTitle        linkedsubject         h2\n",
            "1475          Œuvre d'art        [[Art works]]  ## French\n",
            "10161         Être humain     [[Human beings]]  ## French\n",
            "19251   Événement sportif    [[Sports events]]  ## French\n",
            "4635   Événement culturel  [[Cultural events]]  ## French\n",
            "19712    Évitement fiscal    [[Tax avoidance]]  ## French\n"
          ]
        }
      ]
    },
    {
      "cell_type": "code",
      "source": [
        "# Group by 'title' and 'h2' and aggregate 'linkedsubject' with comma separation\n",
        "grouped_df = cleandf.groupby(['longTitle', 'h2'])['linkedsubject'].apply(lambda x: ', '.join(x)).reset_index()\n",
        "\n",
        "# Pivot the grouped DataFrame\n",
        "pivoted_df = grouped_df.pivot(index='longTitle', columns='h2', values='linkedsubject').reset_index()\n",
        "\n",
        "# Function to remove accents and special characters from a string\n",
        "def clean_title(text):\n",
        "    text = unicodedata.normalize('NFKD', text).encode('ascii', 'ignore').decode('ascii') # Remove accents\n",
        "    text = re.sub(r\"[^a-zA-Z0-9 ]\", \"\", text) # Remove special characters except spaces\n",
        "    text = text[:50]  # Truncate to 50 characters if longer\n",
        "    return text\n",
        "\n",
        "# Apply cleaning function to the 'title' column\n",
        "pivoted_df['title'] = pivoted_df['longTitle'].apply(clean_title)\n",
        "\n",
        "print(pivoted_df)"
      ],
      "metadata": {
        "colab": {
          "base_uri": "https://localhost:8080/"
        },
        "id": "kdrT1pwue4f_",
        "outputId": "484ec165-950c-4805-b064-35e266fe77e6"
      },
      "execution_count": null,
      "outputs": [
        {
          "output_type": "stream",
          "name": "stdout",
          "text": [
            "h2                                            longTitle ## Broader Term  \\\n",
            "0     \"Bicycle paths\" replaces \"Cycling trails\" as p...             NaN   \n",
            "1     \"Biochemicals\" replaces \"Biochemical products\"...             NaN   \n",
            "2     \"Coasts\" replaces \"Coastlands\" as preferred te...             NaN   \n",
            "3     \"Cultural groups\" replaces \"Cultural minoritie...             NaN   \n",
            "4     \"Demining\" replaces \"Mine clearing\" as preferr...             NaN   \n",
            "...                                                 ...             ...   \n",
            "7583                                   Évitement fiscal             NaN   \n",
            "7584                                 Événement culturel             NaN   \n",
            "7585                                  Événement sportif             NaN   \n",
            "7586                                        Être humain             NaN   \n",
            "7587                                        Œuvre d'art             NaN   \n",
            "\n",
            "h2              ## French                               ## History note  \\\n",
            "0                     NaN         [[Cycling trails]], [[Bicycle paths]]   \n",
            "1                     NaN    [[Biochemicals]], [[Biochemical products]]   \n",
            "2                     NaN                    [[Coastlands]], [[Coasts]]   \n",
            "3                     NaN  [[Cultural groups]], [[Cultural minorities]]   \n",
            "4                     NaN               [[Demining]], [[Mine clearing]]   \n",
            "...                   ...                                           ...   \n",
            "7583    [[Tax avoidance]]                                           NaN   \n",
            "7584  [[Cultural events]]                                           NaN   \n",
            "7585    [[Sports events]]                                           NaN   \n",
            "7586     [[Human beings]]                                           NaN   \n",
            "7587        [[Art works]]                                           NaN   \n",
            "\n",
            "h2   ## Narrower Term ## Related Term ## Scope Note ## Subject Category  \\\n",
            "0                 NaN             NaN           NaN                 NaN   \n",
            "1                 NaN             NaN           NaN                 NaN   \n",
            "2                 NaN             NaN           NaN                 NaN   \n",
            "3                 NaN             NaN           NaN                 NaN   \n",
            "4                 NaN             NaN           NaN                 NaN   \n",
            "...               ...             ...           ...                 ...   \n",
            "7583              NaN             NaN           NaN                 NaN   \n",
            "7584              NaN             NaN           NaN                 NaN   \n",
            "7585              NaN             NaN           NaN                 NaN   \n",
            "7586              NaN             NaN           NaN                 NaN   \n",
            "7587              NaN             NaN           NaN                 NaN   \n",
            "\n",
            "h2   ## Use ## Used For                                              title  \n",
            "0       NaN         NaN  Bicycle paths replaces Cycling trails as prefe...  \n",
            "1       NaN         NaN  Biochemicals replaces Biochemical products as ...  \n",
            "2       NaN         NaN  Coasts replaces Coastlands as preferred term i...  \n",
            "3       NaN         NaN  Cultural groups replaces Cultural minorities a...  \n",
            "4       NaN         NaN  Demining replaces Mine clearing as preferred t...  \n",
            "...     ...         ...                                                ...  \n",
            "7583    NaN         NaN                                   Evitement fiscal  \n",
            "7584    NaN         NaN                                 Evenement culturel  \n",
            "7585    NaN         NaN                                  Evenement sportif  \n",
            "7586    NaN         NaN                                        Etre humain  \n",
            "7587    NaN         NaN                                          uvre dart  \n",
            "\n",
            "[7588 rows x 11 columns]\n"
          ]
        }
      ]
    },
    {
      "cell_type": "code",
      "source": [
        "output_dir = \"csv_files\"\n",
        "i = 1\n",
        "while os.path.exists(output_dir):\n",
        "    output_dir = f\"csv_files_{i}\"\n",
        "    i += 1\n",
        "os.makedirs(output_dir)\n",
        "\n",
        "# Iterate through each group (title) and export to CSV\n",
        "for title, group_data in pivoted_df.groupby('title'):\n",
        "    file_name = f\"{title}.csv\"  #\n",
        "    file_path = os.path.join(output_dir, file_name)\n",
        "    group_data.to_csv(file_path, index=False)\n",
        "\n",
        "print(f\"CSV files exported to: {output_dir}\")"
      ],
      "metadata": {
        "colab": {
          "base_uri": "https://localhost:8080/"
        },
        "id": "9TjdNFdce9iQ",
        "outputId": "fa99e98d-fa85-4b2c-f1ca-26d2fadcdebf"
      },
      "execution_count": null,
      "outputs": [
        {
          "output_type": "stream",
          "name": "stdout",
          "text": [
            "CSV files exported to: csv_files_7\n"
          ]
        }
      ]
    },
    {
      "cell_type": "code",
      "source": [
        "# Create a new directory for Markdown files with a unique name\n",
        "dir_name = \"markdown_files\"\n",
        "i = 1\n",
        "while os.path.exists(dir_name):\n",
        "    dir_name = f\"markdown_files_{i}\"\n",
        "    i += 1\n",
        "os.makedirs(dir_name)\n",
        "\n",
        "def create_markdown_file(row):\n",
        "    title = row['title']\n",
        "    file_name = os.path.join(dir_name, f\"{title}.md\")\n",
        "    # Access the 'longTitle' column from the 'row' Series\n",
        "    markdown_content = f\"---\\ntitle: {title}\\nalias: {row['longTitle']}\\n---\\n\\n\"\n",
        "    for column in pivoted_df.columns:\n",
        "        if column not in ['title', 'longTitle'] and pd.notna(row[column]) and row[column] != '':\n",
        "            markdown_content += f\"{column}\\n\\n- {row[column]}\\n\\n\"\n",
        "    with open(file_name, \"w\") as f:\n",
        "        f.write(markdown_content)\n",
        "\n",
        "pivoted_df.apply(create_markdown_file, axis=1)\n",
        "\n",
        "print(f\"Markdown files created successfully in directory: {dir_name}\")"
      ],
      "metadata": {
        "colab": {
          "base_uri": "https://localhost:8080/"
        },
        "id": "3Pewv8_KkqoQ",
        "outputId": "8e781c65-bf11-4d2d-bddd-8b831b0dc14f"
      },
      "execution_count": 110,
      "outputs": [
        {
          "output_type": "stream",
          "name": "stdout",
          "text": [
            "Markdown files created successfully in directory: markdown_files_8\n"
          ]
        }
      ]
    },
    {
      "cell_type": "code",
      "source": [
        "# Create a zip file of the markdown directory\n",
        "def zip_directory(directory_path, zip_file_path):\n",
        "    with zipfile.ZipFile(zip_file_path, 'w') as zipf:\n",
        "        for root, _, files in os.walk(directory_path):\n",
        "            for file in files:\n",
        "                file_path = os.path.join(root, file)\n",
        "                arcname = os.path.relpath(file_path, directory_path)\n",
        "                zipf.write(file_path, arcname=arcname)\n",
        "\n",
        "# Zip the 'markdown_files' directory\n",
        "zip_directory(dir_name, 'markdown_files.zip')\n",
        "\n",
        "print(f\"Markdown files zipped to: markdown_files.zip\")"
      ],
      "metadata": {
        "colab": {
          "base_uri": "https://localhost:8080/"
        },
        "id": "yUiOPOWInkWU",
        "outputId": "98fed98c-8e3b-49ee-be75-7bb5f0464a36"
      },
      "execution_count": 111,
      "outputs": [
        {
          "output_type": "stream",
          "name": "stdout",
          "text": [
            "Markdown files zipped to: markdown_files.zip\n"
          ]
        }
      ]
    }
  ]
}