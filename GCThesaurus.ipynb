{
  "nbformat": 4,
  "nbformat_minor": 0,
  "metadata": {
    "colab": {
      "provenance": [],
      "authorship_tag": "ABX9TyPOckzgC13pJIK7eOIuEGL3",
      "include_colab_link": true
    },
    "kernelspec": {
      "name": "python3",
      "display_name": "Python 3"
    },
    "language_info": {
      "name": "python"
    }
  },
  "cells": [
    {
      "cell_type": "markdown",
      "metadata": {
        "id": "view-in-github",
        "colab_type": "text"
      },
      "source": [
        "<a href=\"https://colab.research.google.com/github/heidingaway/datapeople/blob/main/GCThesaurus.ipynb\" target=\"_parent\"><img src=\"https://colab.research.google.com/assets/colab-badge.svg\" alt=\"Open In Colab\"/></a>"
      ]
    },
    {
      "cell_type": "code",
      "execution_count": 554,
      "metadata": {
        "id": "DNPWiol9wrwX"
      },
      "outputs": [],
      "source": [
        "import pandas as pd\n",
        "import os\n",
        "import zipfile\n",
        "import yaml\n",
        "import re\n",
        "import unicodedata\n",
        "import hashlib\n",
        "from pickle import DEFAULT_PROTOCOL\n",
        "\n",
        "def to_lower_camel_case(text):\n",
        "    # Split the text into words based on underscores\n",
        "    text = text.split(' ')\n",
        "    # Convert the first word to lowercase and the rest to title case, then join them\n",
        "    camel_case = text[0].lower() + ''.join(text.title() for text in text[1:])\n",
        "    return camel_case\n",
        "\n",
        "def quote_scope_note(text):\n",
        "    \"\"\"Quotes the text with single or double quotes based on its content.\"\"\"\n",
        "    if pd.notna(text):\n",
        "        if '\"' in text:  # If double quotes are present, use single quotes\n",
        "            return f\"'{text}'\"\n",
        "        else:  # Otherwise, use double quotes\n",
        "            return f'\"{text}\"'\n",
        "    else:\n",
        "        return text\n"
      ]
    },
    {
      "cell_type": "code",
      "source": [
        "## Link to CSV\n",
        "\n",
        "src = \"https://canada.multites.net/cst/EAEAD1E6-7DD2-4997-BE7F-40BFB1CBE8A2/CST20240911.csv\"\n",
        "\n",
        "# Create the DataFrame from all the retrieved records\n",
        "df = pd.read_csv(src)\n",
        "\n",
        "# Add column names\n",
        "df.columns = ['object', 'predicate', 'subject']"
      ],
      "metadata": {
        "id": "dfD_LsOFwwbA"
      },
      "execution_count": 555,
      "outputs": []
    },
    {
      "cell_type": "code",
      "source": [
        "print(df.head())"
      ],
      "metadata": {
        "colab": {
          "base_uri": "https://localhost:8080/"
        },
        "id": "vUjT9-lHwzUr",
        "outputId": "c7c55002-28a3-44f0-d32c-8fa50c797287"
      },
      "execution_count": 556,
      "outputs": [
        {
          "output_type": "stream",
          "name": "stdout",
          "text": [
            "                           object predicate               subject\n",
            "0               2-spirited people       Use     Two-spirit people\n",
            "1               2019-nCoV disease       Use  Coronavirus diseases\n",
            "2  2019 novel coronavirus disease       Use  Coronavirus diseases\n",
            "3                 2SLGBTQ+ people       Use      2SLGBTQI+ people\n",
            "4                2SLGBTQI+ people    French    Personne 2ELGBTQI+\n"
          ]
        }
      ]
    },
    {
      "cell_type": "code",
      "source": [
        "related_df = df[df['predicate'] == 'Related Term'].reset_index(drop=True)\n",
        "related_df = df[df['predicate'] == 'Related Term'].reset_index(drop=True)\n",
        "related_df = df[df['predicate'] == 'Related Term'].reset_index(drop=True)\n",
        "related_df = related_df.rename(columns={'object': 'relatedTerm', 'subject': 'longTitle'})\n",
        "\n",
        "related_df['relatedTerm'] = related_df['relatedTerm'].apply(lambda x: f\"\\\"[[{x}]]\\\"\" if pd.notna(x) else x)\n",
        "print(related_df)\n",
        "\n",
        "grouped_related_df = related_df.groupby('longTitle')['relatedTerm'].apply(lambda x: ','.join(x.astype(str))).reset_index()\n",
        "print(grouped_related_df)\n",
        "\n",
        "grouped_related_df['relatedTerm'] = grouped_related_df['relatedTerm'].apply(lambda x: f\"[{x}]\" if pd.notna(x) else x)\n",
        "print(grouped_related_df)"
      ],
      "metadata": {
        "colab": {
          "base_uri": "https://localhost:8080/"
        },
        "id": "P-7NRDwXrtQq",
        "outputId": "037e573a-5596-4121-e706-58e8c9339652"
      },
      "execution_count": 557,
      "outputs": [
        {
          "output_type": "stream",
          "name": "stdout",
          "text": [
            "                      relatedTerm     predicate          longTitle\n",
            "0             \"[[Abbreviations]]\"  Related Term        Terminology\n",
            "1                  \"[[Abortion]]\"  Related Term          Bioethics\n",
            "2                  \"[[Abortion]]\"  Related Term          Pregnancy\n",
            "3       \"[[Access to education]]\"  Related Term          Education\n",
            "4     \"[[Access to information]]\"  Related Term         Censorship\n",
            "...                           ...           ...                ...\n",
            "5165                  \"[[Youth]]\"  Related Term       Young adults\n",
            "5166     \"[[Zoological gardens]]\"  Related Term            Animals\n",
            "5167     \"[[Zoological gardens]]\"  Related Term  Protected species\n",
            "5168                \"[[Zoology]]\"  Related Term    Animal research\n",
            "5169                \"[[Zoology]]\"  Related Term            Animals\n",
            "\n",
            "[5170 rows x 3 columns]\n",
            "                  longTitle                                        relatedTerm\n",
            "0            AIDS (disease)  \"[[Sexually transmitted diseases]]\",\"[[Viruses]]\"\n",
            "1             Abbreviations                                  \"[[Terminology]]\"\n",
            "2                  Abortion                    \"[[Bioethics]]\",\"[[Pregnancy]]\"\n",
            "3       Access to education                                    \"[[Education]]\"\n",
            "4     Access to information  \"[[Censorship]]\",\"[[Confidentiality]]\",\"[[Free...\n",
            "...                     ...                                                ...\n",
            "1976           Young adults                        \"[[Adulthood]]\",\"[[Youth]]\"\n",
            "1977        Young offenders  \"[[Adolescents]]\",\"[[Correctional institutions...\n",
            "1978                  Youth  \"[[Adolescence]]\",\"[[Adolescents]]\",\"[[Young a...\n",
            "1979     Zoological gardens              \"[[Animals]]\",\"[[Protected species]]\"\n",
            "1980                Zoology                \"[[Animal research]]\",\"[[Animals]]\"\n",
            "\n",
            "[1981 rows x 2 columns]\n",
            "                  longTitle                                        relatedTerm\n",
            "0            AIDS (disease)  [\"[[Sexually transmitted diseases]]\",\"[[Viruse...\n",
            "1             Abbreviations                                [\"[[Terminology]]\"]\n",
            "2                  Abortion                  [\"[[Bioethics]]\",\"[[Pregnancy]]\"]\n",
            "3       Access to education                                  [\"[[Education]]\"]\n",
            "4     Access to information  [\"[[Censorship]]\",\"[[Confidentiality]]\",\"[[Fre...\n",
            "...                     ...                                                ...\n",
            "1976           Young adults                      [\"[[Adulthood]]\",\"[[Youth]]\"]\n",
            "1977        Young offenders  [\"[[Adolescents]]\",\"[[Correctional institution...\n",
            "1978                  Youth  [\"[[Adolescence]]\",\"[[Adolescents]]\",\"[[Young ...\n",
            "1979     Zoological gardens            [\"[[Animals]]\",\"[[Protected species]]\"]\n",
            "1980                Zoology              [\"[[Animal research]]\",\"[[Animals]]\"]\n",
            "\n",
            "[1981 rows x 2 columns]\n"
          ]
        }
      ]
    },
    {
      "cell_type": "code",
      "source": [
        "history_df = df[df['predicate'] == 'History note']\n",
        "history_df['subject'] = history_df['subject'].apply(quote_scope_note)\n",
        "\n",
        "print(history_df.head())"
      ],
      "metadata": {
        "colab": {
          "base_uri": "https://localhost:8080/"
        },
        "id": "MwHoBUsDYacB",
        "outputId": "9acb25bf-7752-4601-d3dd-646d0c526393"
      },
      "execution_count": 558,
      "outputs": [
        {
          "output_type": "stream",
          "name": "stdout",
          "text": [
            "                    object     predicate  \\\n",
            "296        Adverse effects  History note   \n",
            "680          Air transport  History note   \n",
            "2016         Bicycle paths  History note   \n",
            "2082  Biochemical products  History note   \n",
            "2090          Biochemicals  History note   \n",
            "\n",
            "                                                subject  \n",
            "296   '\"Side effects\" replaces \"Adverse effects\" as ...  \n",
            "680   'Before May 2007, \"Air transport\" is not used ...  \n",
            "2016  '\"Bicycle paths\" replaces \"Cycling trails\" as ...  \n",
            "2082  '\"Biochemicals\" replaces \"Biochemical products...  \n",
            "2090  '\"Biochemicals\" replaces \"Biochemical products...  \n"
          ]
        },
        {
          "output_type": "stream",
          "name": "stderr",
          "text": [
            "<ipython-input-558-02003f5b56ac>:2: SettingWithCopyWarning: \n",
            "A value is trying to be set on a copy of a slice from a DataFrame.\n",
            "Try using .loc[row_indexer,col_indexer] = value instead\n",
            "\n",
            "See the caveats in the documentation: https://pandas.pydata.org/pandas-docs/stable/user_guide/indexing.html#returning-a-view-versus-a-copy\n",
            "  history_df['subject'] = history_df['subject'].apply(quote_scope_note)\n"
          ]
        }
      ]
    },
    {
      "cell_type": "code",
      "source": [
        "use_df = df[df['predicate'] == 'Use']\n",
        "use_df = use_df.rename(columns={'object': 'aliases', 'subject': 'longTitle'})\n",
        "use_df = use_df.drop(columns=['predicate'])\n",
        "print(use_df)"
      ],
      "metadata": {
        "colab": {
          "base_uri": "https://localhost:8080/"
        },
        "outputId": "cfc8cb01-b103-450a-c57e-91f132a1f999",
        "id": "oxuKOKSZzbEO"
      },
      "execution_count": 559,
      "outputs": [
        {
          "output_type": "stream",
          "name": "stdout",
          "text": [
            "                              aliases             longTitle\n",
            "0                   2-spirited people     Two-spirit people\n",
            "1                   2019-nCoV disease  Coronavirus diseases\n",
            "2      2019 novel coronavirus disease  Coronavirus diseases\n",
            "3                     2SLGBTQ+ people      2SLGBTQI+ people\n",
            "25                          Abilities                Skills\n",
            "...                               ...                   ...\n",
            "22094                          Yeasts                 Fungi\n",
            "22095                          Yeasts        Microorganisms\n",
            "22129             Zoological research       Animal research\n",
            "22141                            Zoos    Zoological gardens\n",
            "22143                     Zootechnics      Animal husbandry\n",
            "\n",
            "[2716 rows x 2 columns]\n"
          ]
        }
      ]
    },
    {
      "cell_type": "code",
      "source": [
        "usefor_df = df[df['predicate'] == 'Used For']\n",
        "usefor_df= usefor_df.rename(columns={'subject': 'aliases', 'object': 'longTitle'})\n",
        "usefor_df = usefor_df.drop(columns=['predicate'])\n",
        "print(usefor_df)"
      ],
      "metadata": {
        "colab": {
          "base_uri": "https://localhost:8080/"
        },
        "id": "lZ3bFFYt0e84",
        "outputId": "66dd4348-f949-4d6d-e867-48c4d780156f"
      },
      "execution_count": 560,
      "outputs": [
        {
          "output_type": "stream",
          "name": "stdout",
          "text": [
            "                 longTitle                          aliases\n",
            "6         2SLGBTQI+ people                  2SLGBTQ+ people\n",
            "7         2SLGBTQI+ people                     LGBTI people\n",
            "8         2SLGBTQI+ people                    LGBTQ2 people\n",
            "9         2SLGBTQI+ people                   LGBTQ2+ people\n",
            "10        2SLGBTQI+ people                  LGBTQIA2 people\n",
            "...                    ...                              ...\n",
            "22062              Writing            Written communication\n",
            "22086  Xenotransplantation  Animal-to-human transplantation\n",
            "22109      Young offenders               Juvenile offenders\n",
            "22124   Zoological gardens                             Zoos\n",
            "22133              Zoology                  Animal sciences\n",
            "\n",
            "[2717 rows x 2 columns]\n"
          ]
        }
      ]
    },
    {
      "cell_type": "code",
      "source": [
        "appended_df = pd.concat([use_df, usefor_df], ignore_index=True).reset_index(drop=True)\n",
        "appended_df.drop_duplicates(inplace=True)\n",
        "\n",
        "print(appended_df)"
      ],
      "metadata": {
        "colab": {
          "base_uri": "https://localhost:8080/"
        },
        "id": "u3bFxQPSbivw",
        "outputId": "915b967a-d4e1-4d6b-c5c9-bbd1ab8fcdca"
      },
      "execution_count": 561,
      "outputs": [
        {
          "output_type": "stream",
          "name": "stdout",
          "text": [
            "                             aliases             longTitle\n",
            "0                  2-spirited people     Two-spirit people\n",
            "1                  2019-nCoV disease  Coronavirus diseases\n",
            "2     2019 novel coronavirus disease  Coronavirus diseases\n",
            "3                    2SLGBTQ+ people      2SLGBTQI+ people\n",
            "4                          Abilities                Skills\n",
            "...                              ...                   ...\n",
            "2712                          Yeasts        Microorganisms\n",
            "2713             Zoological research       Animal research\n",
            "2714                            Zoos    Zoological gardens\n",
            "2715                     Zootechnics      Animal husbandry\n",
            "5206                 2-spirit people     Two-spirit people\n",
            "\n",
            "[2717 rows x 2 columns]\n"
          ]
        }
      ]
    },
    {
      "cell_type": "code",
      "source": [
        "fr_df = df[df['predicate'] == 'French']\n",
        "fr_df = fr_df.rename(columns={'object': 'longTitle', 'subject': 'french'})\n",
        "fr_df = fr_df.drop(columns=['predicate'])\n",
        "fr_df.drop_duplicates(inplace=True)\n",
        "print(fr_df)"
      ],
      "metadata": {
        "colab": {
          "base_uri": "https://localhost:8080/"
        },
        "id": "ttkbstwx1hun",
        "outputId": "67db25ef-688d-4b25-8868-0593c0fa89be"
      },
      "execution_count": 562,
      "outputs": [
        {
          "output_type": "stream",
          "name": "stdout",
          "text": [
            "                   longTitle                 french\n",
            "4           2SLGBTQI+ people     Personne 2ELGBTQI+\n",
            "22             Abbreviations            Abréviation\n",
            "65                  Abortion             Avortement\n",
            "79       Access to education    Accès à l'éducation\n",
            "82     Access to information  Accès à l'information\n",
            "...                      ...                    ...\n",
            "22101           Young adults           Jeune adulte\n",
            "22108        Young offenders     Jeune contrevenant\n",
            "22117                  Youth               Jeunesse\n",
            "22123     Zoological gardens      Jardin zoologique\n",
            "22132                Zoology               Zoologie\n",
            "\n",
            "[2312 rows x 2 columns]\n"
          ]
        }
      ]
    },
    {
      "cell_type": "code",
      "source": [
        "merged_df = pd.merge(fr_df,appended_df, on='longTitle', how='left')\n",
        "\n",
        "# Remove duplicates based on all columns\n",
        "merged_df.drop_duplicates(inplace=True)\n",
        "merged_df['aliases'] = merged_df['aliases'].apply(lambda x: f'\"{x}\"' if pd.notna(x) else x) ## add quotes\n",
        "merged_df['french'] = merged_df['french'].apply(lambda x: f'\"{x}\"' if pd.notna(x) else x) ## add quotes\n",
        "# Print the merged DataFrame (now without duplicates)\n",
        "print(merged_df)"
      ],
      "metadata": {
        "colab": {
          "base_uri": "https://localhost:8080/"
        },
        "id": "aTXVDhHTQxqu",
        "outputId": "e247ea99-014a-42da-981f-c0f866458e90"
      },
      "execution_count": 563,
      "outputs": [
        {
          "output_type": "stream",
          "name": "stdout",
          "text": [
            "               longTitle                french               aliases\n",
            "0       2SLGBTQI+ people  \"Personne 2ELGBTQI+\"     \"2SLGBTQ+ people\"\n",
            "1       2SLGBTQI+ people  \"Personne 2ELGBTQI+\"        \"LGBTI people\"\n",
            "2       2SLGBTQI+ people  \"Personne 2ELGBTQI+\"       \"LGBTQ2 people\"\n",
            "3       2SLGBTQI+ people  \"Personne 2ELGBTQI+\"      \"LGBTQ2+ people\"\n",
            "4       2SLGBTQI+ people  \"Personne 2ELGBTQI+\"     \"LGBTQIA2 people\"\n",
            "...                  ...                   ...                   ...\n",
            "3909        Young adults        \"Jeune adulte\"                   NaN\n",
            "3910     Young offenders  \"Jeune contrevenant\"  \"Juvenile offenders\"\n",
            "3911               Youth            \"Jeunesse\"                   NaN\n",
            "3912  Zoological gardens   \"Jardin zoologique\"                \"Zoos\"\n",
            "3913             Zoology            \"Zoologie\"     \"Animal sciences\"\n",
            "\n",
            "[3914 rows x 3 columns]\n"
          ]
        }
      ]
    },
    {
      "cell_type": "code",
      "source": [
        "# Define a function to join non-empty values with comma\n",
        "def join_non_empty(values):\n",
        "    # Flatten the list if it contains nested lists\n",
        "    flat_values = []\n",
        "    for val in values:\n",
        "        if isinstance(val, list):\n",
        "            flat_values.extend(val)\n",
        "        else:\n",
        "            flat_values.append(val)\n",
        "\n",
        "    return ','.join([str(val) for val in flat_values if pd.notna(val) and val != ''])\n",
        "\n",
        "# Group by 'longTitle' and aggregate columns with comma separation, skipping empty values\n",
        "aliased_df = merged_df.groupby(['longTitle', 'french']).agg({\n",
        "    'aliases': join_non_empty,\n",
        "}).reset_index()\n",
        "\n",
        "# Create a new column with identifiers starting from 2025010221300\n",
        "start_id = 2025010221300\n",
        "aliased_df['identifier'] = pd.Series(range(start_id, start_id + len(aliased_df))).astype(str)\n",
        "aliased_df['identifier'] = aliased_df['identifier'].apply(lambda x: f'\"{x}\"' if pd.notna(x) else x)\n",
        "aliased_df['combined'] = aliased_df.apply(lambda row: join_non_empty([row['identifier'], row['french'], row['aliases']]), axis=1)  # Pass a single lis\n",
        "aliased_df['combined'] = aliased_df['combined'].apply(lambda x: f\"[{x}]\" if pd.notna(x) else x)\n",
        "aliased_df['french'] = merged_df['french'].apply(lambda x: f\"[{x}]\" if pd.notna(x) else x)\n",
        "# Print the grouped DataFrame\n",
        "print(aliased_df)"
      ],
      "metadata": {
        "colab": {
          "base_uri": "https://localhost:8080/"
        },
        "id": "J8hKQeptOm7q",
        "outputId": "9528d760-ca28-4eb5-fbb6-172bf80334c8"
      },
      "execution_count": 564,
      "outputs": [
        {
          "output_type": "stream",
          "name": "stdout",
          "text": [
            "                longTitle                         french  \\\n",
            "0        2SLGBTQI+ people         [\"Personne 2ELGBTQI+\"]   \n",
            "1          AIDS (disease)         [\"Personne 2ELGBTQI+\"]   \n",
            "2           Abbreviations         [\"Personne 2ELGBTQI+\"]   \n",
            "3                Abortion         [\"Personne 2ELGBTQI+\"]   \n",
            "4     Access to education         [\"Personne 2ELGBTQI+\"]   \n",
            "...                   ...                            ...   \n",
            "2307         Young adults          [\"Analyse de marché\"]   \n",
            "2308      Young offenders          [\"Analyse de marché\"]   \n",
            "2309                Youth  [\"Développement des marchés\"]   \n",
            "2310   Zoological gardens  [\"Développement des marchés\"]   \n",
            "2311              Zoology  [\"Développement des marchés\"]   \n",
            "\n",
            "                                                aliases       identifier  \\\n",
            "0     \"2SLGBTQ+ people\",\"LGBTI people\",\"LGBTQ2 peopl...  \"2025010221300\"   \n",
            "1     \"Acquired immune deficiency syndrome\",\"Acquire...  \"2025010221301\"   \n",
            "2                                                        \"2025010221302\"   \n",
            "3        \"Pregnancy termination\",\"Therapeutic abortion\"  \"2025010221303\"   \n",
            "4                                                        \"2025010221304\"   \n",
            "...                                                 ...              ...   \n",
            "2307                                                     \"2025010223607\"   \n",
            "2308                               \"Juvenile offenders\"  \"2025010223608\"   \n",
            "2309                                                     \"2025010223609\"   \n",
            "2310                                             \"Zoos\"  \"2025010223610\"   \n",
            "2311                                  \"Animal sciences\"  \"2025010223611\"   \n",
            "\n",
            "                                               combined  \n",
            "0     [\"2025010221300\",\"Personne 2ELGBTQI+\",\"2SLGBTQ...  \n",
            "1     [\"2025010221301\",\"Sida\",\"Acquired immune defic...  \n",
            "2                       [\"2025010221302\",\"Abréviation\"]  \n",
            "3     [\"2025010221303\",\"Avortement\",\"Pregnancy termi...  \n",
            "4               [\"2025010221304\",\"Accès à l'éducation\"]  \n",
            "...                                                 ...  \n",
            "2307                   [\"2025010223607\",\"Jeune adulte\"]  \n",
            "2308  [\"2025010223608\",\"Jeune contrevenant\",\"Juvenil...  \n",
            "2309                       [\"2025010223609\",\"Jeunesse\"]  \n",
            "2310       [\"2025010223610\",\"Jardin zoologique\",\"Zoos\"]  \n",
            "2311     [\"2025010223611\",\"Zoologie\",\"Animal sciences\"]  \n",
            "\n",
            "[2312 rows x 5 columns]\n"
          ]
        }
      ]
    },
    {
      "cell_type": "code",
      "source": [
        "# Merge history_df with appended_df, joining 'longTitle' and 'object'\n",
        "mergeh_df = pd.merge(aliased_df, history_df, left_on='longTitle', right_on='object', how='left')  # Changed left_on and right_on\n",
        "\n",
        "# Rename 'predicate' to 'historyNote' and drop 'object'\n",
        "mergeh_df = mergeh_df.drop(columns=['aliases'])\n",
        "mergeh_df = mergeh_df.rename(columns={'combined': 'aliases', 'subject': 'historyNote'})\n",
        "mergeh_df = mergeh_df.drop(columns=['object', 'predicate']) # Changed this line to drop 'object' and 'predicate' separately\n",
        "\n",
        "# Print the merged DataFrame\n",
        "print(mergeh_df)"
      ],
      "metadata": {
        "colab": {
          "base_uri": "https://localhost:8080/"
        },
        "id": "gtSqTWzBfCS5",
        "outputId": "4570df6f-f01d-448d-8b0a-7d3788377871"
      },
      "execution_count": 565,
      "outputs": [
        {
          "output_type": "stream",
          "name": "stdout",
          "text": [
            "                longTitle                         french       identifier  \\\n",
            "0        2SLGBTQI+ people         [\"Personne 2ELGBTQI+\"]  \"2025010221300\"   \n",
            "1          AIDS (disease)         [\"Personne 2ELGBTQI+\"]  \"2025010221301\"   \n",
            "2           Abbreviations         [\"Personne 2ELGBTQI+\"]  \"2025010221302\"   \n",
            "3                Abortion         [\"Personne 2ELGBTQI+\"]  \"2025010221303\"   \n",
            "4     Access to education         [\"Personne 2ELGBTQI+\"]  \"2025010221304\"   \n",
            "...                   ...                            ...              ...   \n",
            "2307         Young adults          [\"Analyse de marché\"]  \"2025010223607\"   \n",
            "2308      Young offenders          [\"Analyse de marché\"]  \"2025010223608\"   \n",
            "2309                Youth  [\"Développement des marchés\"]  \"2025010223609\"   \n",
            "2310   Zoological gardens  [\"Développement des marchés\"]  \"2025010223610\"   \n",
            "2311              Zoology  [\"Développement des marchés\"]  \"2025010223611\"   \n",
            "\n",
            "                                                aliases historyNote  \n",
            "0     [\"2025010221300\",\"Personne 2ELGBTQI+\",\"2SLGBTQ...         NaN  \n",
            "1     [\"2025010221301\",\"Sida\",\"Acquired immune defic...         NaN  \n",
            "2                       [\"2025010221302\",\"Abréviation\"]         NaN  \n",
            "3     [\"2025010221303\",\"Avortement\",\"Pregnancy termi...         NaN  \n",
            "4               [\"2025010221304\",\"Accès à l'éducation\"]         NaN  \n",
            "...                                                 ...         ...  \n",
            "2307                   [\"2025010223607\",\"Jeune adulte\"]         NaN  \n",
            "2308  [\"2025010223608\",\"Jeune contrevenant\",\"Juvenil...         NaN  \n",
            "2309                       [\"2025010223609\",\"Jeunesse\"]         NaN  \n",
            "2310       [\"2025010223610\",\"Jardin zoologique\",\"Zoos\"]         NaN  \n",
            "2311     [\"2025010223611\",\"Zoologie\",\"Animal sciences\"]         NaN  \n",
            "\n",
            "[2312 rows x 5 columns]\n"
          ]
        }
      ]
    },
    {
      "cell_type": "code",
      "source": [
        "scope_df = df[df['predicate'] == 'Scope Note']\n",
        "scope_df = scope_df.rename(columns={'object': 'longTitle', 'subject': 'scopeNote'})\n",
        "scope_df['scopeNote'] = scope_df['scopeNote'].apply(quote_scope_note)\n",
        "\n",
        "mergeds_df = pd.merge(mergeh_df, scope_df, on='longTitle', how='left')\n",
        "mergeds_df = mergeds_df.drop(columns=['predicate'])\n",
        "\n",
        "smergeds_df = pd.merge(mergeds_df, grouped_related_df, on='longTitle', how='left')\n",
        "\n",
        "# Print the merged DataFrame:\n",
        "print(smergeds_df)\n",
        "\n",
        "smergeds_df = pd.merge(mergeds_df, grouped_related_df, on='longTitle', how='left')\n",
        "\n",
        "# Print the merged DataFrame:\n",
        "print(smergeds_df)"
      ],
      "metadata": {
        "colab": {
          "base_uri": "https://localhost:8080/"
        },
        "id": "QqYOpXA6hgWd",
        "outputId": "92038b11-f342-4cd9-f8fe-a82ce50a7c9e"
      },
      "execution_count": 566,
      "outputs": [
        {
          "output_type": "stream",
          "name": "stdout",
          "text": [
            "                longTitle                         french       identifier  \\\n",
            "0        2SLGBTQI+ people         [\"Personne 2ELGBTQI+\"]  \"2025010221300\"   \n",
            "1          AIDS (disease)         [\"Personne 2ELGBTQI+\"]  \"2025010221301\"   \n",
            "2           Abbreviations         [\"Personne 2ELGBTQI+\"]  \"2025010221302\"   \n",
            "3                Abortion         [\"Personne 2ELGBTQI+\"]  \"2025010221303\"   \n",
            "4     Access to education         [\"Personne 2ELGBTQI+\"]  \"2025010221304\"   \n",
            "...                   ...                            ...              ...   \n",
            "2307         Young adults          [\"Analyse de marché\"]  \"2025010223607\"   \n",
            "2308      Young offenders          [\"Analyse de marché\"]  \"2025010223608\"   \n",
            "2309                Youth  [\"Développement des marchés\"]  \"2025010223609\"   \n",
            "2310   Zoological gardens  [\"Développement des marchés\"]  \"2025010223610\"   \n",
            "2311              Zoology  [\"Développement des marchés\"]  \"2025010223611\"   \n",
            "\n",
            "                                                aliases historyNote  \\\n",
            "0     [\"2025010221300\",\"Personne 2ELGBTQI+\",\"2SLGBTQ...         NaN   \n",
            "1     [\"2025010221301\",\"Sida\",\"Acquired immune defic...         NaN   \n",
            "2                       [\"2025010221302\",\"Abréviation\"]         NaN   \n",
            "3     [\"2025010221303\",\"Avortement\",\"Pregnancy termi...         NaN   \n",
            "4               [\"2025010221304\",\"Accès à l'éducation\"]         NaN   \n",
            "...                                                 ...         ...   \n",
            "2307                   [\"2025010223607\",\"Jeune adulte\"]         NaN   \n",
            "2308  [\"2025010223608\",\"Jeune contrevenant\",\"Juvenil...         NaN   \n",
            "2309                       [\"2025010223609\",\"Jeunesse\"]         NaN   \n",
            "2310       [\"2025010223610\",\"Jardin zoologique\",\"Zoos\"]         NaN   \n",
            "2311     [\"2025010223611\",\"Zoologie\",\"Animal sciences\"]         NaN   \n",
            "\n",
            "                                              scopeNote  \\\n",
            "0     \"Lesbian, Gay, Bisexual, Transgender, Queer, T...   \n",
            "1                                                   NaN   \n",
            "2                                                   NaN   \n",
            "3                                                   NaN   \n",
            "4                                                   NaN   \n",
            "...                                                 ...   \n",
            "2307                         \"Young people aged 20-34.\"   \n",
            "2308                                                NaN   \n",
            "2309                      \"Young people aged 15 to 24.\"   \n",
            "2310                                                NaN   \n",
            "2311                                                NaN   \n",
            "\n",
            "                                            relatedTerm  \n",
            "0                                                   NaN  \n",
            "1     [\"[[Sexually transmitted diseases]]\",\"[[Viruse...  \n",
            "2                                   [\"[[Terminology]]\"]  \n",
            "3                     [\"[[Bioethics]]\",\"[[Pregnancy]]\"]  \n",
            "4                                     [\"[[Education]]\"]  \n",
            "...                                                 ...  \n",
            "2307                      [\"[[Adulthood]]\",\"[[Youth]]\"]  \n",
            "2308  [\"[[Adolescents]]\",\"[[Correctional institution...  \n",
            "2309  [\"[[Adolescence]]\",\"[[Adolescents]]\",\"[[Young ...  \n",
            "2310            [\"[[Animals]]\",\"[[Protected species]]\"]  \n",
            "2311              [\"[[Animal research]]\",\"[[Animals]]\"]  \n",
            "\n",
            "[2312 rows x 7 columns]\n",
            "                longTitle                         french       identifier  \\\n",
            "0        2SLGBTQI+ people         [\"Personne 2ELGBTQI+\"]  \"2025010221300\"   \n",
            "1          AIDS (disease)         [\"Personne 2ELGBTQI+\"]  \"2025010221301\"   \n",
            "2           Abbreviations         [\"Personne 2ELGBTQI+\"]  \"2025010221302\"   \n",
            "3                Abortion         [\"Personne 2ELGBTQI+\"]  \"2025010221303\"   \n",
            "4     Access to education         [\"Personne 2ELGBTQI+\"]  \"2025010221304\"   \n",
            "...                   ...                            ...              ...   \n",
            "2307         Young adults          [\"Analyse de marché\"]  \"2025010223607\"   \n",
            "2308      Young offenders          [\"Analyse de marché\"]  \"2025010223608\"   \n",
            "2309                Youth  [\"Développement des marchés\"]  \"2025010223609\"   \n",
            "2310   Zoological gardens  [\"Développement des marchés\"]  \"2025010223610\"   \n",
            "2311              Zoology  [\"Développement des marchés\"]  \"2025010223611\"   \n",
            "\n",
            "                                                aliases historyNote  \\\n",
            "0     [\"2025010221300\",\"Personne 2ELGBTQI+\",\"2SLGBTQ...         NaN   \n",
            "1     [\"2025010221301\",\"Sida\",\"Acquired immune defic...         NaN   \n",
            "2                       [\"2025010221302\",\"Abréviation\"]         NaN   \n",
            "3     [\"2025010221303\",\"Avortement\",\"Pregnancy termi...         NaN   \n",
            "4               [\"2025010221304\",\"Accès à l'éducation\"]         NaN   \n",
            "...                                                 ...         ...   \n",
            "2307                   [\"2025010223607\",\"Jeune adulte\"]         NaN   \n",
            "2308  [\"2025010223608\",\"Jeune contrevenant\",\"Juvenil...         NaN   \n",
            "2309                       [\"2025010223609\",\"Jeunesse\"]         NaN   \n",
            "2310       [\"2025010223610\",\"Jardin zoologique\",\"Zoos\"]         NaN   \n",
            "2311     [\"2025010223611\",\"Zoologie\",\"Animal sciences\"]         NaN   \n",
            "\n",
            "                                              scopeNote  \\\n",
            "0     \"Lesbian, Gay, Bisexual, Transgender, Queer, T...   \n",
            "1                                                   NaN   \n",
            "2                                                   NaN   \n",
            "3                                                   NaN   \n",
            "4                                                   NaN   \n",
            "...                                                 ...   \n",
            "2307                         \"Young people aged 20-34.\"   \n",
            "2308                                                NaN   \n",
            "2309                      \"Young people aged 15 to 24.\"   \n",
            "2310                                                NaN   \n",
            "2311                                                NaN   \n",
            "\n",
            "                                            relatedTerm  \n",
            "0                                                   NaN  \n",
            "1     [\"[[Sexually transmitted diseases]]\",\"[[Viruse...  \n",
            "2                                   [\"[[Terminology]]\"]  \n",
            "3                     [\"[[Bioethics]]\",\"[[Pregnancy]]\"]  \n",
            "4                                     [\"[[Education]]\"]  \n",
            "...                                                 ...  \n",
            "2307                      [\"[[Adulthood]]\",\"[[Youth]]\"]  \n",
            "2308  [\"[[Adolescents]]\",\"[[Correctional institution...  \n",
            "2309  [\"[[Adolescence]]\",\"[[Adolescents]]\",\"[[Young ...  \n",
            "2310            [\"[[Animals]]\",\"[[Protected species]]\"]  \n",
            "2311              [\"[[Animal research]]\",\"[[Animals]]\"]  \n",
            "\n",
            "[2312 rows x 7 columns]\n"
          ]
        }
      ]
    },
    {
      "cell_type": "code",
      "source": [
        "nt_df = df[df['predicate'] == 'Narrower Term']\n",
        "nt_df = nt_df.rename(columns={'object': 'broaderTerm', 'subject': 'narrowerTerm'})\n",
        "nt_df = nt_df.drop(columns=['predicate'])\n",
        "\n",
        "print(nt_df)"
      ],
      "metadata": {
        "colab": {
          "base_uri": "https://localhost:8080/"
        },
        "id": "vHabuA592fBT",
        "outputId": "47eb5c5d-2fd7-4188-bab4-91375be7cd6a"
      },
      "execution_count": 567,
      "outputs": [
        {
          "output_type": "stream",
          "name": "stdout",
          "text": [
            "            broaderTerm                 narrowerTerm\n",
            "12     2SLGBTQI+ people               Asexual people\n",
            "13     2SLGBTQI+ people              Bisexual people\n",
            "14     2SLGBTQI+ people                   Gay people\n",
            "15     2SLGBTQI+ people  Gender-nonconforming people\n",
            "16     2SLGBTQI+ people              Intersex people\n",
            "...                 ...                          ...\n",
            "22065           Writing          Legislative writing\n",
            "22066           Writing            Technical writing\n",
            "22135           Zoology                   Entomology\n",
            "22136           Zoology                  Ichthyology\n",
            "22137           Zoology                  Ornithology\n",
            "\n",
            "[1267 rows x 2 columns]\n"
          ]
        }
      ]
    },
    {
      "cell_type": "code",
      "source": [
        "bt_df = df[df['predicate'] == 'Broader Term']\n",
        "bt_df = bt_df.rename(columns={'object': 'narrowerTerm', 'subject': 'broaderTerm'})\n",
        "bt_df = bt_df.drop(columns=['predicate'])\n",
        "\n",
        "print(bt_df)"
      ],
      "metadata": {
        "colab": {
          "base_uri": "https://localhost:8080/"
        },
        "id": "pTinLuff47CN",
        "outputId": "2830821d-ba70-4610-b922-348c20d7530c"
      },
      "execution_count": 568,
      "outputs": [
        {
          "output_type": "stream",
          "name": "stdout",
          "text": [
            "                                      narrowerTerm                 broaderTerm\n",
            "11                                2SLGBTQI+ people                  Minorities\n",
            "102    Accessibility for persons with disabilities               Accessibility\n",
            "109                           Accessible transport                   Transport\n",
            "115                            Accident prevention                  Prevention\n",
            "140                                     Accounting           Business services\n",
            "...                                            ...                         ...\n",
            "22087                          Xenotransplantation  Transplantation (Medicine)\n",
            "22099                                       Yogurt              Dairy products\n",
            "22103                                 Young adults                      Adults\n",
            "22125                           Zoological gardens     Recreational facilities\n",
            "22134                                      Zoology                     Biology\n",
            "\n",
            "[1267 rows x 2 columns]\n"
          ]
        }
      ]
    },
    {
      "cell_type": "code",
      "source": [
        "ntbt_df = pd.concat([bt_df, nt_df])\n",
        "ntbt_df = ntbt_df.drop_duplicates()\n",
        "\n",
        "print(ntbt_df)"
      ],
      "metadata": {
        "colab": {
          "base_uri": "https://localhost:8080/"
        },
        "id": "o1ESQi2T5vGy",
        "outputId": "d16777ed-1212-4c39-a155-234ccd1cff94"
      },
      "execution_count": 569,
      "outputs": [
        {
          "output_type": "stream",
          "name": "stdout",
          "text": [
            "                                      narrowerTerm                 broaderTerm\n",
            "11                                2SLGBTQI+ people                  Minorities\n",
            "102    Accessibility for persons with disabilities               Accessibility\n",
            "109                           Accessible transport                   Transport\n",
            "115                            Accident prevention                  Prevention\n",
            "140                                     Accounting           Business services\n",
            "...                                            ...                         ...\n",
            "22087                          Xenotransplantation  Transplantation (Medicine)\n",
            "22099                                       Yogurt              Dairy products\n",
            "22103                                 Young adults                      Adults\n",
            "22125                           Zoological gardens     Recreational facilities\n",
            "22134                                      Zoology                     Biology\n",
            "\n",
            "[1267 rows x 2 columns]\n"
          ]
        }
      ]
    },
    {
      "cell_type": "code",
      "source": [
        "# Unpivot the DataFrame\n",
        "unpivoted_df = pd.melt(ntbt_df, value_vars=['narrowerTerm', 'broaderTerm'], var_name='term_type', value_name='term')\n",
        "\n",
        "# Remove duplicate rows\n",
        "unpivoted_df.drop_duplicates(subset=['term'], inplace=True)\n",
        "\n",
        "print(unpivoted_df)"
      ],
      "metadata": {
        "colab": {
          "base_uri": "https://localhost:8080/"
        },
        "outputId": "02aca5bf-f89c-4c63-df89-91cc61ff01aa",
        "id": "OTh3gqG9U47W"
      },
      "execution_count": 570,
      "outputs": [
        {
          "output_type": "stream",
          "name": "stdout",
          "text": [
            "         term_type                                         term\n",
            "0     narrowerTerm                             2SLGBTQI+ people\n",
            "1     narrowerTerm  Accessibility for persons with disabilities\n",
            "2     narrowerTerm                         Accessible transport\n",
            "3     narrowerTerm                          Accident prevention\n",
            "4     narrowerTerm                                   Accounting\n",
            "...            ...                                          ...\n",
            "2439   broaderTerm                        Railway installations\n",
            "2454   broaderTerm                                    Radiation\n",
            "2479   broaderTerm                               Rehabilitation\n",
            "2485   broaderTerm                                    Monuments\n",
            "2506   broaderTerm                       Assistive technologies\n",
            "\n",
            "[1438 rows x 2 columns]\n"
          ]
        }
      ]
    },
    {
      "cell_type": "code",
      "source": [
        "# Perform the join\n",
        "joined_df = pd.merge(unpivoted_df, aliased_df[['longTitle', 'french', 'combined']], left_on='term', right_on='longTitle', how='left')\n",
        "\n",
        "# Drop the 'longTitle' column from the joined DataFrame (if you don't need it)\n",
        "joined_df = joined_df.drop(columns=['term_type'])\n",
        "\n",
        "print(joined_df)"
      ],
      "metadata": {
        "colab": {
          "base_uri": "https://localhost:8080/"
        },
        "id": "mVEGdCtzVJjJ",
        "outputId": "5f457ea3-3a29-45b9-d8ab-c89b1accbfb7"
      },
      "execution_count": 571,
      "outputs": [
        {
          "output_type": "stream",
          "name": "stdout",
          "text": [
            "                                             term  \\\n",
            "0                                2SLGBTQI+ people   \n",
            "1     Accessibility for persons with disabilities   \n",
            "2                            Accessible transport   \n",
            "3                             Accident prevention   \n",
            "4                                      Accounting   \n",
            "...                                           ...   \n",
            "1433                        Railway installations   \n",
            "1434                                    Radiation   \n",
            "1435                               Rehabilitation   \n",
            "1436                                    Monuments   \n",
            "1437                       Assistive technologies   \n",
            "\n",
            "                                        longTitle  \\\n",
            "0                                2SLGBTQI+ people   \n",
            "1     Accessibility for persons with disabilities   \n",
            "2                            Accessible transport   \n",
            "3                             Accident prevention   \n",
            "4                                      Accounting   \n",
            "...                                           ...   \n",
            "1433                        Railway installations   \n",
            "1434                                    Radiation   \n",
            "1435                               Rehabilitation   \n",
            "1436                                    Monuments   \n",
            "1437                       Assistive technologies   \n",
            "\n",
            "                                           french  \\\n",
            "0                          [\"Personne 2ELGBTQI+\"]   \n",
            "1                                  [\"Avortement\"]   \n",
            "2                         [\"Accès à l'éducation\"]   \n",
            "3                       [\"Accès à l'information\"]   \n",
            "4     [\"Accessibilité aux personnes handicapées\"]   \n",
            "...                                           ...   \n",
            "1433                      [\"Économie domestique\"]   \n",
            "1434       [\"Données hydrométriques historiques\"]   \n",
            "1435                      [\"Traite de personnes\"]   \n",
            "1436                   [\"Salubrité des aliments\"]   \n",
            "1437                           [\"Forces alliées\"]   \n",
            "\n",
            "                                               combined  \n",
            "0     [\"2025010221300\",\"Personne 2ELGBTQI+\",\"2SLGBTQ...  \n",
            "1     [\"2025010221307\",\"Accessibilité aux personnes ...  \n",
            "2              [\"2025010221308\",\"Transport accessible\"]  \n",
            "3          [\"2025010221309\",\"Prévention des accidents\"]  \n",
            "4        [\"2025010221312\",\"Comptabilité\",\"Bookkeeping\"]  \n",
            "...                                                 ...  \n",
            "1433     [\"2025010223080\",\"Installations ferroviaires\"]  \n",
            "1434                    [\"2025010223071\",\"Rayonnement\"]  \n",
            "1435                   [\"2025010223120\",\"Réadaptation\"]  \n",
            "1436  [\"2025010222734\",\"Monument\",\"Historic monument...  \n",
            "1437  [\"2025010221448\",\"Technologie d'aide\",\"Adaptiv...  \n",
            "\n",
            "[1438 rows x 4 columns]\n"
          ]
        }
      ]
    },
    {
      "cell_type": "code",
      "source": [
        "subcat_df = df[df['predicate'] == 'Subject Category']\n",
        "subcat_df = subcat_df.rename(columns={'object': 'longTitle', 'subject': 'subcat'})\n",
        "subcat_df = subcat_df.drop(columns=['predicate'])\n",
        "\n",
        "print(subcat_df)"
      ],
      "metadata": {
        "colab": {
          "base_uri": "https://localhost:8080/"
        },
        "id": "5KkGPO6p6Og5",
        "outputId": "08354f24-231f-471e-838b-11767622cca3"
      },
      "execution_count": 572,
      "outputs": [
        {
          "output_type": "stream",
          "name": "stdout",
          "text": [
            "                 longTitle                       subcat\n",
            "21        2SLGBTQI+ people       SO Society and Culture\n",
            "24           Abbreviations  LN Language and Linguistics\n",
            "26               Abilities                 PR Processes\n",
            "28      Aboriginal affairs   GV Government and Politics\n",
            "29      Aboriginal affairs       SO Society and Culture\n",
            "...                    ...                          ...\n",
            "22131  Zoological research    ST Science and Technology\n",
            "22140              Zoology    ST Science and Technology\n",
            "22142                 Zoos    NE Nature and Environment\n",
            "22144          Zootechnics               AG Agriculture\n",
            "22145          Zootechnics    NE Nature and Environment\n",
            "\n",
            "[6306 rows x 2 columns]\n"
          ]
        }
      ]
    },
    {
      "cell_type": "code",
      "source": [
        "filtered_subcat_df = subcat_df[subcat_df['longTitle'].isin(ntbt_df['broaderTerm'])]\n",
        "new_df = filtered_subcat_df.sort_values(by=['subcat']).copy().reset_index(drop=True)\n",
        "print(new_df)"
      ],
      "metadata": {
        "colab": {
          "base_uri": "https://localhost:8080/"
        },
        "id": "kHuUv_8G7jUu",
        "outputId": "7a8adef2-1559-4fac-e706-e5657d0a7c0d"
      },
      "execution_count": 573,
      "outputs": [
        {
          "output_type": "stream",
          "name": "stdout",
          "text": [
            "                 longTitle                      subcat\n",
            "0              Visual arts  AA Arts, Music, Literature\n",
            "1          Performing arts  AA Arts, Music, Literature\n",
            "2                     Arts  AA Arts, Music, Literature\n",
            "3         Public buildings  AA Arts, Music, Literature\n",
            "4                 Drawings  AA Arts, Music, Literature\n",
            "..                     ...                         ...\n",
            "508     Navigation systems                TR Transport\n",
            "509   Marine installations                TR Transport\n",
            "510         Motor vehicles                TR Transport\n",
            "511               Vehicles                TR Transport\n",
            "512  Transportation safety                TR Transport\n",
            "\n",
            "[513 rows x 2 columns]\n"
          ]
        }
      ]
    },
    {
      "cell_type": "code",
      "source": [
        "unique_subcats = new_df['subcat'].unique().tolist()\n",
        "print(unique_subcats)\n",
        "\n",
        "indval = 501.01 # Initialize indval\n",
        "updated_subcats = []\n",
        "for i, subcat in enumerate(unique_subcats):\n",
        "    updated_subcat =  f\"{indval + i * 0.01:.2f} {subcat}\"   # Add indval + 0.01 to the beginning\n",
        "    updated_subcats.append(updated_subcat)\n",
        "\n",
        "print(updated_subcats)"
      ],
      "metadata": {
        "colab": {
          "base_uri": "https://localhost:8080/"
        },
        "id": "ZtEXjDmF_guL",
        "outputId": "7d3e5d2a-bb94-481b-b83c-0bed27bf58f4"
      },
      "execution_count": 574,
      "outputs": [
        {
          "output_type": "stream",
          "name": "stdout",
          "text": [
            "['AA Arts, Music, Literature', 'AG Agriculture', 'EC Economics and Industry', 'ET Education and Training', 'FM Form descriptors', 'GV Government and Politics', 'HE Health and Safety', 'HI History and Archaeology', 'IN Information and Communications', 'LB Labour', 'LN Language and Linguistics', 'LW Law', 'MI Military', 'NE Nature and Environment', 'PE Persons', 'PR Processes', 'SO Society and Culture', 'ST Science and Technology', 'TR Transport']\n",
            "['501.01 AA Arts, Music, Literature', '501.02 AG Agriculture', '501.03 EC Economics and Industry', '501.04 ET Education and Training', '501.05 FM Form descriptors', '501.06 GV Government and Politics', '501.07 HE Health and Safety', '501.08 HI History and Archaeology', '501.09 IN Information and Communications', '501.10 LB Labour', '501.11 LN Language and Linguistics', '501.12 LW Law', '501.13 MI Military', '501.14 NE Nature and Environment', '501.15 PE Persons', '501.16 PR Processes', '501.17 SO Society and Culture', '501.18 ST Science and Technology', '501.19 TR Transport']\n"
          ]
        }
      ]
    },
    {
      "cell_type": "code",
      "source": [
        "subcat_mapping = dict(zip(unique_subcats, updated_subcats))  # Create a mapping dictionary\n",
        "new_df['subcat'] = new_df['subcat'].map(subcat_mapping)\n",
        "\n",
        "print(new_df)"
      ],
      "metadata": {
        "colab": {
          "base_uri": "https://localhost:8080/"
        },
        "id": "q2giRsIoAzsI",
        "outputId": "b7ce3711-57ca-424d-ce00-2230b8d2860f"
      },
      "execution_count": 575,
      "outputs": [
        {
          "output_type": "stream",
          "name": "stdout",
          "text": [
            "                 longTitle                             subcat\n",
            "0              Visual arts  501.01 AA Arts, Music, Literature\n",
            "1          Performing arts  501.01 AA Arts, Music, Literature\n",
            "2                     Arts  501.01 AA Arts, Music, Literature\n",
            "3         Public buildings  501.01 AA Arts, Music, Literature\n",
            "4                 Drawings  501.01 AA Arts, Music, Literature\n",
            "..                     ...                                ...\n",
            "508     Navigation systems                501.19 TR Transport\n",
            "509   Marine installations                501.19 TR Transport\n",
            "510         Motor vehicles                501.19 TR Transport\n",
            "511               Vehicles                501.19 TR Transport\n",
            "512  Transportation safety                501.19 TR Transport\n",
            "\n",
            "[513 rows x 2 columns]\n"
          ]
        }
      ]
    },
    {
      "cell_type": "code",
      "source": [
        "# Define the strings you want to add\n",
        "prefix = \"\\\"[[\"  # Prefix without identifier\n",
        "suffix = \"]]\\\"\"\n",
        "\n",
        "new_df['longTitle'] = prefix + new_df['longTitle'] + suffix\n",
        "\n",
        "print(new_df)"
      ],
      "metadata": {
        "colab": {
          "base_uri": "https://localhost:8080/"
        },
        "id": "3GO-KZalCnmK",
        "outputId": "1e65f0dc-4e24-4f58-89cb-bb741785b034"
      },
      "execution_count": 576,
      "outputs": [
        {
          "output_type": "stream",
          "name": "stdout",
          "text": [
            "                       longTitle                             subcat\n",
            "0              \"[[Visual arts]]\"  501.01 AA Arts, Music, Literature\n",
            "1          \"[[Performing arts]]\"  501.01 AA Arts, Music, Literature\n",
            "2                     \"[[Arts]]\"  501.01 AA Arts, Music, Literature\n",
            "3         \"[[Public buildings]]\"  501.01 AA Arts, Music, Literature\n",
            "4                 \"[[Drawings]]\"  501.01 AA Arts, Music, Literature\n",
            "..                           ...                                ...\n",
            "508     \"[[Navigation systems]]\"                501.19 TR Transport\n",
            "509   \"[[Marine installations]]\"                501.19 TR Transport\n",
            "510         \"[[Motor vehicles]]\"                501.19 TR Transport\n",
            "511               \"[[Vehicles]]\"                501.19 TR Transport\n",
            "512  \"[[Transportation safety]]\"                501.19 TR Transport\n",
            "\n",
            "[513 rows x 2 columns]\n"
          ]
        }
      ]
    },
    {
      "cell_type": "code",
      "source": [
        "result_df = new_df.groupby('subcat')['longTitle'].apply(','.join).reset_index()\n",
        "\n",
        "print(result_df)"
      ],
      "metadata": {
        "colab": {
          "base_uri": "https://localhost:8080/"
        },
        "id": "a5iW4BQMCzY5",
        "outputId": "440c5c96-4084-403f-f3e9-c07e94fe90aa"
      },
      "execution_count": 577,
      "outputs": [
        {
          "output_type": "stream",
          "name": "stdout",
          "text": [
            "                                      subcat  \\\n",
            "0          501.01 AA Arts, Music, Literature   \n",
            "1                      501.02 AG Agriculture   \n",
            "2           501.03 EC Economics and Industry   \n",
            "3           501.04 ET Education and Training   \n",
            "4                 501.05 FM Form descriptors   \n",
            "5          501.06 GV Government and Politics   \n",
            "6                501.07 HE Health and Safety   \n",
            "7          501.08 HI History and Archaeology   \n",
            "8   501.09 IN Information and Communications   \n",
            "9                           501.10 LB Labour   \n",
            "10        501.11 LN Language and Linguistics   \n",
            "11                             501.12 LW Law   \n",
            "12                        501.13 MI Military   \n",
            "13          501.14 NE Nature and Environment   \n",
            "14                         501.15 PE Persons   \n",
            "15                       501.16 PR Processes   \n",
            "16             501.17 SO Society and Culture   \n",
            "17          501.18 ST Science and Technology   \n",
            "18                       501.19 TR Transport   \n",
            "\n",
            "                                            longTitle  \n",
            "0   \"[[Visual arts]]\",\"[[Performing arts]]\",\"[[Art...  \n",
            "1   \"[[Legumes]]\",\"[[Vegetables]]\",\"[[Livestock]]\"...  \n",
            "2   \"[[Economic development]]\",\"[[Economics]]\",\"[[...  \n",
            "3   \"[[Training]]\",\"[[Education]]\",\"[[Educational ...  \n",
            "4   \"[[Directories]]\",\"[[Records]]\",\"[[Drawings]]\"...  \n",
            "5   \"[[Elections]]\",\"[[Provinces]]\",\"[[Partnership...  \n",
            "6   \"[[Transportation safety]]\",\"[[Foster families...  \n",
            "7   \"[[History]]\",\"[[Heritage]]\",\"[[Monuments]]\",\"...  \n",
            "8   \"[[Government information]]\",\"[[Websites]]\",\"[...  \n",
            "9   \"[[Office supplies]]\",\"[[Labour]]\",\"[[Workers]...  \n",
            "10  \"[[Languages]]\",\"[[Language groups]]\",\"[[Langu...  \n",
            "11  \"[[Offences]]\",\"[[Regulations]]\",\"[[Evidence]]...  \n",
            "12         \"[[Armed forces]]\",\"[[War]]\",\"[[Weapons]]\"  \n",
            "13  \"[[Mammals]]\",\"[[Living organisms]]\",\"[[Primat...  \n",
            "14  \"[[Workers]]\",\"[[Children]]\",\"[[Inuit]]\",\"[[Pe...  \n",
            "15  \"[[Planning]]\",\"[[Permits]]\",\"[[Programming]]\"...  \n",
            "16  \"[[Social problems]]\",\"[[Recreation]]\",\"[[Wint...  \n",
            "17  \"[[Biotechnology]]\",\"[[Electronic equipment]]\"...  \n",
            "18  \"[[Vessels]]\",\"[[Pleasure craft]]\",\"[[Transpor...  \n"
          ]
        }
      ]
    },
    {
      "cell_type": "code",
      "source": [
        "# Create a unique folder name using uuid\n",
        "import uuid\n",
        "unique_folder_name = str(uuid.uuid4())\n",
        "os.makedirs(unique_folder_name, exist_ok=True)  # Create the folder\n",
        "\n",
        "alias_start = 2025010217001  # Initial alias value\n",
        "\n",
        "# List to store markdown file titles\n",
        "markdown_titles = []\n",
        "\n",
        "def create_markdown_file(row, folder_name, alias_start):\n",
        "    filename = os.path.join(folder_name, f\"{row['subcat']}.md\")\n",
        "    with open(filename, 'w') as f:\n",
        "        # Wrap the class property value in square brackets\n",
        "        class_value = f\"[{row['longTitle']}]\"\n",
        "        f.write(f\"---\\ntags: gccommon\\ntitle: {row['subcat']}\\nclass: {class_value}\\naliases: {alias_start}\\n---\\n\")\n",
        "\n",
        "    # Append the title to the list\n",
        "    markdown_titles.append(row['subcat'])\n",
        "\n",
        "    return alias_start + 1\n",
        "\n",
        "# Apply the function to each row, passing the folder name and alias_start\n",
        "# Use a for loop to iterate over rows and update alias_start for each file creation\n",
        "for index, row in result_df.iterrows():\n",
        "    alias_start = create_markdown_file(row, unique_folder_name, alias_start)\n",
        "\n",
        "# Get the full path of the folder\n",
        "full_path = os.path.abspath(unique_folder_name)\n",
        "\n",
        "print(f\"Output files are in the folder: {full_path}\")"
      ],
      "metadata": {
        "colab": {
          "base_uri": "https://localhost:8080/"
        },
        "id": "dRlkJlB8DtD_",
        "outputId": "d48c6c15-8017-4c04-d2db-efaaab7b1c81"
      },
      "execution_count": 578,
      "outputs": [
        {
          "output_type": "stream",
          "name": "stdout",
          "text": [
            "Output files are in the folder: /content/8a6c65e4-3f45-42e8-ab69-7483dd437923\n"
          ]
        }
      ]
    },
    {
      "cell_type": "code",
      "source": [
        "# Zip the output folder\n",
        "zip_file_name = f\"{unique_folder_name}.zip\"\n",
        "with zipfile.ZipFile(zip_file_name, 'w') as zipf:\n",
        "    for root, _, files in os.walk(unique_folder_name):\n",
        "        for file in files:\n",
        "            zipf.write(os.path.join(root, file), os.path.relpath(os.path.join(root, file), unique_folder_name))\n",
        "\n",
        "print(f\"Output files zipped to: {zip_file_name}\")"
      ],
      "metadata": {
        "colab": {
          "base_uri": "https://localhost:8080/"
        },
        "id": "XIVzcWnQIihh",
        "outputId": "2bd6ec91-681b-4f75-dc4a-1844d6b6b3f2"
      },
      "execution_count": 579,
      "outputs": [
        {
          "output_type": "stream",
          "name": "stdout",
          "text": [
            "Output files zipped to: 8a6c65e4-3f45-42e8-ab69-7483dd437923.zip\n"
          ]
        }
      ]
    },
    {
      "cell_type": "code",
      "source": [
        "print(\"Markdown File Titles:\")\n",
        "for title in markdown_titles:\n",
        "    print(f'\"[[{title}]]\"')"
      ],
      "metadata": {
        "colab": {
          "base_uri": "https://localhost:8080/"
        },
        "id": "2jaH2aj6KGwR",
        "outputId": "68d15c69-2acf-46d0-d284-f5a0ddf58308"
      },
      "execution_count": 580,
      "outputs": [
        {
          "output_type": "stream",
          "name": "stdout",
          "text": [
            "Markdown File Titles:\n",
            "\"[[501.01 AA Arts, Music, Literature]]\"\n",
            "\"[[501.02 AG Agriculture]]\"\n",
            "\"[[501.03 EC Economics and Industry]]\"\n",
            "\"[[501.04 ET Education and Training]]\"\n",
            "\"[[501.05 FM Form descriptors]]\"\n",
            "\"[[501.06 GV Government and Politics]]\"\n",
            "\"[[501.07 HE Health and Safety]]\"\n",
            "\"[[501.08 HI History and Archaeology]]\"\n",
            "\"[[501.09 IN Information and Communications]]\"\n",
            "\"[[501.10 LB Labour]]\"\n",
            "\"[[501.11 LN Language and Linguistics]]\"\n",
            "\"[[501.12 LW Law]]\"\n",
            "\"[[501.13 MI Military]]\"\n",
            "\"[[501.14 NE Nature and Environment]]\"\n",
            "\"[[501.15 PE Persons]]\"\n",
            "\"[[501.16 PR Processes]]\"\n",
            "\"[[501.17 SO Society and Culture]]\"\n",
            "\"[[501.18 ST Science and Technology]]\"\n",
            "\"[[501.19 TR Transport]]\"\n"
          ]
        }
      ]
    },
    {
      "cell_type": "code",
      "source": [
        "tax_df = ntbt_df.reset_index(drop=True).sort_values(by=['broaderTerm'])\n",
        "tax_df['narrowerTerm'] = prefix + tax_df['narrowerTerm'] + suffix\n",
        "tax_df =tax_df.groupby('broaderTerm')['narrowerTerm'].apply(','.join).reset_index()\n",
        "\n",
        "print(tax_df)"
      ],
      "metadata": {
        "colab": {
          "base_uri": "https://localhost:8080/"
        },
        "id": "vavvxD9ZLYRS",
        "outputId": "245c231a-f24b-4028-d667-80841b440db2"
      },
      "execution_count": 581,
      "outputs": [
        {
          "output_type": "stream",
          "name": "stdout",
          "text": [
            "          broaderTerm                                       narrowerTerm\n",
            "0    2SLGBTQI+ people  \"[[Bisexual people]]\",\"[[Pansexual people]]\",\"...\n",
            "1       Accessibility  \"[[Accessibility for persons with disabilities]]\"\n",
            "2           Accidents  \"[[Occupational accidents]]\",\"[[Road accidents...\n",
            "3      Accountability                              \"[[Open government]]\"\n",
            "4          Accounting                         \"[[Accounting standards]]\"\n",
            "..                ...                                                ...\n",
            "426          Wildlife                             \"[[Aquatic wildlife]]\"\n",
            "427     Winter sports            \"[[Skiing]]\",\"[[Hockey]]\",\"[[Skating]]\"\n",
            "428           Workers  \"[[Agricultural workers]]\",\"[[Industrial worke...\n",
            "429           Writing  \"[[Technical writing]]\",\"[[Administrative writ...\n",
            "430           Zoology  \"[[Ornithology]]\",\"[[Ichthyology]]\",\"[[Entomol...\n",
            "\n",
            "[431 rows x 2 columns]\n"
          ]
        }
      ]
    },
    {
      "cell_type": "code",
      "source": [
        "# Perform the join\n",
        "joinedtax_df = pd.merge(smergeds_df, tax_df, left_on='longTitle', right_on='broaderTerm', how='left')\n",
        "# Drop the 'broaderTerm' column from the joined DataFrame (if you don't need it)\n",
        "joinedtax_df = joinedtax_df.drop(columns=['broaderTerm'])\n",
        "joinedtax_df['narrowerTerm'] = joinedtax_df['narrowerTerm'].apply(lambda x: f\"[{x}]\" if pd.notna(x) else x)\n",
        "\n",
        "print(joinedtax_df)"
      ],
      "metadata": {
        "colab": {
          "base_uri": "https://localhost:8080/"
        },
        "id": "0kwSHH39Jz9k",
        "outputId": "e4aec0fe-05a8-4c9c-c3f4-546cf4396bc2"
      },
      "execution_count": 582,
      "outputs": [
        {
          "output_type": "stream",
          "name": "stdout",
          "text": [
            "                longTitle                         french       identifier  \\\n",
            "0        2SLGBTQI+ people         [\"Personne 2ELGBTQI+\"]  \"2025010221300\"   \n",
            "1          AIDS (disease)         [\"Personne 2ELGBTQI+\"]  \"2025010221301\"   \n",
            "2           Abbreviations         [\"Personne 2ELGBTQI+\"]  \"2025010221302\"   \n",
            "3                Abortion         [\"Personne 2ELGBTQI+\"]  \"2025010221303\"   \n",
            "4     Access to education         [\"Personne 2ELGBTQI+\"]  \"2025010221304\"   \n",
            "...                   ...                            ...              ...   \n",
            "2307         Young adults          [\"Analyse de marché\"]  \"2025010223607\"   \n",
            "2308      Young offenders          [\"Analyse de marché\"]  \"2025010223608\"   \n",
            "2309                Youth  [\"Développement des marchés\"]  \"2025010223609\"   \n",
            "2310   Zoological gardens  [\"Développement des marchés\"]  \"2025010223610\"   \n",
            "2311              Zoology  [\"Développement des marchés\"]  \"2025010223611\"   \n",
            "\n",
            "                                                aliases historyNote  \\\n",
            "0     [\"2025010221300\",\"Personne 2ELGBTQI+\",\"2SLGBTQ...         NaN   \n",
            "1     [\"2025010221301\",\"Sida\",\"Acquired immune defic...         NaN   \n",
            "2                       [\"2025010221302\",\"Abréviation\"]         NaN   \n",
            "3     [\"2025010221303\",\"Avortement\",\"Pregnancy termi...         NaN   \n",
            "4               [\"2025010221304\",\"Accès à l'éducation\"]         NaN   \n",
            "...                                                 ...         ...   \n",
            "2307                   [\"2025010223607\",\"Jeune adulte\"]         NaN   \n",
            "2308  [\"2025010223608\",\"Jeune contrevenant\",\"Juvenil...         NaN   \n",
            "2309                       [\"2025010223609\",\"Jeunesse\"]         NaN   \n",
            "2310       [\"2025010223610\",\"Jardin zoologique\",\"Zoos\"]         NaN   \n",
            "2311     [\"2025010223611\",\"Zoologie\",\"Animal sciences\"]         NaN   \n",
            "\n",
            "                                              scopeNote  \\\n",
            "0     \"Lesbian, Gay, Bisexual, Transgender, Queer, T...   \n",
            "1                                                   NaN   \n",
            "2                                                   NaN   \n",
            "3                                                   NaN   \n",
            "4                                                   NaN   \n",
            "...                                                 ...   \n",
            "2307                         \"Young people aged 20-34.\"   \n",
            "2308                                                NaN   \n",
            "2309                      \"Young people aged 15 to 24.\"   \n",
            "2310                                                NaN   \n",
            "2311                                                NaN   \n",
            "\n",
            "                                            relatedTerm  \\\n",
            "0                                                   NaN   \n",
            "1     [\"[[Sexually transmitted diseases]]\",\"[[Viruse...   \n",
            "2                                   [\"[[Terminology]]\"]   \n",
            "3                     [\"[[Bioethics]]\",\"[[Pregnancy]]\"]   \n",
            "4                                     [\"[[Education]]\"]   \n",
            "...                                                 ...   \n",
            "2307                      [\"[[Adulthood]]\",\"[[Youth]]\"]   \n",
            "2308  [\"[[Adolescents]]\",\"[[Correctional institution...   \n",
            "2309  [\"[[Adolescence]]\",\"[[Adolescents]]\",\"[[Young ...   \n",
            "2310            [\"[[Animals]]\",\"[[Protected species]]\"]   \n",
            "2311              [\"[[Animal research]]\",\"[[Animals]]\"]   \n",
            "\n",
            "                                           narrowerTerm  \n",
            "0     [\"[[Bisexual people]]\",\"[[Pansexual people]]\",...  \n",
            "1                                                   NaN  \n",
            "2                                                   NaN  \n",
            "3                                                   NaN  \n",
            "4                                                   NaN  \n",
            "...                                                 ...  \n",
            "2307                                                NaN  \n",
            "2308                                                NaN  \n",
            "2309                                                NaN  \n",
            "2310                                                NaN  \n",
            "2311  [\"[[Ornithology]]\",\"[[Ichthyology]]\",\"[[Entomo...  \n",
            "\n",
            "[2312 rows x 8 columns]\n"
          ]
        }
      ]
    },
    {
      "cell_type": "code",
      "source": [
        "# Create a new directory for Markdown files with a unique name\n",
        "dir_name = \"markdown_files\"\n",
        "i = 1\n",
        "while os.path.exists(dir_name):\n",
        "    dir_name = f\"markdown_files_{i}\"\n",
        "    i += 1\n",
        "os.makedirs(dir_name)\n",
        "\n",
        "# Function to create markdown content with bullet points\n",
        "def create_markdown_content(row):\n",
        "    markdown_content = f\"---\\ntitle: {row['longTitle']}\\ntags:\\n- gccommon\\n\"\n",
        "    for column in joinedtax_df.columns:\n",
        "        if column not in ['longTitle']:\n",
        "            value = row[column]\n",
        "            # Check if value is a Series and handle it appropriately\n",
        "            if isinstance(value, pd.Series):\n",
        "                # Use any() to check if any value in the Series is not NA and not empty string\n",
        "                if value.notna().any() and value.astype(str).str.strip().ne('').any():\n",
        "                    markdown_content += f\"{column}: {','.join(value.astype(str).tolist())}\\n\"\n",
        "            # If not a Series, use pd.notna as before\n",
        "            elif pd.notna(value) and value != '':\n",
        "                markdown_content += f\"{column}: {value}\\n\"\n",
        "    markdown_content += \"---\"\n",
        "    return markdown_content\n",
        "\n",
        "def create_markdown_file(row):\n",
        "    file_name = os.path.join(dir_name, f\"{row['longTitle']}.md\")\n",
        "    with open(file_name, \"w\") as f:\n",
        "        f.write(create_markdown_content(row))\n",
        "\n",
        "joinedtax_df.apply(create_markdown_file, axis=1)\n",
        "\n",
        "print(f\"Markdown files created successfully in directory: {dir_name}\")\n",
        "\n",
        "# Zip the output folder\n",
        "zip_file_name = f\"{dir_name}.zip\"\n",
        "with zipfile.ZipFile(zip_file_name, 'w') as zipf:\n",
        "    for root, _, files in os.walk(dir_name):  # change ufolder_name to dir_name\n",
        "        for file in files:\n",
        "            zipf.write(os.path.join(root, file), os.path.relpath(os.path.join(root, file), dir_name))  # change ufolder_name to dir_name\n",
        "\n",
        "print(f\"Output files zipped to: {zip_file_name}\")"
      ],
      "metadata": {
        "colab": {
          "base_uri": "https://localhost:8080/"
        },
        "outputId": "5f705cfd-f978-4abf-f1de-919a77a761c0",
        "id": "76-XwqCmE1Ff"
      },
      "execution_count": 583,
      "outputs": [
        {
          "output_type": "stream",
          "name": "stdout",
          "text": [
            "Markdown files created successfully in directory: markdown_files_20\n",
            "Output files zipped to: markdown_files_20.zip\n"
          ]
        }
      ]
    },
    {
      "cell_type": "code",
      "source": [
        "print(len(joinedtax_df))  # Print number of rows\n",
        "print(joinedtax_df.shape[0])  # Print number of rows"
      ],
      "metadata": {
        "colab": {
          "base_uri": "https://localhost:8080/"
        },
        "id": "escrO43lxgNF",
        "outputId": "b039c04d-fad1-4af8-c0fc-a401b44f5acb"
      },
      "execution_count": 584,
      "outputs": [
        {
          "output_type": "stream",
          "name": "stdout",
          "text": [
            "2312\n",
            "2312\n"
          ]
        }
      ]
    }
  ]
}