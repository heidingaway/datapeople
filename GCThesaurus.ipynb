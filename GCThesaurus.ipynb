{
  "nbformat": 4,
  "nbformat_minor": 0,
  "metadata": {
    "colab": {
      "provenance": [],
      "authorship_tag": "ABX9TyNyaUVkxD32S7swCZOIUNmX",
      "include_colab_link": true
    },
    "kernelspec": {
      "name": "python3",
      "display_name": "Python 3"
    },
    "language_info": {
      "name": "python"
    }
  },
  "cells": [
    {
      "cell_type": "markdown",
      "metadata": {
        "id": "view-in-github",
        "colab_type": "text"
      },
      "source": [
        "<a href=\"https://colab.research.google.com/github/heidingaway/datapeople/blob/main/GCThesaurus.ipynb\" target=\"_parent\"><img src=\"https://colab.research.google.com/assets/colab-badge.svg\" alt=\"Open In Colab\"/></a>"
      ]
    },
    {
      "cell_type": "code",
      "execution_count": 157,
      "metadata": {
        "id": "DNPWiol9wrwX"
      },
      "outputs": [],
      "source": [
        "import pandas as pd\n",
        "import os\n",
        "import zipfile\n",
        "import yaml\n",
        "import re\n",
        "import unicodedata\n",
        "import hashlib\n",
        "from pickle import DEFAULT_PROTOCOL\n",
        "\n",
        "def to_lower_camel_case(text):\n",
        "    # Split the text into words based on underscores\n",
        "    text = text.split(' ')\n",
        "    # Convert the first word to lowercase and the rest to title case, then join them\n",
        "    camel_case = text[0].lower() + ''.join(text.title() for text in text[1:])\n",
        "    return camel_case\n",
        "\n"
      ]
    },
    {
      "cell_type": "code",
      "source": [
        "## Link to CSV\n",
        "\n",
        "src = \"https://canada.multites.net/cst/EAEAD1E6-7DD2-4997-BE7F-40BFB1CBE8A2/CST20240911.csv\"\n",
        "\n",
        "# Create the DataFrame from all the retrieved records\n",
        "df = pd.read_csv(src)\n",
        "\n",
        "# Add column names\n",
        "df.columns = ['object', 'predicate', 'subject']"
      ],
      "metadata": {
        "id": "dfD_LsOFwwbA"
      },
      "execution_count": 158,
      "outputs": []
    },
    {
      "cell_type": "code",
      "source": [
        "print(df.head())"
      ],
      "metadata": {
        "colab": {
          "base_uri": "https://localhost:8080/"
        },
        "id": "vUjT9-lHwzUr",
        "outputId": "d1bae882-ed49-4496-ece3-a131f40231e1"
      },
      "execution_count": 159,
      "outputs": [
        {
          "output_type": "stream",
          "name": "stdout",
          "text": [
            "                           object predicate               subject\n",
            "0               2-spirited people       Use     Two-spirit people\n",
            "1               2019-nCoV disease       Use  Coronavirus diseases\n",
            "2  2019 novel coronavirus disease       Use  Coronavirus diseases\n",
            "3                 2SLGBTQ+ people       Use      2SLGBTQI+ people\n",
            "4                2SLGBTQI+ people    French    Personne 2ELGBTQI+\n"
          ]
        }
      ]
    },
    {
      "cell_type": "code",
      "source": [
        "related_df = df[df['predicate'] == 'Related Term'].reset_index(drop=True)\n",
        "related_df = related_df.rename(columns={'object': 'relatedTerm', 'subject': 'longTitle'})\n",
        "\n",
        "# Define the strings you want to add\n",
        "prefix = \"\\\"[[\"  # Prefix without identifier\n",
        "suffix = \"]]\\\"\"\n",
        "\n",
        "related_df['relatedTerm'] = prefix + related_df['relatedTerm'] + suffix\n",
        "related_df['relatedTerm'] = \"[\"+related_df['relatedTerm'] + \"]\"\n",
        "print(related_df)\n",
        "\n",
        "grouped_related_df = related_df.groupby('longTitle')['relatedTerm'].apply(lambda x: ','.join(x.astype(str))).reset_index()\n",
        "print(grouped_related_df)"
      ],
      "metadata": {
        "id": "P-7NRDwXrtQq",
        "outputId": "bcd4a585-fe6e-43cc-f6a1-d8636c460a02",
        "colab": {
          "base_uri": "https://localhost:8080/"
        }
      },
      "execution_count": 160,
      "outputs": [
        {
          "output_type": "stream",
          "name": "stdout",
          "text": [
            "                        relatedTerm     predicate          longTitle\n",
            "0             [\"[[Abbreviations]]\"]  Related Term        Terminology\n",
            "1                  [\"[[Abortion]]\"]  Related Term          Bioethics\n",
            "2                  [\"[[Abortion]]\"]  Related Term          Pregnancy\n",
            "3       [\"[[Access to education]]\"]  Related Term          Education\n",
            "4     [\"[[Access to information]]\"]  Related Term         Censorship\n",
            "...                             ...           ...                ...\n",
            "5165                  [\"[[Youth]]\"]  Related Term       Young adults\n",
            "5166     [\"[[Zoological gardens]]\"]  Related Term            Animals\n",
            "5167     [\"[[Zoological gardens]]\"]  Related Term  Protected species\n",
            "5168                [\"[[Zoology]]\"]  Related Term    Animal research\n",
            "5169                [\"[[Zoology]]\"]  Related Term            Animals\n",
            "\n",
            "[5170 rows x 3 columns]\n",
            "                  longTitle                                        relatedTerm\n",
            "0            AIDS (disease)  [\"[[Sexually transmitted diseases]]\"],[\"[[Viru...\n",
            "1             Abbreviations                                [\"[[Terminology]]\"]\n",
            "2                  Abortion                [\"[[Bioethics]]\"],[\"[[Pregnancy]]\"]\n",
            "3       Access to education                                  [\"[[Education]]\"]\n",
            "4     Access to information  [\"[[Censorship]]\"],[\"[[Confidentiality]]\"],[\"[...\n",
            "...                     ...                                                ...\n",
            "1976           Young adults                    [\"[[Adulthood]]\"],[\"[[Youth]]\"]\n",
            "1977        Young offenders  [\"[[Adolescents]]\"],[\"[[Correctional instituti...\n",
            "1978                  Youth  [\"[[Adolescence]]\"],[\"[[Adolescents]]\"],[\"[[Yo...\n",
            "1979     Zoological gardens          [\"[[Animals]]\"],[\"[[Protected species]]\"]\n",
            "1980                Zoology            [\"[[Animal research]]\"],[\"[[Animals]]\"]\n",
            "\n",
            "[1981 rows x 2 columns]\n"
          ]
        }
      ]
    },
    {
      "cell_type": "code",
      "source": [
        "history_df = df[df['predicate'] == 'History note']\n",
        "history_df['subject'] = \"'\" + history_df['subject'] + \"'\"\n",
        "\n",
        "print(history_df.head())"
      ],
      "metadata": {
        "colab": {
          "base_uri": "https://localhost:8080/"
        },
        "id": "MwHoBUsDYacB",
        "outputId": "2ce4c005-bb50-4bed-8d45-926b398048d1"
      },
      "execution_count": 161,
      "outputs": [
        {
          "output_type": "stream",
          "name": "stdout",
          "text": [
            "                    object     predicate  \\\n",
            "296        Adverse effects  History note   \n",
            "680          Air transport  History note   \n",
            "2016         Bicycle paths  History note   \n",
            "2082  Biochemical products  History note   \n",
            "2090          Biochemicals  History note   \n",
            "\n",
            "                                                subject  \n",
            "296   '\"Side effects\" replaces \"Adverse effects\" as ...  \n",
            "680   'Before May 2007, \"Air transport\" is not used ...  \n",
            "2016  '\"Bicycle paths\" replaces \"Cycling trails\" as ...  \n",
            "2082  '\"Biochemicals\" replaces \"Biochemical products...  \n",
            "2090  '\"Biochemicals\" replaces \"Biochemical products...  \n"
          ]
        },
        {
          "output_type": "stream",
          "name": "stderr",
          "text": [
            "<ipython-input-161-c30f06b4de3a>:2: SettingWithCopyWarning: \n",
            "A value is trying to be set on a copy of a slice from a DataFrame.\n",
            "Try using .loc[row_indexer,col_indexer] = value instead\n",
            "\n",
            "See the caveats in the documentation: https://pandas.pydata.org/pandas-docs/stable/user_guide/indexing.html#returning-a-view-versus-a-copy\n",
            "  history_df['subject'] = \"'\" + history_df['subject'] + \"'\"\n"
          ]
        }
      ]
    },
    {
      "cell_type": "code",
      "source": [
        "use_df = df[df['predicate'] == 'Use']\n",
        "use_df = use_df.rename(columns={'object': 'aliases', 'subject': 'longTitle'})\n",
        "use_df = use_df.drop(columns=['predicate'])\n",
        "print(use_df)"
      ],
      "metadata": {
        "colab": {
          "base_uri": "https://localhost:8080/"
        },
        "outputId": "0047ad12-bf00-4029-b44d-adae708d0e58",
        "id": "oxuKOKSZzbEO"
      },
      "execution_count": 162,
      "outputs": [
        {
          "output_type": "stream",
          "name": "stdout",
          "text": [
            "                              aliases             longTitle\n",
            "0                   2-spirited people     Two-spirit people\n",
            "1                   2019-nCoV disease  Coronavirus diseases\n",
            "2      2019 novel coronavirus disease  Coronavirus diseases\n",
            "3                     2SLGBTQ+ people      2SLGBTQI+ people\n",
            "25                          Abilities                Skills\n",
            "...                               ...                   ...\n",
            "22094                          Yeasts                 Fungi\n",
            "22095                          Yeasts        Microorganisms\n",
            "22129             Zoological research       Animal research\n",
            "22141                            Zoos    Zoological gardens\n",
            "22143                     Zootechnics      Animal husbandry\n",
            "\n",
            "[2716 rows x 2 columns]\n"
          ]
        }
      ]
    },
    {
      "cell_type": "code",
      "source": [
        "usefor_df = df[df['predicate'] == 'Used For']\n",
        "usefor_df= usefor_df.rename(columns={'subject': 'aliases', 'object': 'longTitle'})\n",
        "usefor_df = usefor_df.drop(columns=['predicate'])\n",
        "print(usefor_df)"
      ],
      "metadata": {
        "colab": {
          "base_uri": "https://localhost:8080/"
        },
        "id": "lZ3bFFYt0e84",
        "outputId": "58db4082-2493-4641-c51b-e5c8e001a118"
      },
      "execution_count": 163,
      "outputs": [
        {
          "output_type": "stream",
          "name": "stdout",
          "text": [
            "                 longTitle                          aliases\n",
            "6         2SLGBTQI+ people                  2SLGBTQ+ people\n",
            "7         2SLGBTQI+ people                     LGBTI people\n",
            "8         2SLGBTQI+ people                    LGBTQ2 people\n",
            "9         2SLGBTQI+ people                   LGBTQ2+ people\n",
            "10        2SLGBTQI+ people                  LGBTQIA2 people\n",
            "...                    ...                              ...\n",
            "22062              Writing            Written communication\n",
            "22086  Xenotransplantation  Animal-to-human transplantation\n",
            "22109      Young offenders               Juvenile offenders\n",
            "22124   Zoological gardens                             Zoos\n",
            "22133              Zoology                  Animal sciences\n",
            "\n",
            "[2717 rows x 2 columns]\n"
          ]
        }
      ]
    },
    {
      "cell_type": "code",
      "source": [
        "appended_df = pd.concat([use_df, usefor_df], ignore_index=True).reset_index(drop=True)\n",
        "appended_df.drop_duplicates(inplace=True)\n",
        "\n",
        "print(appended_df)"
      ],
      "metadata": {
        "colab": {
          "base_uri": "https://localhost:8080/"
        },
        "id": "u3bFxQPSbivw",
        "outputId": "01a3c609-02ce-4239-972b-12b001cb347f"
      },
      "execution_count": 164,
      "outputs": [
        {
          "output_type": "stream",
          "name": "stdout",
          "text": [
            "                             aliases             longTitle\n",
            "0                  2-spirited people     Two-spirit people\n",
            "1                  2019-nCoV disease  Coronavirus diseases\n",
            "2     2019 novel coronavirus disease  Coronavirus diseases\n",
            "3                    2SLGBTQ+ people      2SLGBTQI+ people\n",
            "4                          Abilities                Skills\n",
            "...                              ...                   ...\n",
            "2712                          Yeasts        Microorganisms\n",
            "2713             Zoological research       Animal research\n",
            "2714                            Zoos    Zoological gardens\n",
            "2715                     Zootechnics      Animal husbandry\n",
            "5206                 2-spirit people     Two-spirit people\n",
            "\n",
            "[2717 rows x 2 columns]\n"
          ]
        }
      ]
    },
    {
      "cell_type": "code",
      "source": [
        "fr_df = df[df['predicate'] == 'French']\n",
        "fr_df = fr_df.rename(columns={'object': 'longTitle', 'subject': 'french'})\n",
        "fr_df = fr_df.drop(columns=['predicate'])\n",
        "fr_df.drop_duplicates(inplace=True)\n",
        "print(fr_df)"
      ],
      "metadata": {
        "colab": {
          "base_uri": "https://localhost:8080/"
        },
        "id": "ttkbstwx1hun",
        "outputId": "adbe7146-278a-4a90-b17f-06b013fb39d8"
      },
      "execution_count": 165,
      "outputs": [
        {
          "output_type": "stream",
          "name": "stdout",
          "text": [
            "                   longTitle                 french\n",
            "4           2SLGBTQI+ people     Personne 2ELGBTQI+\n",
            "22             Abbreviations            Abréviation\n",
            "65                  Abortion             Avortement\n",
            "79       Access to education    Accès à l'éducation\n",
            "82     Access to information  Accès à l'information\n",
            "...                      ...                    ...\n",
            "22101           Young adults           Jeune adulte\n",
            "22108        Young offenders     Jeune contrevenant\n",
            "22117                  Youth               Jeunesse\n",
            "22123     Zoological gardens      Jardin zoologique\n",
            "22132                Zoology               Zoologie\n",
            "\n",
            "[2312 rows x 2 columns]\n"
          ]
        }
      ]
    },
    {
      "cell_type": "code",
      "source": [
        "merged_df = pd.merge(fr_df,appended_df, on='longTitle', how='left')\n",
        "\n",
        "# Remove duplicates based on all columns\n",
        "merged_df.drop_duplicates(inplace=True)\n",
        "merged_df['aliases'] = merged_df['aliases'].apply(lambda x: f'\"{x}\"' if pd.notna(x) else x) ## add quotes\n",
        "merged_df['aliases'] = merged_df['aliases'].apply(lambda x: f\"[{x}]\" if pd.notna(x) else x) ## add quotes\n",
        "merged_df['french'] = merged_df['french'].apply(lambda x: f'\"{x}\"' if pd.notna(x) else x) ## add quotes\n",
        "merged_df['french'] = merged_df['french'].apply(lambda x: f\"[{x}]\" if pd.notna(x) else x) ## add quotes\n",
        "# Print the merged DataFrame (now without duplicates)\n",
        "print(merged_df)"
      ],
      "metadata": {
        "colab": {
          "base_uri": "https://localhost:8080/"
        },
        "id": "aTXVDhHTQxqu",
        "outputId": "4626c192-7c8e-4620-a7f3-1e7d1cf86a30"
      },
      "execution_count": 192,
      "outputs": [
        {
          "output_type": "stream",
          "name": "stdout",
          "text": [
            "               longTitle                french                 aliases\n",
            "0       2SLGBTQI+ people  \"Personne 2ELGBTQI+\"     [\"2SLGBTQ+ people\"]\n",
            "1       2SLGBTQI+ people  \"Personne 2ELGBTQI+\"        [\"LGBTI people\"]\n",
            "2       2SLGBTQI+ people  \"Personne 2ELGBTQI+\"       [\"LGBTQ2 people\"]\n",
            "3       2SLGBTQI+ people  \"Personne 2ELGBTQI+\"      [\"LGBTQ2+ people\"]\n",
            "4       2SLGBTQI+ people  \"Personne 2ELGBTQI+\"     [\"LGBTQIA2 people\"]\n",
            "...                  ...                   ...                     ...\n",
            "3909        Young adults        \"Jeune adulte\"                     NaN\n",
            "3910     Young offenders  \"Jeune contrevenant\"  [\"Juvenile offenders\"]\n",
            "3911               Youth            \"Jeunesse\"                     NaN\n",
            "3912  Zoological gardens   \"Jardin zoologique\"                [\"Zoos\"]\n",
            "3913             Zoology            \"Zoologie\"     [\"Animal sciences\"]\n",
            "\n",
            "[3914 rows x 3 columns]\n"
          ]
        }
      ]
    },
    {
      "cell_type": "code",
      "source": [
        "# Define a function to join non-empty values with comma\n",
        "def join_non_empty(values):\n",
        "    return ','.join([str(val) for val in values if pd.notna(val) and val != ''])\n",
        "\n",
        "# Group by 'longTitle' and aggregate columns with comma separation, skipping empty values\n",
        "aliased_df = merged_df.groupby(['longTitle', 'french']).agg({\n",
        "    'aliases': join_non_empty,\n",
        "}).reset_index()\n",
        "\n",
        "aliased_df['combined'] = aliased_df.apply(lambda row: join_non_empty([row['french'], row['aliases']]), axis=1)\n",
        "\n",
        "# Print the grouped DataFrame\n",
        "print(aliased_df)"
      ],
      "metadata": {
        "colab": {
          "base_uri": "https://localhost:8080/"
        },
        "id": "J8hKQeptOm7q",
        "outputId": "dfdde50c-5da8-4c74-c42f-7f32fa4c7416"
      },
      "execution_count": 167,
      "outputs": [
        {
          "output_type": "stream",
          "name": "stdout",
          "text": [
            "                longTitle                 french  \\\n",
            "0        2SLGBTQI+ people   \"Personne 2ELGBTQI+\"   \n",
            "1          AIDS (disease)                 \"Sida\"   \n",
            "2           Abbreviations          \"Abréviation\"   \n",
            "3                Abortion           \"Avortement\"   \n",
            "4     Access to education  \"Accès à l'éducation\"   \n",
            "...                   ...                    ...   \n",
            "2307         Young adults         \"Jeune adulte\"   \n",
            "2308      Young offenders   \"Jeune contrevenant\"   \n",
            "2309                Youth             \"Jeunesse\"   \n",
            "2310   Zoological gardens    \"Jardin zoologique\"   \n",
            "2311              Zoology             \"Zoologie\"   \n",
            "\n",
            "                                                aliases  \\\n",
            "0     \"2SLGBTQ+ people\",\"LGBTI people\",\"LGBTQ2 peopl...   \n",
            "1     \"Acquired immune deficiency syndrome\",\"Acquire...   \n",
            "2                                                         \n",
            "3        \"Pregnancy termination\",\"Therapeutic abortion\"   \n",
            "4                                                         \n",
            "...                                                 ...   \n",
            "2307                                                      \n",
            "2308                               \"Juvenile offenders\"   \n",
            "2309                                                      \n",
            "2310                                             \"Zoos\"   \n",
            "2311                                  \"Animal sciences\"   \n",
            "\n",
            "                                               combined  \n",
            "0     \"Personne 2ELGBTQI+\",\"2SLGBTQ+ people\",\"LGBTI ...  \n",
            "1     \"Sida\",\"Acquired immune deficiency syndrome\",\"...  \n",
            "2                                         \"Abréviation\"  \n",
            "3     \"Avortement\",\"Pregnancy termination\",\"Therapeu...  \n",
            "4                                 \"Accès à l'éducation\"  \n",
            "...                                                 ...  \n",
            "2307                                     \"Jeune adulte\"  \n",
            "2308          \"Jeune contrevenant\",\"Juvenile offenders\"  \n",
            "2309                                         \"Jeunesse\"  \n",
            "2310                         \"Jardin zoologique\",\"Zoos\"  \n",
            "2311                       \"Zoologie\",\"Animal sciences\"  \n",
            "\n",
            "[2312 rows x 4 columns]\n"
          ]
        }
      ]
    },
    {
      "cell_type": "code",
      "source": [
        "# Merge history_df with appended_df, joining 'longTitle' and 'object'\n",
        "mergeh_df = pd.merge(aliased_df, history_df, left_on='longTitle', right_on='object', how='left')  # Changed left_on and right_on\n",
        "\n",
        "# Rename 'predicate' to 'historyNote' and drop 'object'\n",
        "mergeh_df = mergeh_df.drop(columns=['aliases'])\n",
        "mergeh_df = mergeh_df.rename(columns={'combined': 'aliases', 'subject': 'historyNote'})\n",
        "mergeh_df = mergeh_df.drop(columns=['object', 'predicate']) # Changed this line to drop 'object' and 'predicate' separately\n",
        "\n",
        "# Print the merged DataFrame\n",
        "print(mergeh_df)"
      ],
      "metadata": {
        "colab": {
          "base_uri": "https://localhost:8080/"
        },
        "id": "gtSqTWzBfCS5",
        "outputId": "ed330a30-a6a7-40a6-d66b-e98c58ab74a7"
      },
      "execution_count": 168,
      "outputs": [
        {
          "output_type": "stream",
          "name": "stdout",
          "text": [
            "                longTitle                 french  \\\n",
            "0        2SLGBTQI+ people   \"Personne 2ELGBTQI+\"   \n",
            "1          AIDS (disease)                 \"Sida\"   \n",
            "2           Abbreviations          \"Abréviation\"   \n",
            "3                Abortion           \"Avortement\"   \n",
            "4     Access to education  \"Accès à l'éducation\"   \n",
            "...                   ...                    ...   \n",
            "2307         Young adults         \"Jeune adulte\"   \n",
            "2308      Young offenders   \"Jeune contrevenant\"   \n",
            "2309                Youth             \"Jeunesse\"   \n",
            "2310   Zoological gardens    \"Jardin zoologique\"   \n",
            "2311              Zoology             \"Zoologie\"   \n",
            "\n",
            "                                                aliases historyNote  \n",
            "0     \"Personne 2ELGBTQI+\",\"2SLGBTQ+ people\",\"LGBTI ...         NaN  \n",
            "1     \"Sida\",\"Acquired immune deficiency syndrome\",\"...         NaN  \n",
            "2                                         \"Abréviation\"         NaN  \n",
            "3     \"Avortement\",\"Pregnancy termination\",\"Therapeu...         NaN  \n",
            "4                                 \"Accès à l'éducation\"         NaN  \n",
            "...                                                 ...         ...  \n",
            "2307                                     \"Jeune adulte\"         NaN  \n",
            "2308          \"Jeune contrevenant\",\"Juvenile offenders\"         NaN  \n",
            "2309                                         \"Jeunesse\"         NaN  \n",
            "2310                         \"Jardin zoologique\",\"Zoos\"         NaN  \n",
            "2311                       \"Zoologie\",\"Animal sciences\"         NaN  \n",
            "\n",
            "[2312 rows x 4 columns]\n"
          ]
        }
      ]
    },
    {
      "cell_type": "code",
      "source": [
        "scope_df = df[df['predicate'] == 'Scope Note']\n",
        "scope_df = scope_df.rename(columns={'object': 'longTitle', 'subject': 'scopeNote'})\n",
        "scope_df['scopeNote'] = \"'\" + scope_df['scopeNote'] + \"'\"\n",
        "\n",
        "mergeds_df = pd.merge(mergeh_df, scope_df, on='longTitle', how='left')\n",
        "mergeds_df = mergeds_df.drop(columns=['predicate'])\n",
        "\n",
        "smergeds_df = pd.merge(mergeds_df, grouped_related_df, on='longTitle', how='left')\n",
        "\n",
        "# Print the merged DataFrame:\n",
        "print(smergeds_df)\n",
        "\n",
        "smergeds_df = pd.merge(mergeds_df, grouped_related_df, on='longTitle', how='left')\n",
        "\n",
        "# Print the merged DataFrame:\n",
        "print(smergeds_df)"
      ],
      "metadata": {
        "colab": {
          "base_uri": "https://localhost:8080/"
        },
        "id": "QqYOpXA6hgWd",
        "outputId": "d72abab6-01c3-4188-83cc-1a38fbae0803"
      },
      "execution_count": 169,
      "outputs": [
        {
          "output_type": "stream",
          "name": "stdout",
          "text": [
            "                longTitle                 french  \\\n",
            "0        2SLGBTQI+ people   \"Personne 2ELGBTQI+\"   \n",
            "1          AIDS (disease)                 \"Sida\"   \n",
            "2           Abbreviations          \"Abréviation\"   \n",
            "3                Abortion           \"Avortement\"   \n",
            "4     Access to education  \"Accès à l'éducation\"   \n",
            "...                   ...                    ...   \n",
            "2307         Young adults         \"Jeune adulte\"   \n",
            "2308      Young offenders   \"Jeune contrevenant\"   \n",
            "2309                Youth             \"Jeunesse\"   \n",
            "2310   Zoological gardens    \"Jardin zoologique\"   \n",
            "2311              Zoology             \"Zoologie\"   \n",
            "\n",
            "                                                aliases historyNote  \\\n",
            "0     \"Personne 2ELGBTQI+\",\"2SLGBTQ+ people\",\"LGBTI ...         NaN   \n",
            "1     \"Sida\",\"Acquired immune deficiency syndrome\",\"...         NaN   \n",
            "2                                         \"Abréviation\"         NaN   \n",
            "3     \"Avortement\",\"Pregnancy termination\",\"Therapeu...         NaN   \n",
            "4                                 \"Accès à l'éducation\"         NaN   \n",
            "...                                                 ...         ...   \n",
            "2307                                     \"Jeune adulte\"         NaN   \n",
            "2308          \"Jeune contrevenant\",\"Juvenile offenders\"         NaN   \n",
            "2309                                         \"Jeunesse\"         NaN   \n",
            "2310                         \"Jardin zoologique\",\"Zoos\"         NaN   \n",
            "2311                       \"Zoologie\",\"Animal sciences\"         NaN   \n",
            "\n",
            "                                              scopeNote  \\\n",
            "0     'Lesbian, Gay, Bisexual, Transgender, Queer, T...   \n",
            "1                                                   NaN   \n",
            "2                                                   NaN   \n",
            "3                                                   NaN   \n",
            "4                                                   NaN   \n",
            "...                                                 ...   \n",
            "2307                         'Young people aged 20-34.'   \n",
            "2308                                                NaN   \n",
            "2309                      'Young people aged 15 to 24.'   \n",
            "2310                                                NaN   \n",
            "2311                                                NaN   \n",
            "\n",
            "                                            relatedTerm  \n",
            "0                                                   NaN  \n",
            "1     [\"[[Sexually transmitted diseases]]\"],[\"[[Viru...  \n",
            "2                                   [\"[[Terminology]]\"]  \n",
            "3                   [\"[[Bioethics]]\"],[\"[[Pregnancy]]\"]  \n",
            "4                                     [\"[[Education]]\"]  \n",
            "...                                                 ...  \n",
            "2307                    [\"[[Adulthood]]\"],[\"[[Youth]]\"]  \n",
            "2308  [\"[[Adolescents]]\"],[\"[[Correctional instituti...  \n",
            "2309  [\"[[Adolescence]]\"],[\"[[Adolescents]]\"],[\"[[Yo...  \n",
            "2310          [\"[[Animals]]\"],[\"[[Protected species]]\"]  \n",
            "2311            [\"[[Animal research]]\"],[\"[[Animals]]\"]  \n",
            "\n",
            "[2312 rows x 6 columns]\n",
            "                longTitle                 french  \\\n",
            "0        2SLGBTQI+ people   \"Personne 2ELGBTQI+\"   \n",
            "1          AIDS (disease)                 \"Sida\"   \n",
            "2           Abbreviations          \"Abréviation\"   \n",
            "3                Abortion           \"Avortement\"   \n",
            "4     Access to education  \"Accès à l'éducation\"   \n",
            "...                   ...                    ...   \n",
            "2307         Young adults         \"Jeune adulte\"   \n",
            "2308      Young offenders   \"Jeune contrevenant\"   \n",
            "2309                Youth             \"Jeunesse\"   \n",
            "2310   Zoological gardens    \"Jardin zoologique\"   \n",
            "2311              Zoology             \"Zoologie\"   \n",
            "\n",
            "                                                aliases historyNote  \\\n",
            "0     \"Personne 2ELGBTQI+\",\"2SLGBTQ+ people\",\"LGBTI ...         NaN   \n",
            "1     \"Sida\",\"Acquired immune deficiency syndrome\",\"...         NaN   \n",
            "2                                         \"Abréviation\"         NaN   \n",
            "3     \"Avortement\",\"Pregnancy termination\",\"Therapeu...         NaN   \n",
            "4                                 \"Accès à l'éducation\"         NaN   \n",
            "...                                                 ...         ...   \n",
            "2307                                     \"Jeune adulte\"         NaN   \n",
            "2308          \"Jeune contrevenant\",\"Juvenile offenders\"         NaN   \n",
            "2309                                         \"Jeunesse\"         NaN   \n",
            "2310                         \"Jardin zoologique\",\"Zoos\"         NaN   \n",
            "2311                       \"Zoologie\",\"Animal sciences\"         NaN   \n",
            "\n",
            "                                              scopeNote  \\\n",
            "0     'Lesbian, Gay, Bisexual, Transgender, Queer, T...   \n",
            "1                                                   NaN   \n",
            "2                                                   NaN   \n",
            "3                                                   NaN   \n",
            "4                                                   NaN   \n",
            "...                                                 ...   \n",
            "2307                         'Young people aged 20-34.'   \n",
            "2308                                                NaN   \n",
            "2309                      'Young people aged 15 to 24.'   \n",
            "2310                                                NaN   \n",
            "2311                                                NaN   \n",
            "\n",
            "                                            relatedTerm  \n",
            "0                                                   NaN  \n",
            "1     [\"[[Sexually transmitted diseases]]\"],[\"[[Viru...  \n",
            "2                                   [\"[[Terminology]]\"]  \n",
            "3                   [\"[[Bioethics]]\"],[\"[[Pregnancy]]\"]  \n",
            "4                                     [\"[[Education]]\"]  \n",
            "...                                                 ...  \n",
            "2307                    [\"[[Adulthood]]\"],[\"[[Youth]]\"]  \n",
            "2308  [\"[[Adolescents]]\"],[\"[[Correctional instituti...  \n",
            "2309  [\"[[Adolescence]]\"],[\"[[Adolescents]]\"],[\"[[Yo...  \n",
            "2310          [\"[[Animals]]\"],[\"[[Protected species]]\"]  \n",
            "2311            [\"[[Animal research]]\"],[\"[[Animals]]\"]  \n",
            "\n",
            "[2312 rows x 6 columns]\n"
          ]
        }
      ]
    },
    {
      "cell_type": "code",
      "source": [
        "nt_df = df[df['predicate'] == 'Narrower Term']\n",
        "nt_df = nt_df.rename(columns={'object': 'broaderTerm', 'subject': 'narrowerTerm'})\n",
        "nt_df = nt_df.drop(columns=['predicate'])\n",
        "\n",
        "print(nt_df)"
      ],
      "metadata": {
        "colab": {
          "base_uri": "https://localhost:8080/"
        },
        "id": "vHabuA592fBT",
        "outputId": "2a3066b4-7066-4467-dafe-b6eb148dbd53"
      },
      "execution_count": 170,
      "outputs": [
        {
          "output_type": "stream",
          "name": "stdout",
          "text": [
            "            broaderTerm                 narrowerTerm\n",
            "12     2SLGBTQI+ people               Asexual people\n",
            "13     2SLGBTQI+ people              Bisexual people\n",
            "14     2SLGBTQI+ people                   Gay people\n",
            "15     2SLGBTQI+ people  Gender-nonconforming people\n",
            "16     2SLGBTQI+ people              Intersex people\n",
            "...                 ...                          ...\n",
            "22065           Writing          Legislative writing\n",
            "22066           Writing            Technical writing\n",
            "22135           Zoology                   Entomology\n",
            "22136           Zoology                  Ichthyology\n",
            "22137           Zoology                  Ornithology\n",
            "\n",
            "[1267 rows x 2 columns]\n"
          ]
        }
      ]
    },
    {
      "cell_type": "code",
      "source": [
        "bt_df = df[df['predicate'] == 'Broader Term']\n",
        "bt_df = bt_df.rename(columns={'object': 'narrowerTerm', 'subject': 'broaderTerm'})\n",
        "bt_df = bt_df.drop(columns=['predicate'])\n",
        "\n",
        "print(bt_df)"
      ],
      "metadata": {
        "colab": {
          "base_uri": "https://localhost:8080/"
        },
        "id": "pTinLuff47CN",
        "outputId": "7a73abf2-8f2a-46e2-998c-c96fef30d12e"
      },
      "execution_count": 171,
      "outputs": [
        {
          "output_type": "stream",
          "name": "stdout",
          "text": [
            "                                      narrowerTerm                 broaderTerm\n",
            "11                                2SLGBTQI+ people                  Minorities\n",
            "102    Accessibility for persons with disabilities               Accessibility\n",
            "109                           Accessible transport                   Transport\n",
            "115                            Accident prevention                  Prevention\n",
            "140                                     Accounting           Business services\n",
            "...                                            ...                         ...\n",
            "22087                          Xenotransplantation  Transplantation (Medicine)\n",
            "22099                                       Yogurt              Dairy products\n",
            "22103                                 Young adults                      Adults\n",
            "22125                           Zoological gardens     Recreational facilities\n",
            "22134                                      Zoology                     Biology\n",
            "\n",
            "[1267 rows x 2 columns]\n"
          ]
        }
      ]
    },
    {
      "cell_type": "code",
      "source": [
        "ntbt_df = pd.concat([bt_df, nt_df])\n",
        "ntbt_df = ntbt_df.drop_duplicates()\n",
        "\n",
        "print(ntbt_df)"
      ],
      "metadata": {
        "colab": {
          "base_uri": "https://localhost:8080/"
        },
        "id": "o1ESQi2T5vGy",
        "outputId": "2fe26f9f-2e66-4f9d-adb0-c43d24a84435"
      },
      "execution_count": 172,
      "outputs": [
        {
          "output_type": "stream",
          "name": "stdout",
          "text": [
            "                                      narrowerTerm                 broaderTerm\n",
            "11                                2SLGBTQI+ people                  Minorities\n",
            "102    Accessibility for persons with disabilities               Accessibility\n",
            "109                           Accessible transport                   Transport\n",
            "115                            Accident prevention                  Prevention\n",
            "140                                     Accounting           Business services\n",
            "...                                            ...                         ...\n",
            "22087                          Xenotransplantation  Transplantation (Medicine)\n",
            "22099                                       Yogurt              Dairy products\n",
            "22103                                 Young adults                      Adults\n",
            "22125                           Zoological gardens     Recreational facilities\n",
            "22134                                      Zoology                     Biology\n",
            "\n",
            "[1267 rows x 2 columns]\n"
          ]
        }
      ]
    },
    {
      "cell_type": "code",
      "source": [
        "# Unpivot the DataFrame\n",
        "unpivoted_df = pd.melt(ntbt_df, value_vars=['narrowerTerm', 'broaderTerm'], var_name='term_type', value_name='term')\n",
        "\n",
        "# Remove duplicate rows\n",
        "unpivoted_df.drop_duplicates(subset=['term'], inplace=True)\n",
        "\n",
        "print(unpivoted_df)"
      ],
      "metadata": {
        "colab": {
          "base_uri": "https://localhost:8080/"
        },
        "outputId": "b7fb6576-bed7-461f-ec5f-1a6b44bae2d3",
        "id": "OTh3gqG9U47W"
      },
      "execution_count": 173,
      "outputs": [
        {
          "output_type": "stream",
          "name": "stdout",
          "text": [
            "         term_type                                         term\n",
            "0     narrowerTerm                             2SLGBTQI+ people\n",
            "1     narrowerTerm  Accessibility for persons with disabilities\n",
            "2     narrowerTerm                         Accessible transport\n",
            "3     narrowerTerm                          Accident prevention\n",
            "4     narrowerTerm                                   Accounting\n",
            "...            ...                                          ...\n",
            "2439   broaderTerm                        Railway installations\n",
            "2454   broaderTerm                                    Radiation\n",
            "2479   broaderTerm                               Rehabilitation\n",
            "2485   broaderTerm                                    Monuments\n",
            "2506   broaderTerm                       Assistive technologies\n",
            "\n",
            "[1438 rows x 2 columns]\n"
          ]
        }
      ]
    },
    {
      "cell_type": "code",
      "source": [
        "# Perform the join\n",
        "joined_df = pd.merge(unpivoted_df, aliased_df[['longTitle', 'french', 'combined']], left_on='term', right_on='longTitle', how='left')\n",
        "\n",
        "# Drop the 'longTitle' column from the joined DataFrame (if you don't need it)\n",
        "joined_df = joined_df.drop(columns=['term_type'])\n",
        "\n",
        "print(joined_df)"
      ],
      "metadata": {
        "colab": {
          "base_uri": "https://localhost:8080/"
        },
        "id": "mVEGdCtzVJjJ",
        "outputId": "7542380d-9bb6-4896-9e2a-b53f91837293"
      },
      "execution_count": 174,
      "outputs": [
        {
          "output_type": "stream",
          "name": "stdout",
          "text": [
            "                                             term  \\\n",
            "0                                2SLGBTQI+ people   \n",
            "1     Accessibility for persons with disabilities   \n",
            "2                            Accessible transport   \n",
            "3                             Accident prevention   \n",
            "4                                      Accounting   \n",
            "...                                           ...   \n",
            "1433                        Railway installations   \n",
            "1434                                    Radiation   \n",
            "1435                               Rehabilitation   \n",
            "1436                                    Monuments   \n",
            "1437                       Assistive technologies   \n",
            "\n",
            "                                        longTitle  \\\n",
            "0                                2SLGBTQI+ people   \n",
            "1     Accessibility for persons with disabilities   \n",
            "2                            Accessible transport   \n",
            "3                             Accident prevention   \n",
            "4                                      Accounting   \n",
            "...                                           ...   \n",
            "1433                        Railway installations   \n",
            "1434                                    Radiation   \n",
            "1435                               Rehabilitation   \n",
            "1436                                    Monuments   \n",
            "1437                       Assistive technologies   \n",
            "\n",
            "                                         french  \\\n",
            "0                          \"Personne 2ELGBTQI+\"   \n",
            "1     \"Accessibilité aux personnes handicapées\"   \n",
            "2                        \"Transport accessible\"   \n",
            "3                    \"Prévention des accidents\"   \n",
            "4                                \"Comptabilité\"   \n",
            "...                                         ...   \n",
            "1433               \"Installations ferroviaires\"   \n",
            "1434                              \"Rayonnement\"   \n",
            "1435                             \"Réadaptation\"   \n",
            "1436                                 \"Monument\"   \n",
            "1437                       \"Technologie d'aide\"   \n",
            "\n",
            "                                               combined  \n",
            "0     \"Personne 2ELGBTQI+\",\"2SLGBTQ+ people\",\"LGBTI ...  \n",
            "1     \"Accessibilité aux personnes handicapées\",\"Acc...  \n",
            "2                                \"Transport accessible\"  \n",
            "3                            \"Prévention des accidents\"  \n",
            "4                          \"Comptabilité\",\"Bookkeeping\"  \n",
            "...                                                 ...  \n",
            "1433                       \"Installations ferroviaires\"  \n",
            "1434                                      \"Rayonnement\"  \n",
            "1435                                     \"Réadaptation\"  \n",
            "1436        \"Monument\",\"Historic monuments\",\"Memorials\"  \n",
            "1437  \"Technologie d'aide\",\"Adaptive aids (for perso...  \n",
            "\n",
            "[1438 rows x 4 columns]\n"
          ]
        }
      ]
    },
    {
      "cell_type": "code",
      "source": [
        "subcat_df = df[df['predicate'] == 'Subject Category']\n",
        "subcat_df = subcat_df.rename(columns={'object': 'longTitle', 'subject': 'subcat'})\n",
        "subcat_df = subcat_df.drop(columns=['predicate'])\n",
        "\n",
        "print(subcat_df)"
      ],
      "metadata": {
        "colab": {
          "base_uri": "https://localhost:8080/"
        },
        "id": "5KkGPO6p6Og5",
        "outputId": "e48d9742-c857-4b30-9d5d-7acb1c0052f6"
      },
      "execution_count": 175,
      "outputs": [
        {
          "output_type": "stream",
          "name": "stdout",
          "text": [
            "                 longTitle                       subcat\n",
            "21        2SLGBTQI+ people       SO Society and Culture\n",
            "24           Abbreviations  LN Language and Linguistics\n",
            "26               Abilities                 PR Processes\n",
            "28      Aboriginal affairs   GV Government and Politics\n",
            "29      Aboriginal affairs       SO Society and Culture\n",
            "...                    ...                          ...\n",
            "22131  Zoological research    ST Science and Technology\n",
            "22140              Zoology    ST Science and Technology\n",
            "22142                 Zoos    NE Nature and Environment\n",
            "22144          Zootechnics               AG Agriculture\n",
            "22145          Zootechnics    NE Nature and Environment\n",
            "\n",
            "[6306 rows x 2 columns]\n"
          ]
        }
      ]
    },
    {
      "cell_type": "code",
      "source": [
        "filtered_subcat_df = subcat_df[subcat_df['longTitle'].isin(ntbt_df['broaderTerm'])]\n",
        "new_df = filtered_subcat_df.sort_values(by=['subcat']).copy().reset_index(drop=True)\n",
        "print(new_df)"
      ],
      "metadata": {
        "colab": {
          "base_uri": "https://localhost:8080/"
        },
        "id": "kHuUv_8G7jUu",
        "outputId": "f45d9b38-437b-4a5c-a4cb-0e95a4a05718"
      },
      "execution_count": 176,
      "outputs": [
        {
          "output_type": "stream",
          "name": "stdout",
          "text": [
            "                 longTitle                      subcat\n",
            "0              Visual arts  AA Arts, Music, Literature\n",
            "1          Performing arts  AA Arts, Music, Literature\n",
            "2                     Arts  AA Arts, Music, Literature\n",
            "3         Public buildings  AA Arts, Music, Literature\n",
            "4                 Drawings  AA Arts, Music, Literature\n",
            "..                     ...                         ...\n",
            "508     Navigation systems                TR Transport\n",
            "509   Marine installations                TR Transport\n",
            "510         Motor vehicles                TR Transport\n",
            "511               Vehicles                TR Transport\n",
            "512  Transportation safety                TR Transport\n",
            "\n",
            "[513 rows x 2 columns]\n"
          ]
        }
      ]
    },
    {
      "cell_type": "code",
      "source": [
        "unique_subcats = new_df['subcat'].unique().tolist()\n",
        "print(unique_subcats)\n",
        "\n",
        "indval = 501.01 # Initialize indval\n",
        "updated_subcats = []\n",
        "for i, subcat in enumerate(unique_subcats):\n",
        "    updated_subcat =  f\"{indval + i * 0.01:.2f} {subcat}\"   # Add indval + 0.01 to the beginning\n",
        "    updated_subcats.append(updated_subcat)\n",
        "\n",
        "print(updated_subcats)"
      ],
      "metadata": {
        "colab": {
          "base_uri": "https://localhost:8080/"
        },
        "id": "ZtEXjDmF_guL",
        "outputId": "a0307257-944a-4471-c3d4-df58952db13b"
      },
      "execution_count": 177,
      "outputs": [
        {
          "output_type": "stream",
          "name": "stdout",
          "text": [
            "['AA Arts, Music, Literature', 'AG Agriculture', 'EC Economics and Industry', 'ET Education and Training', 'FM Form descriptors', 'GV Government and Politics', 'HE Health and Safety', 'HI History and Archaeology', 'IN Information and Communications', 'LB Labour', 'LN Language and Linguistics', 'LW Law', 'MI Military', 'NE Nature and Environment', 'PE Persons', 'PR Processes', 'SO Society and Culture', 'ST Science and Technology', 'TR Transport']\n",
            "['501.01 AA Arts, Music, Literature', '501.02 AG Agriculture', '501.03 EC Economics and Industry', '501.04 ET Education and Training', '501.05 FM Form descriptors', '501.06 GV Government and Politics', '501.07 HE Health and Safety', '501.08 HI History and Archaeology', '501.09 IN Information and Communications', '501.10 LB Labour', '501.11 LN Language and Linguistics', '501.12 LW Law', '501.13 MI Military', '501.14 NE Nature and Environment', '501.15 PE Persons', '501.16 PR Processes', '501.17 SO Society and Culture', '501.18 ST Science and Technology', '501.19 TR Transport']\n"
          ]
        }
      ]
    },
    {
      "cell_type": "code",
      "source": [
        "subcat_mapping = dict(zip(unique_subcats, updated_subcats))  # Create a mapping dictionary\n",
        "new_df['subcat'] = new_df['subcat'].map(subcat_mapping)\n",
        "\n",
        "print(new_df)"
      ],
      "metadata": {
        "colab": {
          "base_uri": "https://localhost:8080/"
        },
        "id": "q2giRsIoAzsI",
        "outputId": "c5d49fcc-2637-4039-f54e-bded7fa83d1b"
      },
      "execution_count": 178,
      "outputs": [
        {
          "output_type": "stream",
          "name": "stdout",
          "text": [
            "                 longTitle                             subcat\n",
            "0              Visual arts  501.01 AA Arts, Music, Literature\n",
            "1          Performing arts  501.01 AA Arts, Music, Literature\n",
            "2                     Arts  501.01 AA Arts, Music, Literature\n",
            "3         Public buildings  501.01 AA Arts, Music, Literature\n",
            "4                 Drawings  501.01 AA Arts, Music, Literature\n",
            "..                     ...                                ...\n",
            "508     Navigation systems                501.19 TR Transport\n",
            "509   Marine installations                501.19 TR Transport\n",
            "510         Motor vehicles                501.19 TR Transport\n",
            "511               Vehicles                501.19 TR Transport\n",
            "512  Transportation safety                501.19 TR Transport\n",
            "\n",
            "[513 rows x 2 columns]\n"
          ]
        }
      ]
    },
    {
      "cell_type": "code",
      "source": [
        "# Define the strings you want to add\n",
        "prefix = \"\\\"[[\"  # Prefix without identifier\n",
        "suffix = \"]]\\\"\"\n",
        "\n",
        "new_df['longTitle'] = prefix + new_df['longTitle'] + suffix\n",
        "\n",
        "print(new_df)"
      ],
      "metadata": {
        "colab": {
          "base_uri": "https://localhost:8080/"
        },
        "id": "3GO-KZalCnmK",
        "outputId": "eb53aa42-33be-4609-a77d-129f2a2cfde1"
      },
      "execution_count": 179,
      "outputs": [
        {
          "output_type": "stream",
          "name": "stdout",
          "text": [
            "                       longTitle                             subcat\n",
            "0              \"[[Visual arts]]\"  501.01 AA Arts, Music, Literature\n",
            "1          \"[[Performing arts]]\"  501.01 AA Arts, Music, Literature\n",
            "2                     \"[[Arts]]\"  501.01 AA Arts, Music, Literature\n",
            "3         \"[[Public buildings]]\"  501.01 AA Arts, Music, Literature\n",
            "4                 \"[[Drawings]]\"  501.01 AA Arts, Music, Literature\n",
            "..                           ...                                ...\n",
            "508     \"[[Navigation systems]]\"                501.19 TR Transport\n",
            "509   \"[[Marine installations]]\"                501.19 TR Transport\n",
            "510         \"[[Motor vehicles]]\"                501.19 TR Transport\n",
            "511               \"[[Vehicles]]\"                501.19 TR Transport\n",
            "512  \"[[Transportation safety]]\"                501.19 TR Transport\n",
            "\n",
            "[513 rows x 2 columns]\n"
          ]
        }
      ]
    },
    {
      "cell_type": "code",
      "source": [
        "result_df = new_df.groupby('subcat')['longTitle'].apply(','.join).reset_index()\n",
        "\n",
        "print(result_df)"
      ],
      "metadata": {
        "colab": {
          "base_uri": "https://localhost:8080/"
        },
        "id": "a5iW4BQMCzY5",
        "outputId": "3398ad35-6ce8-450a-9fa8-73811a0b057b"
      },
      "execution_count": 180,
      "outputs": [
        {
          "output_type": "stream",
          "name": "stdout",
          "text": [
            "                                      subcat  \\\n",
            "0          501.01 AA Arts, Music, Literature   \n",
            "1                      501.02 AG Agriculture   \n",
            "2           501.03 EC Economics and Industry   \n",
            "3           501.04 ET Education and Training   \n",
            "4                 501.05 FM Form descriptors   \n",
            "5          501.06 GV Government and Politics   \n",
            "6                501.07 HE Health and Safety   \n",
            "7          501.08 HI History and Archaeology   \n",
            "8   501.09 IN Information and Communications   \n",
            "9                           501.10 LB Labour   \n",
            "10        501.11 LN Language and Linguistics   \n",
            "11                             501.12 LW Law   \n",
            "12                        501.13 MI Military   \n",
            "13          501.14 NE Nature and Environment   \n",
            "14                         501.15 PE Persons   \n",
            "15                       501.16 PR Processes   \n",
            "16             501.17 SO Society and Culture   \n",
            "17          501.18 ST Science and Technology   \n",
            "18                       501.19 TR Transport   \n",
            "\n",
            "                                            longTitle  \n",
            "0   \"[[Visual arts]]\",\"[[Performing arts]]\",\"[[Art...  \n",
            "1   \"[[Legumes]]\",\"[[Vegetables]]\",\"[[Livestock]]\"...  \n",
            "2   \"[[Economic development]]\",\"[[Economics]]\",\"[[...  \n",
            "3   \"[[Training]]\",\"[[Education]]\",\"[[Educational ...  \n",
            "4   \"[[Directories]]\",\"[[Records]]\",\"[[Drawings]]\"...  \n",
            "5   \"[[Elections]]\",\"[[Provinces]]\",\"[[Partnership...  \n",
            "6   \"[[Transportation safety]]\",\"[[Foster families...  \n",
            "7   \"[[History]]\",\"[[Heritage]]\",\"[[Monuments]]\",\"...  \n",
            "8   \"[[Government information]]\",\"[[Websites]]\",\"[...  \n",
            "9   \"[[Office supplies]]\",\"[[Labour]]\",\"[[Workers]...  \n",
            "10  \"[[Languages]]\",\"[[Language groups]]\",\"[[Langu...  \n",
            "11  \"[[Offences]]\",\"[[Regulations]]\",\"[[Evidence]]...  \n",
            "12         \"[[Armed forces]]\",\"[[War]]\",\"[[Weapons]]\"  \n",
            "13  \"[[Mammals]]\",\"[[Living organisms]]\",\"[[Primat...  \n",
            "14  \"[[Workers]]\",\"[[Children]]\",\"[[Inuit]]\",\"[[Pe...  \n",
            "15  \"[[Planning]]\",\"[[Permits]]\",\"[[Programming]]\"...  \n",
            "16  \"[[Social problems]]\",\"[[Recreation]]\",\"[[Wint...  \n",
            "17  \"[[Biotechnology]]\",\"[[Electronic equipment]]\"...  \n",
            "18  \"[[Vessels]]\",\"[[Pleasure craft]]\",\"[[Transpor...  \n"
          ]
        }
      ]
    },
    {
      "cell_type": "code",
      "source": [
        "# Create a unique folder name using uuid\n",
        "import uuid\n",
        "unique_folder_name = str(uuid.uuid4())\n",
        "os.makedirs(unique_folder_name, exist_ok=True)  # Create the folder\n",
        "\n",
        "alias_start = 2025010217001  # Initial alias value\n",
        "\n",
        "# List to store markdown file titles\n",
        "markdown_titles = []\n",
        "\n",
        "def create_markdown_file(row, folder_name, alias_start):\n",
        "    filename = os.path.join(folder_name, f\"{row['subcat']}.md\")\n",
        "    with open(filename, 'w') as f:\n",
        "        # Wrap the class property value in square brackets\n",
        "        class_value = f\"[{row['longTitle']}]\"\n",
        "        f.write(f\"---\\ntags: gccommon\\ntitle: {row['subcat']}\\nclass: {class_value}\\naliases: {alias_start}\\n---\\n\")\n",
        "\n",
        "    # Append the title to the list\n",
        "    markdown_titles.append(row['subcat'])\n",
        "\n",
        "    return alias_start + 1\n",
        "\n",
        "# Apply the function to each row, passing the folder name and alias_start\n",
        "# Use a for loop to iterate over rows and update alias_start for each file creation\n",
        "for index, row in result_df.iterrows():\n",
        "    alias_start = create_markdown_file(row, unique_folder_name, alias_start)\n",
        "\n",
        "# Get the full path of the folder\n",
        "full_path = os.path.abspath(unique_folder_name)\n",
        "\n",
        "print(f\"Output files are in the folder: {full_path}\")"
      ],
      "metadata": {
        "colab": {
          "base_uri": "https://localhost:8080/"
        },
        "id": "dRlkJlB8DtD_",
        "outputId": "c03ce4f2-cabf-48b9-a425-0354a0b1c4b1"
      },
      "execution_count": 181,
      "outputs": [
        {
          "output_type": "stream",
          "name": "stdout",
          "text": [
            "Output files are in the folder: /content/4543f681-b801-4ed8-859a-88ee6c26847f\n"
          ]
        }
      ]
    },
    {
      "cell_type": "code",
      "source": [
        "# Zip the output folder\n",
        "zip_file_name = f\"{unique_folder_name}.zip\"\n",
        "with zipfile.ZipFile(zip_file_name, 'w') as zipf:\n",
        "    for root, _, files in os.walk(unique_folder_name):\n",
        "        for file in files:\n",
        "            zipf.write(os.path.join(root, file), os.path.relpath(os.path.join(root, file), unique_folder_name))\n",
        "\n",
        "print(f\"Output files zipped to: {zip_file_name}\")"
      ],
      "metadata": {
        "colab": {
          "base_uri": "https://localhost:8080/"
        },
        "id": "XIVzcWnQIihh",
        "outputId": "a12c0e86-6edc-48ae-e0a5-df004d9a14e6"
      },
      "execution_count": 182,
      "outputs": [
        {
          "output_type": "stream",
          "name": "stdout",
          "text": [
            "Output files zipped to: 4543f681-b801-4ed8-859a-88ee6c26847f.zip\n"
          ]
        }
      ]
    },
    {
      "cell_type": "code",
      "source": [
        "print(\"Markdown File Titles:\")\n",
        "for title in markdown_titles:\n",
        "    print(f'\"[[{title}]]\"')"
      ],
      "metadata": {
        "colab": {
          "base_uri": "https://localhost:8080/"
        },
        "id": "2jaH2aj6KGwR",
        "outputId": "09b3c203-76c5-434b-fb2a-9e241ba3de9e"
      },
      "execution_count": 183,
      "outputs": [
        {
          "output_type": "stream",
          "name": "stdout",
          "text": [
            "Markdown File Titles:\n",
            "\"[[501.01 AA Arts, Music, Literature]]\"\n",
            "\"[[501.02 AG Agriculture]]\"\n",
            "\"[[501.03 EC Economics and Industry]]\"\n",
            "\"[[501.04 ET Education and Training]]\"\n",
            "\"[[501.05 FM Form descriptors]]\"\n",
            "\"[[501.06 GV Government and Politics]]\"\n",
            "\"[[501.07 HE Health and Safety]]\"\n",
            "\"[[501.08 HI History and Archaeology]]\"\n",
            "\"[[501.09 IN Information and Communications]]\"\n",
            "\"[[501.10 LB Labour]]\"\n",
            "\"[[501.11 LN Language and Linguistics]]\"\n",
            "\"[[501.12 LW Law]]\"\n",
            "\"[[501.13 MI Military]]\"\n",
            "\"[[501.14 NE Nature and Environment]]\"\n",
            "\"[[501.15 PE Persons]]\"\n",
            "\"[[501.16 PR Processes]]\"\n",
            "\"[[501.17 SO Society and Culture]]\"\n",
            "\"[[501.18 ST Science and Technology]]\"\n",
            "\"[[501.19 TR Transport]]\"\n"
          ]
        }
      ]
    },
    {
      "cell_type": "code",
      "source": [
        "tax_df = ntbt_df.reset_index(drop=True).sort_values(by=['broaderTerm'])\n",
        "tax_df['narrowerTerm'] = prefix + tax_df['narrowerTerm'] + suffix\n",
        "tax_df =tax_df.groupby('broaderTerm')['narrowerTerm'].apply(','.join).reset_index()\n",
        "\n",
        "print(tax_df)"
      ],
      "metadata": {
        "colab": {
          "base_uri": "https://localhost:8080/"
        },
        "id": "vavvxD9ZLYRS",
        "outputId": "cab52c41-9123-4730-ae0a-278caea7dbc8"
      },
      "execution_count": 184,
      "outputs": [
        {
          "output_type": "stream",
          "name": "stdout",
          "text": [
            "          broaderTerm                                       narrowerTerm\n",
            "0    2SLGBTQI+ people  \"[[Bisexual people]]\",\"[[Pansexual people]]\",\"...\n",
            "1       Accessibility  \"[[Accessibility for persons with disabilities]]\"\n",
            "2           Accidents  \"[[Occupational accidents]]\",\"[[Road accidents...\n",
            "3      Accountability                              \"[[Open government]]\"\n",
            "4          Accounting                         \"[[Accounting standards]]\"\n",
            "..                ...                                                ...\n",
            "426          Wildlife                             \"[[Aquatic wildlife]]\"\n",
            "427     Winter sports            \"[[Skiing]]\",\"[[Hockey]]\",\"[[Skating]]\"\n",
            "428           Workers  \"[[Agricultural workers]]\",\"[[Industrial worke...\n",
            "429           Writing  \"[[Technical writing]]\",\"[[Administrative writ...\n",
            "430           Zoology  \"[[Ornithology]]\",\"[[Ichthyology]]\",\"[[Entomol...\n",
            "\n",
            "[431 rows x 2 columns]\n"
          ]
        }
      ]
    },
    {
      "cell_type": "code",
      "source": [
        "alias_start = 2025010217491  # Initial alias value\n",
        "\n",
        "def create_markdown_file(row, folder_name, alias_start):\n",
        "    filename = os.path.join(folder_name, f\"{row['broaderTerm']}.md\")  # Use broaderTerm as filename\n",
        "    with open(filename, 'w') as f:\n",
        "        narrower_term_value = f\"[{row['narrowerTerm']}]\"  # Wrap narrowerTerm in []\n",
        "        f.write(f\"---\\ntags: gccommon\\ntitle: {row['broaderTerm']}\\nnarrowerTerm: {narrower_term_value}\\naliases: {alias_start}\\n---\\n\")\n",
        "    return alias_start + 1\n",
        "\n",
        "# Create a unique folder name using uuid\n",
        "ufolder_name = str(uuid.uuid4())\n",
        "# Fix: Use ufolder_name in os.makedirs\n",
        "os.makedirs(ufolder_name, exist_ok=True)  # Create the folder\n",
        "\n",
        "# Apply the function to each row of tax_df\n",
        "for index, row in tax_df.iterrows():\n",
        "    alias_start = create_markdown_file(row, ufolder_name, alias_start)\n",
        "\n",
        "\n",
        "# Get the full path of the folder\n",
        "full_path = os.path.abspath(ufolder_name)\n",
        "\n",
        "print(f\"Output files are in the folder: {full_path}\")"
      ],
      "metadata": {
        "colab": {
          "base_uri": "https://localhost:8080/"
        },
        "id": "S8_z1-0PNfC2",
        "outputId": "47cc98da-5673-4747-d77c-170e80df378d"
      },
      "execution_count": 185,
      "outputs": [
        {
          "output_type": "stream",
          "name": "stdout",
          "text": [
            "Output files are in the folder: /content/c8b71928-9eff-4ac2-baa3-d784313b2b09\n"
          ]
        }
      ]
    },
    {
      "cell_type": "code",
      "source": [
        "# Zip the output folder\n",
        "zip_file_name = f\"{ufolder_name}.zip\"\n",
        "with zipfile.ZipFile(zip_file_name, 'w') as zipf:\n",
        "    for root, _, files in os.walk(ufolder_name):\n",
        "        for file in files:\n",
        "            zipf.write(os.path.join(root, file), os.path.relpath(os.path.join(root, file), ufolder_name))\n",
        "\n",
        "print(f\"Output files zipped to: {zip_file_name}\")"
      ],
      "metadata": {
        "colab": {
          "base_uri": "https://localhost:8080/"
        },
        "id": "Zm1-Ok5sOEhk",
        "outputId": "2b7a60b9-0cae-44f3-8653-c246e4b619c0"
      },
      "execution_count": 186,
      "outputs": [
        {
          "output_type": "stream",
          "name": "stdout",
          "text": [
            "Output files zipped to: c8b71928-9eff-4ac2-baa3-d784313b2b09.zip\n"
          ]
        }
      ]
    },
    {
      "cell_type": "code",
      "source": [
        "# Create a new directory for Markdown files with a unique name\n",
        "dir_name = \"markdown_files\"\n",
        "i = 1\n",
        "while os.path.exists(dir_name):\n",
        "    dir_name = f\"markdown_files_{i}\"\n",
        "    i += 1\n",
        "os.makedirs(dir_name)\n",
        "\n",
        "# Function to create markdown content with bullet points\n",
        "def create_markdown_content(row):\n",
        "    markdown_content = f\"---\\ntitle: {row['longTitle']}\\ntags:\\n- gccommon\\n\"\n",
        "    for column in mergeds_df.columns:\n",
        "        if column not in ['longTitle']:\n",
        "            value = row[column]\n",
        "            # Check if value is a Series and handle it appropriately\n",
        "            if isinstance(value, pd.Series):\n",
        "                # Use any() to check if any value in the Series is not NA and not empty string\n",
        "                if value.notna().any() and value.astype(str).str.strip().ne('').any():\n",
        "                    markdown_content += f\"{column}: {','.join(value.astype(str).tolist())}\\n\"\n",
        "            # If not a Series, use pd.notna as before\n",
        "            elif pd.notna(value) and value != '':\n",
        "                markdown_content += f\"{column}: {value}\\n\"\n",
        "    markdown_content += \"---\"\n",
        "    return markdown_content\n",
        "\n",
        "def create_markdown_file(row):\n",
        "    file_name = os.path.join(dir_name, f\"{row['longTitle']}.md\")\n",
        "    with open(file_name, \"w\") as f:\n",
        "        f.write(create_markdown_content(row))\n",
        "\n",
        "mergeds_df.apply(create_markdown_file, axis=1)\n",
        "\n",
        "print(f\"Markdown files created successfully in directory: {dir_name}\")\n",
        "\n",
        "# Zip the output folder\n",
        "zip_file_name = f\"{dir_name}.zip\"\n",
        "with zipfile.ZipFile(zip_file_name, 'w') as zipf:\n",
        "    for root, _, files in os.walk(dir_name):  # change ufolder_name to dir_name\n",
        "        for file in files:\n",
        "            zipf.write(os.path.join(root, file), os.path.relpath(os.path.join(root, file), dir_name))  # change ufolder_name to dir_name\n",
        "\n",
        "print(f\"Output files zipped to: {zip_file_name}\")"
      ],
      "metadata": {
        "colab": {
          "base_uri": "https://localhost:8080/"
        },
        "outputId": "f883808e-230b-454a-cfeb-6f4d6d602658",
        "id": "76-XwqCmE1Ff"
      },
      "execution_count": 187,
      "outputs": [
        {
          "output_type": "stream",
          "name": "stdout",
          "text": [
            "Markdown files created successfully in directory: markdown_files_8\n",
            "Output files zipped to: markdown_files_8.zip\n"
          ]
        }
      ]
    },
    {
      "cell_type": "code",
      "source": [
        "print(len(smergeds_df))  # Print number of rows\n",
        "print(smergeds_df.shape[0])  # Print number of rows"
      ],
      "metadata": {
        "id": "escrO43lxgNF",
        "outputId": "69bca40c-0f3b-4951-b6d4-45ca05457490",
        "colab": {
          "base_uri": "https://localhost:8080/"
        }
      },
      "execution_count": 188,
      "outputs": [
        {
          "output_type": "stream",
          "name": "stdout",
          "text": [
            "2312\n",
            "2312\n"
          ]
        }
      ]
    }
  ]
}