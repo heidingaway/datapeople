{
  "nbformat": 4,
  "nbformat_minor": 0,
  "metadata": {
    "colab": {
      "provenance": [],
      "authorship_tag": "ABX9TyPk6Rk0OlKooWTHhhhKfqn3",
      "include_colab_link": true
    },
    "kernelspec": {
      "name": "python3",
      "display_name": "Python 3"
    },
    "language_info": {
      "name": "python"
    }
  },
  "cells": [
    {
      "cell_type": "markdown",
      "metadata": {
        "id": "view-in-github",
        "colab_type": "text"
      },
      "source": [
        "<a href=\"https://colab.research.google.com/github/heidingaway/datapeople/blob/main/GCThesaurus.ipynb\" target=\"_parent\"><img src=\"https://colab.research.google.com/assets/colab-badge.svg\" alt=\"Open In Colab\"/></a>"
      ]
    },
    {
      "cell_type": "code",
      "source": [
        "import pandas as pd\n",
        "import os\n",
        "import zipfile\n",
        "import yaml\n",
        "import re\n",
        "import unicodedata"
      ],
      "metadata": {
        "id": "R3eMDEo0AGB1"
      },
      "execution_count": 24,
      "outputs": []
    },
    {
      "cell_type": "code",
      "execution_count": 25,
      "metadata": {
        "id": "6o7v1_-E_9Wt"
      },
      "outputs": [],
      "source": [
        "## Link to CSV\n",
        "\n",
        "src = \"https://canada.multites.net/cst/EAEAD1E6-7DD2-4997-BE7F-40BFB1CBE8A2/CST20240911.csv\"\n",
        "\n",
        "# Create the DataFrame from all the retrieved records\n",
        "df = pd.read_csv(src)\n",
        "\n",
        "# Add column names\n",
        "df.columns = ['subject', 'predicate', 'object']"
      ]
    },
    {
      "cell_type": "code",
      "source": [
        "# Create the DataFrame from all the retrieved records\n",
        "print(df.head())"
      ],
      "metadata": {
        "colab": {
          "base_uri": "https://localhost:8080/"
        },
        "id": "se-o8fz8ACok",
        "outputId": "48d6f074-7efd-481b-fcb2-925ea534ac87"
      },
      "execution_count": 26,
      "outputs": [
        {
          "output_type": "stream",
          "name": "stdout",
          "text": [
            "                          subject predicate                object\n",
            "0               2-spirited people       Use     Two-spirit people\n",
            "1               2019-nCoV disease       Use  Coronavirus diseases\n",
            "2  2019 novel coronavirus disease       Use  Coronavirus diseases\n",
            "3                 2SLGBTQ+ people       Use      2SLGBTQI+ people\n",
            "4                2SLGBTQI+ people    French    Personne 2ELGBTQI+\n"
          ]
        }
      ]
    },
    {
      "cell_type": "code",
      "source": [
        "# Define the strings you want to add\n",
        "prefix = \"[[\"\n",
        "suffix = \"]]\"\n",
        "\n",
        "# Use the apply method with a lambda function to modify the column content\n",
        "df['linkedsubject'] = df['subject'].apply(lambda x: f\"{prefix}{x}{suffix}\")\n",
        "\n",
        "# Define the headings you want to add\n",
        "heading2 = \"## \"\n",
        "\n",
        "# Use the apply method with a lambda function to modify the column content\n",
        "df['h2'] = df['predicate'].apply(lambda x: f\"{heading2}{x}\")\n",
        "\n",
        "# identify title\n",
        "df = df.rename(columns={'object': 'title'}).sort_values(by='title', ascending=False)\n",
        "\n",
        "# Display the modified DataFrame\n",
        "print(df.head())"
      ],
      "metadata": {
        "colab": {
          "base_uri": "https://localhost:8080/"
        },
        "id": "lSc71cPTLeXv",
        "outputId": "6cc83d88-d21e-4727-c6ca-9d8555c42036"
      },
      "execution_count": 27,
      "outputs": [
        {
          "output_type": "stream",
          "name": "stdout",
          "text": [
            "               subject predicate               title        linkedsubject  \\\n",
            "1475         Art works    French         Œuvre d'art        [[Art works]]   \n",
            "10161     Human beings    French         Être humain     [[Human beings]]   \n",
            "19251    Sports events    French   Événement sportif    [[Sports events]]   \n",
            "4635   Cultural events    French  Événement culturel  [[Cultural events]]   \n",
            "19712    Tax avoidance    French    Évitement fiscal    [[Tax avoidance]]   \n",
            "\n",
            "              h2  \n",
            "1475   ## French  \n",
            "10161  ## French  \n",
            "19251  ## French  \n",
            "4635   ## French  \n",
            "19712  ## French  \n"
          ]
        }
      ]
    },
    {
      "cell_type": "code",
      "source": [
        "cleandf = df.drop(['subject','predicate'], axis=1)\n"
      ],
      "metadata": {
        "id": "O1EbjUqOcuJZ"
      },
      "execution_count": 28,
      "outputs": []
    },
    {
      "cell_type": "code",
      "source": [
        "print(cleandf.head())"
      ],
      "metadata": {
        "colab": {
          "base_uri": "https://localhost:8080/"
        },
        "id": "tAMCS3hAdagp",
        "outputId": "6b3acab8-6023-4cf0-8a18-7f5b5c03ceed"
      },
      "execution_count": 29,
      "outputs": [
        {
          "output_type": "stream",
          "name": "stdout",
          "text": [
            "                    title        linkedsubject         h2\n",
            "1475          Œuvre d'art        [[Art works]]  ## French\n",
            "10161         Être humain     [[Human beings]]  ## French\n",
            "19251   Événement sportif    [[Sports events]]  ## French\n",
            "4635   Événement culturel  [[Cultural events]]  ## French\n",
            "19712    Évitement fiscal    [[Tax avoidance]]  ## French\n"
          ]
        }
      ]
    },
    {
      "cell_type": "code",
      "source": [
        "n"
      ],
      "metadata": {
        "id": "8wwLyxDWjCBm"
      },
      "execution_count": null,
      "outputs": []
    },
    {
      "cell_type": "code",
      "source": [
        "# Group by 'title' and 'h2' and aggregate 'linkedsubject' with comma separation\n",
        "grouped_df = cleandf.groupby(['title', 'h2'])['linkedsubject'].apply(lambda x: ', '.join(x)).reset_index()\n",
        "\n",
        "# Pivot the grouped DataFrame\n",
        "pivoted_df = grouped_df.pivot(index='title', columns='h2', values='linkedsubject').reset_index()\n",
        "\n",
        "print(pivoted_df)"
      ],
      "metadata": {
        "colab": {
          "base_uri": "https://localhost:8080/"
        },
        "id": "kdrT1pwue4f_",
        "outputId": "a7050dec-2975-488c-9ff5-24cbade3a513"
      },
      "execution_count": 45,
      "outputs": [
        {
          "output_type": "stream",
          "name": "stdout",
          "text": [
            "h2                                                title ## Broader Term  \\\n",
            "0     \"Bicycle paths\" replaces \"Cycling trails\" as p...             NaN   \n",
            "1     \"Biochemicals\" replaces \"Biochemical products\"...             NaN   \n",
            "2     \"Coasts\" replaces \"Coastlands\" as preferred te...             NaN   \n",
            "3     \"Cultural groups\" replaces \"Cultural minoritie...             NaN   \n",
            "4     \"Demining\" replaces \"Mine clearing\" as preferr...             NaN   \n",
            "...                                                 ...             ...   \n",
            "7583                                   Évitement fiscal             NaN   \n",
            "7584                                 Événement culturel             NaN   \n",
            "7585                                  Événement sportif             NaN   \n",
            "7586                                        Être humain             NaN   \n",
            "7587                                        Œuvre d'art             NaN   \n",
            "\n",
            "h2              ## French                               ## History note  \\\n",
            "0                     NaN         [[Cycling trails]], [[Bicycle paths]]   \n",
            "1                     NaN    [[Biochemicals]], [[Biochemical products]]   \n",
            "2                     NaN                    [[Coastlands]], [[Coasts]]   \n",
            "3                     NaN  [[Cultural groups]], [[Cultural minorities]]   \n",
            "4                     NaN               [[Demining]], [[Mine clearing]]   \n",
            "...                   ...                                           ...   \n",
            "7583    [[Tax avoidance]]                                           NaN   \n",
            "7584  [[Cultural events]]                                           NaN   \n",
            "7585    [[Sports events]]                                           NaN   \n",
            "7586     [[Human beings]]                                           NaN   \n",
            "7587        [[Art works]]                                           NaN   \n",
            "\n",
            "h2   ## Narrower Term ## Related Term ## Scope Note ## Subject Category  \\\n",
            "0                 NaN             NaN           NaN                 NaN   \n",
            "1                 NaN             NaN           NaN                 NaN   \n",
            "2                 NaN             NaN           NaN                 NaN   \n",
            "3                 NaN             NaN           NaN                 NaN   \n",
            "4                 NaN             NaN           NaN                 NaN   \n",
            "...               ...             ...           ...                 ...   \n",
            "7583              NaN             NaN           NaN                 NaN   \n",
            "7584              NaN             NaN           NaN                 NaN   \n",
            "7585              NaN             NaN           NaN                 NaN   \n",
            "7586              NaN             NaN           NaN                 NaN   \n",
            "7587              NaN             NaN           NaN                 NaN   \n",
            "\n",
            "h2   ## Use ## Used For  \n",
            "0       NaN         NaN  \n",
            "1       NaN         NaN  \n",
            "2       NaN         NaN  \n",
            "3       NaN         NaN  \n",
            "4       NaN         NaN  \n",
            "...     ...         ...  \n",
            "7583    NaN         NaN  \n",
            "7584    NaN         NaN  \n",
            "7585    NaN         NaN  \n",
            "7586    NaN         NaN  \n",
            "7587    NaN         NaN  \n",
            "\n",
            "[7588 rows x 10 columns]\n"
          ]
        }
      ]
    },
    {
      "cell_type": "code",
      "source": [
        "import hashlib\n",
        "\n",
        "output_dir = 'grouped_csvs4'  # Replace with your desired directory path\n",
        "\n",
        "# Create the output directory if it doesn't exist\n",
        "os.makedirs(output_dir, exist_ok=True)\n",
        "\n",
        "# Set the maximum file name length (adjust as needed)\n",
        "max_file_name_length = 150\n",
        "\n",
        "# Iterate through each group (title) and export to CSV\n",
        "for title, group_data in pivoted_df.groupby('title'):\n",
        "    # Check if the title is too long\n",
        "    if len(title) > max_file_name_length:\n",
        "        # Shorten the file name using hashing\n",
        "        file_hash = hashlib.sha256(title.encode()).hexdigest()\n",
        "        file_path = os.path.join(output_dir, f'{file_hash}.csv')\n",
        "    else:\n",
        "        # Use the original title for the file name, replacing invalid characters\n",
        "        # This replaces '/' with '_' to avoid creating unintended directories\n",
        "        file_name = title.replace('/', '_')\n",
        "        file_path = os.path.join(output_dir, f'{file_name}.csv')\n",
        "\n",
        "    group_data.to_csv(file_path, index=False)  # index=False to avoid saving index\n",
        "\n",
        "print(f\"CSV files exported to: {output_dir}\")"
      ],
      "metadata": {
        "colab": {
          "base_uri": "https://localhost:8080/"
        },
        "id": "9TjdNFdce9iQ",
        "outputId": "08d8e565-7123-472e-fca3-68b587632b47"
      },
      "execution_count": 46,
      "outputs": [
        {
          "output_type": "stream",
          "name": "stdout",
          "text": [
            "CSV files exported to: grouped_csvs4\n"
          ]
        }
      ]
    }
  ]
}