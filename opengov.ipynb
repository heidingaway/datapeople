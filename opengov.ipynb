{
  "nbformat": 4,
  "nbformat_minor": 0,
  "metadata": {
    "colab": {
      "provenance": [],
      "authorship_tag": "ABX9TyOIBB3Ku5hU+A97QyupEtUH",
      "include_colab_link": true
    },
    "kernelspec": {
      "name": "python3",
      "display_name": "Python 3"
    },
    "language_info": {
      "name": "python"
    }
  },
  "cells": [
    {
      "cell_type": "markdown",
      "metadata": {
        "id": "view-in-github",
        "colab_type": "text"
      },
      "source": [
        "<a href=\"https://colab.research.google.com/github/heidingaway/datapeople/blob/main/opengov.ipynb\" target=\"_parent\"><img src=\"https://colab.research.google.com/assets/colab-badge.svg\" alt=\"Open In Colab\"/></a>"
      ]
    },
    {
      "cell_type": "code",
      "source": [
        "from ckanapi import RemoteCKAN\n",
        "import pandas as pd\n",
        "import os\n",
        "import zipfile\n",
        "import yaml"
      ],
      "metadata": {
        "id": "4_uW1oXVd80a"
      },
      "execution_count": 42,
      "outputs": []
    },
    {
      "cell_type": "code",
      "source": [
        "TOKEN = \"cac6fd9f-594a-4bcd-bf17-10295812d4c5\"\n",
        "rc = RemoteCKAN('https://open.canada.ca/data/en/', apikey=TOKEN)\n",
        "result = rc.action.datastore_search(\n",
        "    resource_id=\"bdb33e8c-53ef-4bae-9493-35f343191c02\",\n",
        ")\n",
        "\n",
        "# Convert the 'records' to a pandas DataFrame\n",
        "df = pd.DataFrame(result['records'])\n",
        "\n",
        "# Add a new 'title' column using the content of 'GC_NM_AB_EN'\n",
        "df['title'] = df['GC_NM_AB_EN']\n",
        "\n",
        "# Remove special characters from the 'title' column\n",
        "df['title'] = df['title'].str.replace(r'[^\\w\\s-]', '', regex=True)\n",
        "df['title'] = df['title'].str.replace(r'[\\s]+', '_', regex=True)\n",
        "\n",
        "# Clean up 'id' column\n",
        "df = df.rename(columns={'_id': 'id'})\n",
        "\n",
        "print(df.head(2))\n",
        "\n",
        "df.to_csv('output.csv', index=False)\n",
        "print(f\"DataFrame saved to output.csv\")"
      ],
      "metadata": {
        "colab": {
          "base_uri": "https://localhost:8080/"
        },
        "id": "zizKBJAMgb5G",
        "outputId": "370c6f5a-e94a-4928-91c2-f47a89d6b736"
      },
      "execution_count": 52,
      "outputs": [
        {
          "output_type": "stream",
          "name": "stdout",
          "text": [
            "   id GC_HIST_ID  GC_ID                                  GC_NM_OFF_EN  \\\n",
            "0   1    1000110  10001                          the Republic of Fiji   \n",
            "1   2    1000210  10002  South Georgia and the South Sandwich Islands   \n",
            "\n",
            "                                 GC_NM_OFF_FR  \\\n",
            "0                     la République des Fidji   \n",
            "1  Géorgie du Sud-et-les Îles Sandwich du Sud   \n",
            "\n",
            "                                    GC_NM_AB_EN  \\\n",
            "0                                          Fiji   \n",
            "1  South Georgia and the South Sandwich Islands   \n",
            "\n",
            "                                  GC_NM_AB_FR STAT_CD STAT_DESC_EN  \\\n",
            "0                                       Fidji       1       ACTIVE   \n",
            "1  Géorgie du Sud-et-les Îles Sandwich du Sud       1       ACTIVE   \n",
            "\n",
            "  STAT_DESC_FR  ...            EFF_FN_DT OBSERVATIONS_EN OBSERVATIONS_FR  \\\n",
            "0       ACTIVE  ...  2100-01-01T00:00:00            NULL            NULL   \n",
            "1       ACTIVE  ...  2100-01-01T00:00:00            NULL            NULL   \n",
            "\n",
            "  GC_PAR_ID GC_JUR_ID ISO_ALPHA_2_CD ISO_ALPHA_3_CD UN_ONU_CD  \\\n",
            "0      None      None             FJ            FJI       242   \n",
            "1     10183     10135             GS            SGS       239   \n",
            "\n",
            "              MODIF_DT                                         title  \n",
            "0  2023-11-28T00:00:00                                          Fiji  \n",
            "1  2023-11-28T00:00:00  South_Georgia_and_the_South_Sandwich_Islands  \n",
            "\n",
            "[2 rows x 25 columns]\n",
            "DataFrame saved to output.csv\n"
          ]
        }
      ]
    },
    {
      "cell_type": "code",
      "source": [
        "# Create a directory to store the files\n",
        "output_dir = 'countryfiles'\n",
        "os.makedirs(output_dir, exist_ok=True)\n",
        "\n",
        "# Iterate through each row of the DataFrame\n",
        "for index, row in df.iterrows():\n",
        "    # Create the file name (e.g., row_0.md, row_1.md, etc.)\n",
        "    file_name = os.path.join(output_dir, f\"{row['title']}.md\")\n",
        "\n",
        "    # Convert the row to a dictionary\n",
        "    row_dict = row.to_dict()\n",
        "\n",
        "    # Convert the dictionary to YAML format\n",
        "    yaml_content = yaml.dump(row_dict, default_flow_style=False)\n",
        "\n",
        "    # Write the YAML content to the file (with .md extension)\n",
        "    with open(file_name, 'w') as f:\n",
        "        f.write(yaml_content)\n",
        "\n",
        "print(f\"Files with YAML content (saved as .md) are in the '{output_dir}' directory.\")\n",
        "\n",
        "# Create a zip file containing the Markdown files\n",
        "zip_file_name = 'countryfiles.zip'\n",
        "with zipfile.ZipFile(zip_file_name, 'w') as zipf:\n",
        "    for root, _, files in os.walk(output_dir):\n",
        "        for file in files:\n",
        "            file_path = os.path.join(root, file)\n",
        "            zipf.write(file_path, os.path.relpath(file_path, output_dir))\n",
        "\n",
        "print(f\"Markdown files zipped to '{zip_file_name}'.\")"
      ],
      "metadata": {
        "colab": {
          "base_uri": "https://localhost:8080/"
        },
        "id": "8E_bsriOiaqe",
        "outputId": "c8a028cd-075a-4156-a348-f1d24e0e1205"
      },
      "execution_count": 54,
      "outputs": [
        {
          "output_type": "stream",
          "name": "stdout",
          "text": [
            "Files with YAML content (saved as .md) are in the 'countryfiles1' directory.\n",
            "Markdown files zipped to 'countryfiles1.zip'.\n"
          ]
        }
      ]
    }
  ]
}