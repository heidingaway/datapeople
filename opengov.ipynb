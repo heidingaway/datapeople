{
  "nbformat": 4,
  "nbformat_minor": 0,
  "metadata": {
    "colab": {
      "provenance": [],
      "authorship_tag": "ABX9TyM0qke+lWCdNPAjmY2FO9tG",
      "include_colab_link": true
    },
    "kernelspec": {
      "name": "python3",
      "display_name": "Python 3"
    },
    "language_info": {
      "name": "python"
    }
  },
  "cells": [
    {
      "cell_type": "markdown",
      "metadata": {
        "id": "view-in-github",
        "colab_type": "text"
      },
      "source": [
        "<a href=\"https://colab.research.google.com/github/heidingaway/datapeople/blob/main/opengov.ipynb\" target=\"_parent\"><img src=\"https://colab.research.google.com/assets/colab-badge.svg\" alt=\"Open In Colab\"/></a>"
      ]
    },
    {
      "cell_type": "code",
      "source": [
        "from ckanapi import RemoteCKAN\n",
        "import pandas as pd\n",
        "import os\n",
        "import zipfile\n",
        "import yaml\n",
        "import re\n",
        "import unicodedata"
      ],
      "metadata": {
        "id": "4_uW1oXVd80a"
      },
      "execution_count": 86,
      "outputs": []
    },
    {
      "cell_type": "code",
      "source": [
        "# Access resource data via a web API\n",
        "rc = RemoteCKAN('https://open.canada.ca/data/en/')\n",
        "APIID = \"bdb33e8c-53ef-4bae-9493-35f343191c02\"\n",
        "\n",
        "# Initialize an empty list to store all records\n",
        "all_records = []\n",
        "\n",
        "# Set the initial offset and desired limit\n",
        "offset = 0\n",
        "limit = 100  # Or any desired number of records per request\n",
        "\n",
        "while True:\n",
        "    result = rc.action.datastore_search(\n",
        "        resource_id=APIID,\n",
        "        limit=limit,\n",
        "        offset=offset,\n",
        "    )\n",
        "\n",
        "    # Add the retrieved records to the list\n",
        "    all_records.extend(result['records'])\n",
        "\n",
        "    # If the number of records returned is less than the limit,\n",
        "    # it means we've reached the end\n",
        "    if len(result['records']) < limit:\n",
        "        break\n",
        "\n",
        "    # Increment the offset for the next request\n",
        "    offset += limit\n",
        "\n",
        "# Create the DataFrame from all the retrieved records\n",
        "df = pd.DataFrame(all_records)\n",
        "\n",
        "# Add a new 'title' column using the content of 'GC_NM_AB_EN'\n",
        "df['title'] = df['GC_NM_AB_EN']\n",
        "\n",
        "# Remove French accent characters from the 'title' column\n",
        "df['title'] = df['title'].apply(lambda x: unicodedata.normalize('NFKD', x).encode('ascii', 'ignore').decode('ascii'))\n",
        "\n",
        "# Clean up 'id' column\n",
        "df = df.rename(columns={'_id': 'id'})\n",
        "\n",
        "print(df.count())"
      ],
      "metadata": {
        "colab": {
          "base_uri": "https://localhost:8080/"
        },
        "id": "zizKBJAMgb5G",
        "outputId": "446fda43-233c-4561-d37f-a7fb304cfdba"
      },
      "execution_count": 106,
      "outputs": [
        {
          "output_type": "stream",
          "name": "stdout",
          "text": [
            "id                 380\n",
            "GC_HIST_ID         380\n",
            "GC_ID              380\n",
            "GC_NM_OFF_EN       380\n",
            "GC_NM_OFF_FR       380\n",
            "GC_NM_AB_EN        380\n",
            "GC_NM_AB_FR        380\n",
            "STAT_CD            380\n",
            "STAT_DESC_EN       380\n",
            "STAT_DESC_FR       380\n",
            "TYPE_CD            380\n",
            "TYPE_DESC_EN       380\n",
            "TYPE_DESC_FR       380\n",
            "RECENT_IND         380\n",
            "EFF_DT             380\n",
            "EFF_FN_DT          380\n",
            "OBSERVATIONS_EN    380\n",
            "OBSERVATIONS_FR    380\n",
            "GC_PAR_ID            6\n",
            "GC_JUR_ID           53\n",
            "ISO_ALPHA_2_CD     367\n",
            "ISO_ALPHA_3_CD     368\n",
            "UN_ONU_CD          363\n",
            "MODIF_DT           380\n",
            "title              380\n",
            "dtype: int64\n"
          ]
        }
      ]
    },
    {
      "cell_type": "code",
      "source": [
        "# Filter out inactive countries\n",
        "output = df[df['STAT_CD'] == \"1\"]\n",
        "\n",
        "print(output.head())"
      ],
      "metadata": {
        "colab": {
          "base_uri": "https://localhost:8080/"
        },
        "id": "o4kgMu_f1ww8",
        "outputId": "97f533d9-b8ca-40e5-a492-bdc41d61cd25"
      },
      "execution_count": 107,
      "outputs": [
        {
          "output_type": "stream",
          "name": "stdout",
          "text": [
            "   id GC_HIST_ID  GC_ID                                  GC_NM_OFF_EN  \\\n",
            "0   1    1000110  10001                          the Republic of Fiji   \n",
            "1   2    1000210  10002  South Georgia and the South Sandwich Islands   \n",
            "2   3    1000310  10003                the People’s Republic of China   \n",
            "3   4    1000410  10004                      the Republic of Slovenia   \n",
            "6   7    1000510  10005                      the Republic of Kiribati   \n",
            "\n",
            "                                 GC_NM_OFF_FR  \\\n",
            "0                     la République des Fidji   \n",
            "1  Géorgie du Sud-et-les Îles Sandwich du Sud   \n",
            "2            la République populaire de Chine   \n",
            "3                   la République de Slovénie   \n",
            "6                   la République de Kiribati   \n",
            "\n",
            "                                    GC_NM_AB_EN  \\\n",
            "0                                          Fiji   \n",
            "1  South Georgia and the South Sandwich Islands   \n",
            "2                                         China   \n",
            "3                                      Slovenia   \n",
            "6                                      Kiribati   \n",
            "\n",
            "                                  GC_NM_AB_FR STAT_CD STAT_DESC_EN  \\\n",
            "0                                       Fidji       1       ACTIVE   \n",
            "1  Géorgie du Sud-et-les Îles Sandwich du Sud       1       ACTIVE   \n",
            "2                                       Chine       1       ACTIVE   \n",
            "3                                    Slovénie       1       ACTIVE   \n",
            "6                                    Kiribati       1       ACTIVE   \n",
            "\n",
            "  STAT_DESC_FR  ...            EFF_FN_DT OBSERVATIONS_EN OBSERVATIONS_FR  \\\n",
            "0       ACTIVE  ...  2100-01-01T00:00:00            NULL            NULL   \n",
            "1       ACTIVE  ...  2100-01-01T00:00:00            NULL            NULL   \n",
            "2       ACTIVE  ...  2100-01-01T00:00:00            NULL            NULL   \n",
            "3       ACTIVE  ...  2100-01-01T00:00:00            NULL            NULL   \n",
            "6       ACTIVE  ...  2100-01-01T00:00:00            NULL            NULL   \n",
            "\n",
            "  GC_PAR_ID GC_JUR_ID ISO_ALPHA_2_CD ISO_ALPHA_3_CD UN_ONU_CD  \\\n",
            "0      None      None             FJ            FJI       242   \n",
            "1     10183     10135             GS            SGS       239   \n",
            "2      None      None             CN            CHN       156   \n",
            "3      None      None             SI            SVN       705   \n",
            "6      None      None             KI            KIR       296   \n",
            "\n",
            "              MODIF_DT                                         title  \n",
            "0  2023-11-28T00:00:00                                          Fiji  \n",
            "1  2023-11-28T00:00:00  South Georgia and the South Sandwich Islands  \n",
            "2  2023-11-28T00:00:00                                         China  \n",
            "3  2023-11-28T00:00:00                                      Slovenia  \n",
            "6  2023-11-28T00:00:00                                      Kiribati  \n",
            "\n",
            "[5 rows x 25 columns]\n"
          ]
        }
      ]
    },
    {
      "cell_type": "code",
      "source": [
        "# Save as csv\n",
        "output.to_csv('output.csv', index=False)\n",
        "print(f\"DataFrame saved to output.csv\")"
      ],
      "metadata": {
        "colab": {
          "base_uri": "https://localhost:8080/"
        },
        "id": "9XWrKYru1FM1",
        "outputId": "32941e9e-e254-4b77-cb08-7ff7e6bc2ad6"
      },
      "execution_count": 108,
      "outputs": [
        {
          "output_type": "stream",
          "name": "stdout",
          "text": [
            "DataFrame saved to output.csv\n"
          ]
        }
      ]
    },
    {
      "cell_type": "code",
      "source": [
        "# Create a directory to store the Markdown files\n",
        "output_dir = 'outputmd'\n",
        "os.makedirs(output_dir, exist_ok=True)\n",
        "\n",
        "# Iterate through each row of the DataFrame\n",
        "for index, row in output.iterrows():\n",
        "    # Create the file name (e.g., row_0.md, row_1.md, etc.)\n",
        "    file_name = os.path.join(output_dir, f\"408.01.{row['GC_ID']} {row['title']}.md\")\n",
        "\n",
        "    # Convert the row to a dictionary\n",
        "    row_dict = row.to_dict()\n",
        "\n",
        "    # Convert the dictionary to YAML format\n",
        "    yaml_content = yaml.dump(row_dict, default_flow_style=False)\n",
        "\n",
        "    # Write the YAML content to the file (with .md extension)\n",
        "    with open(file_name, 'w') as f:\n",
        "        f.write(\"---\\n\" + yaml_content + \"\\n---\")\n",
        "\n",
        "print(f\"Files with YAML content (saved as .md) are in the '{output_dir}' directory.\")\n",
        "\n",
        "# Create a zip file containing the Markdown files\n",
        "zip_file_name = 'outputmd.zip'\n",
        "with zipfile.ZipFile(zip_file_name, 'w') as zipf:\n",
        "    for root, _, files in os.walk(output_dir):\n",
        "        for file in files:\n",
        "            file_path = os.path.join(root, file)\n",
        "            zipf.write(file_path, os.path.relpath(file_path, output_dir))\n",
        "\n",
        "print(f\"Markdown files zipped to '{zip_file_name}'.\")"
      ],
      "metadata": {
        "colab": {
          "base_uri": "https://localhost:8080/"
        },
        "id": "8E_bsriOiaqe",
        "outputId": "40e9ff89-d42e-4200-fcf5-4cdce9e3be93"
      },
      "execution_count": 111,
      "outputs": [
        {
          "output_type": "stream",
          "name": "stdout",
          "text": [
            "Files with YAML content (saved as .md) are in the 'outputmd' directory.\n",
            "Markdown files zipped to 'outputmd.zip'.\n"
          ]
        }
      ]
    }
  ]
}