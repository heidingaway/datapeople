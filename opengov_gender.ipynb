{
  "nbformat": 4,
  "nbformat_minor": 0,
  "metadata": {
    "colab": {
      "provenance": [],
      "authorship_tag": "ABX9TyO3nSyiiwTuas21jBTzH8g4",
      "include_colab_link": true
    },
    "kernelspec": {
      "name": "python3",
      "display_name": "Python 3"
    },
    "language_info": {
      "name": "python"
    }
  },
  "cells": [
    {
      "cell_type": "markdown",
      "metadata": {
        "id": "view-in-github",
        "colab_type": "text"
      },
      "source": [
        "<a href=\"https://colab.research.google.com/github/heidingaway/datapeople/blob/main/opengov_gender.ipynb\" target=\"_parent\"><img src=\"https://colab.research.google.com/assets/colab-badge.svg\" alt=\"Open In Colab\"/></a>"
      ]
    },
    {
      "cell_type": "code",
      "source": [
        "!pip install ckanapi"
      ],
      "metadata": {
        "colab": {
          "base_uri": "https://localhost:8080/"
        },
        "id": "xqYJbEr8M-dE",
        "outputId": "97cdd1f0-3d82-40ec-e9a7-ff4befd4bf63"
      },
      "execution_count": 1,
      "outputs": [
        {
          "output_type": "stream",
          "name": "stdout",
          "text": [
            "Collecting ckanapi\n",
            "  Downloading ckanapi-4.8-py3-none-any.whl.metadata (618 bytes)\n",
            "Requirement already satisfied: setuptools in /usr/local/lib/python3.10/dist-packages (from ckanapi) (75.1.0)\n",
            "Collecting docopt (from ckanapi)\n",
            "  Downloading docopt-0.6.2.tar.gz (25 kB)\n",
            "  Preparing metadata (setup.py) ... \u001b[?25l\u001b[?25hdone\n",
            "Requirement already satisfied: requests in /usr/local/lib/python3.10/dist-packages (from ckanapi) (2.32.3)\n",
            "Requirement already satisfied: six<2.0,>=1.9 in /usr/local/lib/python3.10/dist-packages (from ckanapi) (1.16.0)\n",
            "Collecting simplejson (from ckanapi)\n",
            "  Downloading simplejson-3.19.3-cp310-cp310-manylinux_2_5_x86_64.manylinux1_x86_64.manylinux_2_17_x86_64.manylinux2014_x86_64.whl.metadata (3.2 kB)\n",
            "Requirement already satisfied: python-slugify>=1.0 in /usr/local/lib/python3.10/dist-packages (from ckanapi) (8.0.4)\n",
            "Requirement already satisfied: text-unidecode>=1.3 in /usr/local/lib/python3.10/dist-packages (from python-slugify>=1.0->ckanapi) (1.3)\n",
            "Requirement already satisfied: charset-normalizer<4,>=2 in /usr/local/lib/python3.10/dist-packages (from requests->ckanapi) (3.4.0)\n",
            "Requirement already satisfied: idna<4,>=2.5 in /usr/local/lib/python3.10/dist-packages (from requests->ckanapi) (3.10)\n",
            "Requirement already satisfied: urllib3<3,>=1.21.1 in /usr/local/lib/python3.10/dist-packages (from requests->ckanapi) (2.2.3)\n",
            "Requirement already satisfied: certifi>=2017.4.17 in /usr/local/lib/python3.10/dist-packages (from requests->ckanapi) (2024.8.30)\n",
            "Downloading ckanapi-4.8-py3-none-any.whl (46 kB)\n",
            "\u001b[2K   \u001b[90m━━━━━━━━━━━━━━━━━━━━━━━━━━━━━━━━━━━━━━━━\u001b[0m \u001b[32m46.3/46.3 kB\u001b[0m \u001b[31m3.2 MB/s\u001b[0m eta \u001b[36m0:00:00\u001b[0m\n",
            "\u001b[?25hDownloading simplejson-3.19.3-cp310-cp310-manylinux_2_5_x86_64.manylinux1_x86_64.manylinux_2_17_x86_64.manylinux2014_x86_64.whl (137 kB)\n",
            "\u001b[2K   \u001b[90m━━━━━━━━━━━━━━━━━━━━━━━━━━━━━━━━━━━━━━━━\u001b[0m \u001b[32m137.9/137.9 kB\u001b[0m \u001b[31m8.4 MB/s\u001b[0m eta \u001b[36m0:00:00\u001b[0m\n",
            "\u001b[?25hBuilding wheels for collected packages: docopt\n",
            "  Building wheel for docopt (setup.py) ... \u001b[?25l\u001b[?25hdone\n",
            "  Created wheel for docopt: filename=docopt-0.6.2-py2.py3-none-any.whl size=13706 sha256=65f99cc5ee63302e8d860a0b81369f38f4a5b5c3cbeb9cc8c04e9534b589801d\n",
            "  Stored in directory: /root/.cache/pip/wheels/fc/ab/d4/5da2067ac95b36618c629a5f93f809425700506f72c9732fac\n",
            "Successfully built docopt\n",
            "Installing collected packages: docopt, simplejson, ckanapi\n",
            "Successfully installed ckanapi-4.8 docopt-0.6.2 simplejson-3.19.3\n"
          ]
        }
      ]
    },
    {
      "cell_type": "code",
      "source": [
        "from ckanapi import RemoteCKAN\n",
        "import pandas as pd\n",
        "import os\n",
        "import zipfile\n",
        "import yaml\n",
        "import re\n",
        "import unicodedata"
      ],
      "metadata": {
        "id": "4_uW1oXVd80a"
      },
      "execution_count": 2,
      "outputs": []
    },
    {
      "cell_type": "code",
      "source": [
        "# Access resource data via a web API\n",
        "rc = RemoteCKAN('https://open.canada.ca/data/en/')\n",
        "APIID = \"4cb827a6-a313-4d97-a66b-26fe23984931\"\n",
        "\n",
        "# Initialize an empty list to store all records\n",
        "all_records = []\n",
        "\n",
        "# Set the initial offset and desired limit\n",
        "offset = 0\n",
        "limit = 100  # Or any desired number of records per request\n",
        "\n",
        "while True:\n",
        "    result = rc.action.datastore_search(\n",
        "        resource_id=APIID,\n",
        "        limit=limit,\n",
        "        offset=offset,\n",
        "    )\n",
        "\n",
        "    # Add the retrieved records to the list\n",
        "    all_records.extend(result['records'])\n",
        "\n",
        "    # If the number of records returned is less than the limit,\n",
        "    # it means we've reached the end\n",
        "    if len(result['records']) < limit:\n",
        "        break\n",
        "\n",
        "    # Increment the offset for the next request\n",
        "    offset += limit\n",
        "\n",
        "# Create the DataFrame from all the retrieved records\n",
        "df = pd.DataFrame(all_records)\n",
        "\n",
        "print(df.count())"
      ],
      "metadata": {
        "colab": {
          "base_uri": "https://localhost:8080/"
        },
        "id": "zizKBJAMgb5G",
        "outputId": "fadb7f11-427a-406d-a6e6-9de9ad3ab6e2"
      },
      "execution_count": 3,
      "outputs": [
        {
          "output_type": "stream",
          "name": "stdout",
          "text": [
            "_id         13\n",
            "nm_en       13\n",
            "nm_fr       13\n",
            "ab_en       13\n",
            "ab_fr       13\n",
            "al_code     13\n",
            "nu_code     13\n",
            "iso_code    13\n",
            "dtype: int64\n"
          ]
        }
      ]
    },
    {
      "cell_type": "code",
      "source": [
        "# Clean up 'id' column\n",
        "df = df.rename(columns={'_id': 'id'})\n",
        "\n",
        "# Add a new 'title' column using the content of another column\n",
        "col1 = 'nm_en'\n",
        "df['title'] = df[col1]"
      ],
      "metadata": {
        "id": "KpnTS_QjNmFS"
      },
      "execution_count": 4,
      "outputs": []
    },
    {
      "cell_type": "code",
      "source": [
        "# Confirm changes\n",
        "print(df)"
      ],
      "metadata": {
        "colab": {
          "base_uri": "https://localhost:8080/"
        },
        "id": "GuS23XNnNypy",
        "outputId": "e2042296-3544-4151-d72e-3b9962e0b355"
      },
      "execution_count": 5,
      "outputs": [
        {
          "output_type": "stream",
          "name": "stdout",
          "text": [
            "    id                      nm_en                      nm_fr   ab_en  \\\n",
            "0    1  Newfoundland and Labrador    Terre-Neuve-et-Labrador    N.L.   \n",
            "1    2       Prince Edward Island      Île-du-Prince-Édouard  P.E.I.   \n",
            "2    3                Nova Scotia            Nouvelle-Écosse    N.S.   \n",
            "3    4              New Brunswick          Nouveau-Brunswick    N.B.   \n",
            "4    5                     Quebec                     Québec    Que.   \n",
            "5    6                    Ontario                    Ontario    Ont.   \n",
            "6    7                   Manitoba                   Manitoba    Man.   \n",
            "7    8               Saskatchewan               Saskatchewan   Sask.   \n",
            "8    9                    Alberta                    Alberta   Alta.   \n",
            "9   10           British Columbia       Colombie-Britannique    B.C.   \n",
            "10  11                      Yukon                      Yukon    Y.T.   \n",
            "11  12      Northwest Territories  Territoires du Nord-Ouest  N.W.T.   \n",
            "12  13                    Nunavut                    Nunavut    Nvt.   \n",
            "\n",
            "       ab_fr al_code nu_code iso_code                      title  \n",
            "0   T.-N.-L.      NL      10    CA-NL  Newfoundland and Labrador  \n",
            "1   Î.-P.-É.      PE      11    CA-PE       Prince Edward Island  \n",
            "2      N.-É.      NS      12    CA-NS                Nova Scotia  \n",
            "3      N.-B.      NB      13    CA-NB              New Brunswick  \n",
            "4         Qc      QC      24    CA-QC                     Quebec  \n",
            "5       Ont.      ON      35    CA-ON                    Ontario  \n",
            "6       Man.      MB      46    CA-MB                   Manitoba  \n",
            "7      Sask.      SK      47    CA-SK               Saskatchewan  \n",
            "8       Alb.      AB      48    CA-AB                    Alberta  \n",
            "9      C.-B.      BC      59    CA-BC           British Columbia  \n",
            "10        Yn      YT      60    CA-YT                      Yukon  \n",
            "11   T.N.-O.      NT      61    CA-NT      Northwest Territories  \n",
            "12        Nt      NU      62    CA-NU                    Nunavut  \n"
          ]
        }
      ]
    },
    {
      "cell_type": "code",
      "source": [
        "# Save as csv\n",
        "output = df\n",
        "output.to_csv('output.csv', index=False)\n",
        "print(f\"DataFrame saved to output.csv\")"
      ],
      "metadata": {
        "colab": {
          "base_uri": "https://localhost:8080/"
        },
        "id": "9XWrKYru1FM1",
        "outputId": "c7fe09fd-69ff-4c4e-fff6-88cda0026208"
      },
      "execution_count": 6,
      "outputs": [
        {
          "output_type": "stream",
          "name": "stdout",
          "text": [
            "DataFrame saved to output.csv\n"
          ]
        }
      ]
    },
    {
      "cell_type": "code",
      "source": [
        "# Create a directory to store the Markdown files\n",
        "output_dir = 'outputmd'\n",
        "idfinal = 'nu_code'\n",
        "decno = \"408.01.\"\n",
        "os.makedirs(output_dir, exist_ok=True)\n",
        "\n",
        "# Iterate through each row of the DataFrame\n",
        "for index, row in output.iterrows():\n",
        "    # Create the file name (e.g., row_0.md, row_1.md, etc.)\n",
        "    file_name = os.path.join(output_dir, decno + f\"{row[idfinal]} {row['title']}.md\")\n",
        "\n",
        "    # Convert the row to a dictionary\n",
        "    row_dict = row.to_dict()\n",
        "\n",
        "    # Convert the dictionary to YAML format\n",
        "    yaml_content = yaml.dump(row_dict, default_flow_style=False)\n",
        "\n",
        "    # Write the YAML content to the file (with .md extension)\n",
        "    with open(file_name, 'w') as f:\n",
        "        f.write(\"---\\n\" + yaml_content + \"\\n---\")\n",
        "\n",
        "print(f\"Files with YAML content (saved as .md) are in the '{output_dir}' directory.\")\n",
        "\n",
        "# Create a zip file containing the Markdown files\n",
        "zip_file_name = 'outputmd.zip'\n",
        "with zipfile.ZipFile(zip_file_name, 'w') as zipf:\n",
        "    for root, _, files in os.walk(output_dir):\n",
        "        for file in files:\n",
        "            file_path = os.path.join(root, file)\n",
        "            zipf.write(file_path, os.path.relpath(file_path, output_dir))\n",
        "\n",
        "print(f\"Markdown files zipped to '{zip_file_name}'.\")"
      ],
      "metadata": {
        "colab": {
          "base_uri": "https://localhost:8080/"
        },
        "id": "8E_bsriOiaqe",
        "outputId": "995472f4-963f-4600-e860-a3ccdc70d13f"
      },
      "execution_count": 7,
      "outputs": [
        {
          "output_type": "stream",
          "name": "stdout",
          "text": [
            "Files with YAML content (saved as .md) are in the 'outputmd' directory.\n",
            "Markdown files zipped to 'outputmd.zip'.\n"
          ]
        }
      ]
    }
  ]
}