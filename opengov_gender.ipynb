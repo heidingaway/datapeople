{
  "nbformat": 4,
  "nbformat_minor": 0,
  "metadata": {
    "colab": {
      "provenance": [],
      "authorship_tag": "ABX9TyM3zxKuc6lnhXp2A+zJ4Q2l",
      "include_colab_link": true
    },
    "kernelspec": {
      "name": "python3",
      "display_name": "Python 3"
    },
    "language_info": {
      "name": "python"
    }
  },
  "cells": [
    {
      "cell_type": "markdown",
      "metadata": {
        "id": "view-in-github",
        "colab_type": "text"
      },
      "source": [
        "<a href=\"https://colab.research.google.com/github/heidingaway/datapeople/blob/main/opengov_gender.ipynb\" target=\"_parent\"><img src=\"https://colab.research.google.com/assets/colab-badge.svg\" alt=\"Open In Colab\"/></a>"
      ]
    },
    {
      "cell_type": "code",
      "source": [
        "!pip install ckanapi"
      ],
      "metadata": {
        "colab": {
          "base_uri": "https://localhost:8080/"
        },
        "id": "xqYJbEr8M-dE",
        "outputId": "97cdd1f0-3d82-40ec-e9a7-ff4befd4bf63"
      },
      "execution_count": 1,
      "outputs": [
        {
          "output_type": "stream",
          "name": "stdout",
          "text": [
            "Collecting ckanapi\n",
            "  Downloading ckanapi-4.8-py3-none-any.whl.metadata (618 bytes)\n",
            "Requirement already satisfied: setuptools in /usr/local/lib/python3.10/dist-packages (from ckanapi) (75.1.0)\n",
            "Collecting docopt (from ckanapi)\n",
            "  Downloading docopt-0.6.2.tar.gz (25 kB)\n",
            "  Preparing metadata (setup.py) ... \u001b[?25l\u001b[?25hdone\n",
            "Requirement already satisfied: requests in /usr/local/lib/python3.10/dist-packages (from ckanapi) (2.32.3)\n",
            "Requirement already satisfied: six<2.0,>=1.9 in /usr/local/lib/python3.10/dist-packages (from ckanapi) (1.16.0)\n",
            "Collecting simplejson (from ckanapi)\n",
            "  Downloading simplejson-3.19.3-cp310-cp310-manylinux_2_5_x86_64.manylinux1_x86_64.manylinux_2_17_x86_64.manylinux2014_x86_64.whl.metadata (3.2 kB)\n",
            "Requirement already satisfied: python-slugify>=1.0 in /usr/local/lib/python3.10/dist-packages (from ckanapi) (8.0.4)\n",
            "Requirement already satisfied: text-unidecode>=1.3 in /usr/local/lib/python3.10/dist-packages (from python-slugify>=1.0->ckanapi) (1.3)\n",
            "Requirement already satisfied: charset-normalizer<4,>=2 in /usr/local/lib/python3.10/dist-packages (from requests->ckanapi) (3.4.0)\n",
            "Requirement already satisfied: idna<4,>=2.5 in /usr/local/lib/python3.10/dist-packages (from requests->ckanapi) (3.10)\n",
            "Requirement already satisfied: urllib3<3,>=1.21.1 in /usr/local/lib/python3.10/dist-packages (from requests->ckanapi) (2.2.3)\n",
            "Requirement already satisfied: certifi>=2017.4.17 in /usr/local/lib/python3.10/dist-packages (from requests->ckanapi) (2024.8.30)\n",
            "Downloading ckanapi-4.8-py3-none-any.whl (46 kB)\n",
            "\u001b[2K   \u001b[90m━━━━━━━━━━━━━━━━━━━━━━━━━━━━━━━━━━━━━━━━\u001b[0m \u001b[32m46.3/46.3 kB\u001b[0m \u001b[31m3.2 MB/s\u001b[0m eta \u001b[36m0:00:00\u001b[0m\n",
            "\u001b[?25hDownloading simplejson-3.19.3-cp310-cp310-manylinux_2_5_x86_64.manylinux1_x86_64.manylinux_2_17_x86_64.manylinux2014_x86_64.whl (137 kB)\n",
            "\u001b[2K   \u001b[90m━━━━━━━━━━━━━━━━━━━━━━━━━━━━━━━━━━━━━━━━\u001b[0m \u001b[32m137.9/137.9 kB\u001b[0m \u001b[31m8.4 MB/s\u001b[0m eta \u001b[36m0:00:00\u001b[0m\n",
            "\u001b[?25hBuilding wheels for collected packages: docopt\n",
            "  Building wheel for docopt (setup.py) ... \u001b[?25l\u001b[?25hdone\n",
            "  Created wheel for docopt: filename=docopt-0.6.2-py2.py3-none-any.whl size=13706 sha256=65f99cc5ee63302e8d860a0b81369f38f4a5b5c3cbeb9cc8c04e9534b589801d\n",
            "  Stored in directory: /root/.cache/pip/wheels/fc/ab/d4/5da2067ac95b36618c629a5f93f809425700506f72c9732fac\n",
            "Successfully built docopt\n",
            "Installing collected packages: docopt, simplejson, ckanapi\n",
            "Successfully installed ckanapi-4.8 docopt-0.6.2 simplejson-3.19.3\n"
          ]
        }
      ]
    },
    {
      "cell_type": "code",
      "source": [
        "from ckanapi import RemoteCKAN\n",
        "import pandas as pd\n",
        "import os\n",
        "import zipfile\n",
        "import yaml\n",
        "import re\n",
        "import unicodedata"
      ],
      "metadata": {
        "id": "4_uW1oXVd80a"
      },
      "execution_count": 2,
      "outputs": []
    },
    {
      "cell_type": "code",
      "source": [
        "# Access resource data via a web API\n",
        "rc = RemoteCKAN('https://open.canada.ca/data/en/')\n",
        "APIID = \"56eed7af-6a70-48d7-a402-4082ebe1e3b5\"\n",
        "\n",
        "# Initialize an empty list to store all records\n",
        "all_records = []\n",
        "\n",
        "# Set the initial offset and desired limit\n",
        "offset = 0\n",
        "limit = 100  # Or any desired number of records per request\n",
        "\n",
        "while True:\n",
        "    result = rc.action.datastore_search(\n",
        "        resource_id=APIID,\n",
        "        limit=limit,\n",
        "        offset=offset,\n",
        "    )\n",
        "\n",
        "    # Add the retrieved records to the list\n",
        "    all_records.extend(result['records'])\n",
        "\n",
        "    # If the number of records returned is less than the limit,\n",
        "    # it means we've reached the end\n",
        "    if len(result['records']) < limit:\n",
        "        break\n",
        "\n",
        "    # Increment the offset for the next request\n",
        "    offset += limit\n",
        "\n",
        "# Create the DataFrame from all the retrieved records\n",
        "df = pd.DataFrame(all_records)\n",
        "\n",
        "print(df.count())"
      ],
      "metadata": {
        "colab": {
          "base_uri": "https://localhost:8080/"
        },
        "id": "zizKBJAMgb5G",
        "outputId": "69242b87-8dba-4697-9685-d524b8695442"
      },
      "execution_count": 8,
      "outputs": [
        {
          "output_type": "stream",
          "name": "stdout",
          "text": [
            "_id             3\n",
            "code            3\n",
            "hr_title_en     3\n",
            "dmo_title_en    3\n",
            "hr_title_fr     3\n",
            "dmo_title_fr    3\n",
            "english_def     3\n",
            "french_def      3\n",
            "dtype: int64\n"
          ]
        }
      ]
    },
    {
      "cell_type": "code",
      "source": [
        "# Clean up 'id' column\n",
        "df = df.rename(columns={'_id': 'id'})\n",
        "\n",
        "# Add a new 'title' column using the content of another column\n",
        "col1 = 'hr_title_en'\n",
        "df['title'] = df[col1]"
      ],
      "metadata": {
        "id": "KpnTS_QjNmFS"
      },
      "execution_count": 10,
      "outputs": []
    },
    {
      "cell_type": "code",
      "source": [
        "# Confirm changes\n",
        "print(df)"
      ],
      "metadata": {
        "colab": {
          "base_uri": "https://localhost:8080/"
        },
        "id": "GuS23XNnNypy",
        "outputId": "fbbe50af-907e-43c3-b214-dc78f833cad6"
      },
      "execution_count": 12,
      "outputs": [
        {
          "output_type": "stream",
          "name": "stdout",
          "text": [
            "   id code     hr_title_en       dmo_title_en  hr_title_fr  \\\n",
            "0   1    1             Man                Man        Homme   \n",
            "1   2    2           Woman              Woman        Femme   \n",
            "2   3    3  Another gender  Non-binary person  Autre genre   \n",
            "\n",
            "           dmo_title_fr                                        english_def  \\\n",
            "0                 Homme  This category includes persons whose reported ...   \n",
            "1                 Femme  This category includes persons whose reported ...   \n",
            "2  Personne non-binaire  \"This category includes persons whose reported...   \n",
            "\n",
            "                                          french_def           title  \n",
            "0  Cette catégorie comprend les personnes dont le...             Man  \n",
            "1  Cette catégorie comprend les personnes dont le...           Woman  \n",
            "2  \"Cette catégorie comprend les personnes dont l...  Another gender  \n"
          ]
        }
      ]
    },
    {
      "cell_type": "code",
      "source": [
        "# Save as csv\n",
        "output = df\n",
        "output.to_csv('output.csv', index=False)\n",
        "print(f\"DataFrame saved to output.csv\")"
      ],
      "metadata": {
        "colab": {
          "base_uri": "https://localhost:8080/"
        },
        "id": "9XWrKYru1FM1",
        "outputId": "463c37ed-8a2d-4594-93ef-da064844d432"
      },
      "execution_count": 11,
      "outputs": [
        {
          "output_type": "stream",
          "name": "stdout",
          "text": [
            "DataFrame saved to output.csv\n"
          ]
        }
      ]
    },
    {
      "cell_type": "code",
      "source": [
        "# Create a directory to store the Markdown files\n",
        "output_dir = 'outputmd1'\n",
        "idfinal = 'code'\n",
        "decno = \"407.02.\"\n",
        "os.makedirs(output_dir, exist_ok=True)\n",
        "\n",
        "# Iterate through each row of the DataFrame\n",
        "for index, row in output.iterrows():\n",
        "    # Create the file name (e.g., row_0.md, row_1.md, etc.)\n",
        "    file_name = os.path.join(output_dir, decno + f\"{row[idfinal]} {row['title']}.md\")\n",
        "\n",
        "    # Convert the row to a dictionary\n",
        "    row_dict = row.to_dict()\n",
        "\n",
        "    # Convert the dictionary to YAML format\n",
        "    yaml_content = yaml.dump(row_dict, default_flow_style=False)\n",
        "\n",
        "    # Write the YAML content to the file (with .md extension)\n",
        "    with open(file_name, 'w') as f:\n",
        "        f.write(\"---\\n\" + yaml_content + \"\\n---\")\n",
        "\n",
        "print(f\"Files with YAML content (saved as .md) are in the '{output_dir}' directory.\")\n",
        "\n",
        "# Create a zip file containing the Markdown files\n",
        "zip_file_name = 'outputmd.zip'\n",
        "with zipfile.ZipFile(zip_file_name, 'w') as zipf:\n",
        "    for root, _, files in os.walk(output_dir):\n",
        "        for file in files:\n",
        "            file_path = os.path.join(root, file)\n",
        "            zipf.write(file_path, os.path.relpath(file_path, output_dir))\n",
        "\n",
        "print(f\"Markdown files zipped to '{zip_file_name}'.\")"
      ],
      "metadata": {
        "colab": {
          "base_uri": "https://localhost:8080/"
        },
        "id": "8E_bsriOiaqe",
        "outputId": "94daca8f-8bee-4ff9-926f-65b19c2716fe"
      },
      "execution_count": 13,
      "outputs": [
        {
          "output_type": "stream",
          "name": "stdout",
          "text": [
            "Files with YAML content (saved as .md) are in the 'outputmd1' directory.\n",
            "Markdown files zipped to 'outputmd.zip'.\n"
          ]
        }
      ]
    }
  ]
}