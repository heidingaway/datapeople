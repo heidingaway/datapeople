{
  "cells": [
    {
      "cell_type": "markdown",
      "metadata": {
        "id": "view-in-github",
        "colab_type": "text"
      },
      "source": [
        "<a href=\"https://colab.research.google.com/github/heidingaway/datapeople/blob/main/schemaOrg.ipynb\" target=\"_parent\"><img src=\"https://colab.research.google.com/assets/colab-badge.svg\" alt=\"Open In Colab\"/></a>"
      ]
    },
    {
      "cell_type": "code",
      "execution_count": 77,
      "metadata": {
        "id": "24Y3ptBOathF",
        "colab": {
          "base_uri": "https://localhost:8080/"
        },
        "outputId": "8c3a454f-9147-418b-9a9b-89a784311645"
      },
      "outputs": [
        {
          "output_type": "stream",
          "name": "stdout",
          "text": [
            "                                             subTypeOf  \\\n",
            "0                       https://schema.org/MediaObject   \n",
            "1                       https://schema.org/MediaObject   \n",
            "2                       https://schema.org/MediaObject   \n",
            "3                       https://schema.org/MediaObject   \n",
            "4                       https://schema.org/MediaObject   \n",
            "..                                                 ...   \n",
            "918                    https://schema.org/ChooseAction   \n",
            "919                       https://schema.org/UseAction   \n",
            "920            https://schema.org/SizeGroupEnumeration   \n",
            "921           https://schema.org/SizeSystemEnumeration   \n",
            "922  https://schema.org/EducationalOccupationalProgram   \n",
            "\n",
            "                                                   id  \\\n",
            "0                          https://schema.org/3DModel   \n",
            "1                      https://schema.org/AudioObject   \n",
            "2                     https://schema.org/DataDownload   \n",
            "3                      https://schema.org/ImageObject   \n",
            "4                 https://schema.org/MusicVideoObject   \n",
            "..                                                ...   \n",
            "918                     https://schema.org/VoteAction   \n",
            "919                     https://schema.org/WearAction   \n",
            "920   https://schema.org/WearableSizeGroupEnumeration   \n",
            "921  https://schema.org/WearableSizeSystemEnumeration   \n",
            "922               https://schema.org/WorkBasedProgram   \n",
            "\n",
            "                             label  \n",
            "0                          3DModel  \n",
            "1                      AudioObject  \n",
            "2                     DataDownload  \n",
            "3                      ImageObject  \n",
            "4                 MusicVideoObject  \n",
            "..                             ...  \n",
            "918                     VoteAction  \n",
            "919                     WearAction  \n",
            "920   WearableSizeGroupEnumeration  \n",
            "921  WearableSizeSystemEnumeration  \n",
            "922               WorkBasedProgram  \n",
            "\n",
            "[923 rows x 3 columns]\n",
            "                                            sourcetype  \\\n",
            "0                       https://schema.org/MediaObject   \n",
            "1                       https://schema.org/MediaObject   \n",
            "2                       https://schema.org/MediaObject   \n",
            "3                       https://schema.org/MediaObject   \n",
            "4                       https://schema.org/MediaObject   \n",
            "..                                                 ...   \n",
            "918                    https://schema.org/ChooseAction   \n",
            "919                       https://schema.org/UseAction   \n",
            "920            https://schema.org/SizeGroupEnumeration   \n",
            "921           https://schema.org/SizeSystemEnumeration   \n",
            "922  https://schema.org/EducationalOccupationalProgram   \n",
            "\n",
            "                                          sourceclass  \\\n",
            "0                          https://schema.org/3DModel   \n",
            "1                      https://schema.org/AudioObject   \n",
            "2                     https://schema.org/DataDownload   \n",
            "3                      https://schema.org/ImageObject   \n",
            "4                 https://schema.org/MusicVideoObject   \n",
            "..                                                ...   \n",
            "918                     https://schema.org/VoteAction   \n",
            "919                     https://schema.org/WearAction   \n",
            "920   https://schema.org/WearableSizeGroupEnumeration   \n",
            "921  https://schema.org/WearableSizeSystemEnumeration   \n",
            "922               https://schema.org/WorkBasedProgram   \n",
            "\n",
            "                             class                            type  \n",
            "0                          3DModel                     MediaObject  \n",
            "1                      AudioObject                     MediaObject  \n",
            "2                     DataDownload                     MediaObject  \n",
            "3                      ImageObject                     MediaObject  \n",
            "4                 MusicVideoObject                     MediaObject  \n",
            "..                             ...                             ...  \n",
            "918                     VoteAction                    ChooseAction  \n",
            "919                     WearAction                       UseAction  \n",
            "920   WearableSizeGroupEnumeration            SizeGroupEnumeration  \n",
            "921  WearableSizeSystemEnumeration           SizeSystemEnumeration  \n",
            "922               WorkBasedProgram  EducationalOccupationalProgram  \n",
            "\n",
            "[923 rows x 4 columns]\n",
            "                   type                                              class\n",
            "0         Accommodation  [\"[[Apartment]]\", \"[[CampingPitch]]\", \"[[House...\n",
            "1         AchieveAction  [\"[[LoseAction]]\", \"[[TieAction]]\", \"[[WinActi...\n",
            "2                Action  [\"[[AchieveAction]]\", \"[[AssessAction]]\", \"[[C...\n",
            "3             AddAction                               [\"[[InsertAction]]\"]\n",
            "4    AdministrativeArea  [\"[[City]]\", \"[[Country]]\", \"[[SchoolDistrict]...\n",
            "..                  ...                                                ...\n",
            "154         VideoObject                        [\"[[VideoObjectSnapshot]]\"]\n",
            "155       VisualArtwork                                   [\"[[CoverArt]]\"]\n",
            "156          WebContent                         [\"[[HealthTopicContent]]\"]\n",
            "157             WebPage  [\"[[AboutPage]]\", \"[[CheckoutPage]]\", \"[[Colle...\n",
            "158      WebPageElement  [\"[[SiteNavigationElement]]\", \"[[Table]]\", \"[[...\n",
            "\n",
            "[159 rows x 2 columns]\n"
          ]
        }
      ],
      "source": [
        "import pandas as pd\n",
        "\n",
        "## Link to CSV\n",
        "src = \"https://schema.org/version/latest/schemaorg-current-https-types.csv\"\n",
        "\n",
        "# Create the DataFrame from all the retrieved records\n",
        "df = pd.read_csv(src)\n",
        "\n",
        "# Get unique values from the 'subTypeOf' column and remove blanks\n",
        "t_df = df['subTypeOf'].unique()\n",
        "t_df = t_df[~pd.isnull(t_df)]\n",
        "t_df = t_df[t_df != '']\n",
        "\n",
        "# Create a new DataFrame with t_df as the first column\n",
        "new_df = pd.DataFrame({'subTypeOf': t_df})\n",
        "\n",
        "# Perform a left join, keeping only the \"id\" column from df\n",
        "merged_df = pd.merge(new_df, df[['subTypeOf', 'id', 'label']], on='subTypeOf', how='left')\n",
        "\n",
        "print(merged_df)\n",
        "\n",
        "# Perform a left join, keeping only the \"id\" column from df\n",
        "final_df = pd.merge(merged_df, df[['id', 'label']], left_on =\"subTypeOf\",right_on='id', how='left')\n",
        "final_df= final_df.drop(columns=['id_y'])\n",
        "final_df = final_df.rename(columns={'subTypeOf':'sourcetype','label_x': 'class', 'label_y':'type','id_x':'sourceclass'})\n",
        "\n",
        "print(final_df)\n",
        "\n",
        "final_df['class'] = final_df['class'].apply(lambda x: f\"\\\"[[{x}]]\\\"\" if pd.notna(x) else x)\n",
        "# Group by 'sourcetype' and join 'class' with a comma\n",
        "grouped_df = final_df.groupby('type')['class'].apply(lambda x: ', '.join(x.astype(str))).reset_index()\n",
        "\n",
        "grouped_df[\"class\"] = grouped_df[\"class\"].apply(lambda x: f\"[{x}]\" if pd.notna(x) else x)\n",
        "\n",
        "# Print the final grouped DataFrame\n",
        "print(grouped_df)\n"
      ]
    },
    {
      "cell_type": "code",
      "source": [
        "import os\n",
        "# Create a new directory for Markdown files with a unique name\n",
        "dir_name = \"markdown_files\"\n",
        "i = 1\n",
        "while os.path.exists(dir_name):\n",
        "    dir_name = f\"markdown_files_{i}\"\n",
        "    i += 1\n",
        "os.makedirs(dir_name)\n",
        "\n",
        "alias_start = 2025010312471  # Initial alias value\n",
        "\n",
        "# Function to create markdown content with bullet points\n",
        "def create_markdown_content(row, alias_start): # Add alias_start as parameter\n",
        "    markdown_content = f\"---\\ntitle: {row['type']}\\ntags:\\n- schemaorg\\naliases: {alias_start}\\n\"\n",
        "    for column in grouped_df.columns:\n",
        "        if column not in ['type']:\n",
        "            value = row[column]\n",
        "            # Check if value is a Series and handle it appropriately\n",
        "            if isinstance(value, pd.Series):\n",
        "                # Use any() to check if any value in the Series is not NA and not empty string\n",
        "                if value.notna().any() and value.astype(str).str.strip().ne('').any():\n",
        "                    markdown_content += f\"{column}: {','.join(value.astype(str).tolist())}\\n\"\n",
        "            # If not a Series, use pd.notna as before\n",
        "            elif pd.notna(value) and value != '':\n",
        "                markdown_content += f\"{column}: {value}\\n\"\n",
        "    markdown_content += \"---\"\n",
        "    return markdown_content # Return only the markdown content\n",
        "\n",
        "\n",
        "def create_markdown_file(row, alias_start): # Add alias_start as parameter\n",
        "    file_name = os.path.join(dir_name, f\"{row['type']}.md\")\n",
        "    with open(file_name, \"w\") as f:\n",
        "        markdown_content = create_markdown_content(row, alias_start) # Call with alias_start\n",
        "        f.write(markdown_content)\n",
        "    return alias_start + 1  # Return the incremented alias_start for the next row\n",
        "\n",
        "# Apply with alias_start and accumulate the updated alias_start\n",
        "alias_start = grouped_df.apply(lambda row: create_markdown_file(row, alias_start), axis=1).iloc[-1]\n",
        "\n",
        "\n",
        "print(f\"Markdown files created successfully in directory: {dir_name}\")"
      ],
      "metadata": {
        "colab": {
          "base_uri": "https://localhost:8080/"
        },
        "id": "a_FH-MgrryYd",
        "outputId": "3b6beb6d-35ba-45a5-d8dc-0736bcb386ed"
      },
      "execution_count": 81,
      "outputs": [
        {
          "output_type": "stream",
          "name": "stdout",
          "text": [
            "Markdown files created successfully in directory: markdown_files_3\n"
          ]
        }
      ]
    },
    {
      "cell_type": "code",
      "source": [
        "import zipfile\n",
        "# Zip the output folder\n",
        "zip_file_name = f\"{dir_name}.zip\"\n",
        "with zipfile.ZipFile(zip_file_name, 'w') as zipf:\n",
        "    for root, _, files in os.walk(dir_name):  # change ufolder_name to dir_name\n",
        "        for file in files:\n",
        "            zipf.write(os.path.join(root, file), os.path.relpath(os.path.join(root, file), dir_name))  # change ufolder_name to dir_name\n",
        "\n",
        "print(f\"Output files zipped to: {zip_file_name}\")"
      ],
      "metadata": {
        "colab": {
          "base_uri": "https://localhost:8080/"
        },
        "id": "sXGzoV9gsmdt",
        "outputId": "686dc8f6-aedf-4dc4-e86c-9dbbf4fc134e"
      },
      "execution_count": 83,
      "outputs": [
        {
          "output_type": "stream",
          "name": "stdout",
          "text": [
            "Output files zipped to: markdown_files_3.zip\n"
          ]
        }
      ]
    }
  ],
  "metadata": {
    "colab": {
      "provenance": [],
      "authorship_tag": "ABX9TyN2snxMrHCwGfDeF2IoP+Qx",
      "include_colab_link": true
    },
    "kernelspec": {
      "display_name": "Python 3",
      "name": "python3"
    },
    "language_info": {
      "name": "python"
    }
  },
  "nbformat": 4,
  "nbformat_minor": 0
}