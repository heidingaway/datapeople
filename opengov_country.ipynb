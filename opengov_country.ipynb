{
  "nbformat": 4,
  "nbformat_minor": 0,
  "metadata": {
    "colab": {
      "provenance": [],
      "authorship_tag": "ABX9TyMZpJkCQsC7y9uKXJd2trkE",
      "include_colab_link": true
    },
    "kernelspec": {
      "name": "python3",
      "display_name": "Python 3"
    },
    "language_info": {
      "name": "python"
    }
  },
  "cells": [
    {
      "cell_type": "markdown",
      "metadata": {
        "id": "view-in-github",
        "colab_type": "text"
      },
      "source": [
        "<a href=\"https://colab.research.google.com/github/heidingaway/datapeople/blob/main/opengov_country.ipynb\" target=\"_parent\"><img src=\"https://colab.research.google.com/assets/colab-badge.svg\" alt=\"Open In Colab\"/></a>"
      ]
    },
    {
      "cell_type": "code",
      "source": [
        "!pip install ckanapi"
      ],
      "metadata": {
        "id": "6CJUd9i2_xEg",
        "outputId": "85af5c1c-9b22-40e7-f20e-1ec45200e8c9",
        "colab": {
          "base_uri": "https://localhost:8080/"
        }
      },
      "execution_count": 14,
      "outputs": [
        {
          "output_type": "stream",
          "name": "stdout",
          "text": [
            "Requirement already satisfied: ckanapi in /usr/local/lib/python3.10/dist-packages (4.8)\n",
            "Requirement already satisfied: setuptools in /usr/local/lib/python3.10/dist-packages (from ckanapi) (75.1.0)\n",
            "Requirement already satisfied: docopt in /usr/local/lib/python3.10/dist-packages (from ckanapi) (0.6.2)\n",
            "Requirement already satisfied: requests in /usr/local/lib/python3.10/dist-packages (from ckanapi) (2.32.3)\n",
            "Requirement already satisfied: six<2.0,>=1.9 in /usr/local/lib/python3.10/dist-packages (from ckanapi) (1.17.0)\n",
            "Requirement already satisfied: simplejson in /usr/local/lib/python3.10/dist-packages (from ckanapi) (3.19.3)\n",
            "Requirement already satisfied: python-slugify>=1.0 in /usr/local/lib/python3.10/dist-packages (from ckanapi) (8.0.4)\n",
            "Requirement already satisfied: text-unidecode>=1.3 in /usr/local/lib/python3.10/dist-packages (from python-slugify>=1.0->ckanapi) (1.3)\n",
            "Requirement already satisfied: charset-normalizer<4,>=2 in /usr/local/lib/python3.10/dist-packages (from requests->ckanapi) (3.4.0)\n",
            "Requirement already satisfied: idna<4,>=2.5 in /usr/local/lib/python3.10/dist-packages (from requests->ckanapi) (3.10)\n",
            "Requirement already satisfied: urllib3<3,>=1.21.1 in /usr/local/lib/python3.10/dist-packages (from requests->ckanapi) (2.2.3)\n",
            "Requirement already satisfied: certifi>=2017.4.17 in /usr/local/lib/python3.10/dist-packages (from requests->ckanapi) (2024.12.14)\n"
          ]
        }
      ]
    },
    {
      "cell_type": "code",
      "source": [
        "from ckanapi import RemoteCKAN\n",
        "import pandas as pd\n",
        "import os\n",
        "import zipfile\n",
        "import yaml\n",
        "import re\n",
        "import unicodedata"
      ],
      "metadata": {
        "id": "4_uW1oXVd80a"
      },
      "execution_count": 15,
      "outputs": []
    },
    {
      "cell_type": "code",
      "source": [
        "# Access resource data via a web API\n",
        "rc = RemoteCKAN('https://open.canada.ca/data/en/')\n",
        "APIID = \"bdb33e8c-53ef-4bae-9493-35f343191c02\"\n",
        "\n",
        "# Initialize an empty list to store all records\n",
        "all_records = []\n",
        "\n",
        "# Set the initial offset and desired limit\n",
        "offset = 0\n",
        "limit = 100  # Or any desired number of records per request\n",
        "\n",
        "while True:\n",
        "    result = rc.action.datastore_search(\n",
        "        resource_id=APIID,\n",
        "        limit=limit,\n",
        "        offset=offset,\n",
        "    )\n",
        "\n",
        "    # Add the retrieved records to the list\n",
        "    all_records.extend(result['records'])\n",
        "\n",
        "    # If the number of records returned is less than the limit,\n",
        "    # it means we've reached the end\n",
        "    if len(result['records']) < limit:\n",
        "        break\n",
        "\n",
        "    # Increment the offset for the next request\n",
        "    offset += limit\n",
        "\n",
        "# Create the DataFrame from all the retrieved records\n",
        "df = pd.DataFrame(all_records)\n",
        "\n",
        "# Add a new 'title' column using the content of 'GC_NM_AB_EN'\n",
        "df['title'] = df['GC_NM_AB_EN']\n",
        "\n",
        "# Remove French accent characters from the 'title' column\n",
        "df['title'] = df['title'].apply(lambda x: unicodedata.normalize('NFKD', x).encode('ascii', 'ignore').decode('ascii'))\n",
        "\n",
        "print(df.count())\n",
        "print(df.head())"
      ],
      "metadata": {
        "colab": {
          "base_uri": "https://localhost:8080/"
        },
        "id": "zizKBJAMgb5G",
        "outputId": "efb358cb-a0c7-4b29-de6a-ef08172dc3f4"
      },
      "execution_count": 25,
      "outputs": [
        {
          "output_type": "stream",
          "name": "stdout",
          "text": [
            "_id                380\n",
            "GC_HIST_ID         380\n",
            "GC_ID              380\n",
            "GC_NM_OFF_EN       380\n",
            "GC_NM_OFF_FR       380\n",
            "GC_NM_AB_EN        380\n",
            "GC_NM_AB_FR        380\n",
            "STAT_CD            380\n",
            "STAT_DESC_EN       380\n",
            "STAT_DESC_FR       380\n",
            "TYPE_CD            380\n",
            "TYPE_DESC_EN       380\n",
            "TYPE_DESC_FR       380\n",
            "RECENT_IND         380\n",
            "EFF_DT             380\n",
            "EFF_FN_DT          380\n",
            "OBSERVATIONS_EN    380\n",
            "OBSERVATIONS_FR    380\n",
            "GC_PAR_ID            6\n",
            "GC_JUR_ID           53\n",
            "ISO_ALPHA_2_CD     367\n",
            "ISO_ALPHA_3_CD     368\n",
            "UN_ONU_CD          363\n",
            "MODIF_DT           380\n",
            "title              380\n",
            "dtype: int64\n",
            "   _id GC_HIST_ID  GC_ID                                  GC_NM_OFF_EN  \\\n",
            "0    1    1000110  10001                          the Republic of Fiji   \n",
            "1    2    1000210  10002  South Georgia and the South Sandwich Islands   \n",
            "2    3    1000310  10003                the People’s Republic of China   \n",
            "3    4    1000410  10004                      the Republic of Slovenia   \n",
            "4    5    1000508  10005                    Gilbert and Ellice Islands   \n",
            "\n",
            "                                 GC_NM_OFF_FR  \\\n",
            "0                     la République des Fidji   \n",
            "1  Géorgie du Sud-et-les Îles Sandwich du Sud   \n",
            "2            la République populaire de Chine   \n",
            "3                   la République de Slovénie   \n",
            "4                  les îles Gilbert et Ellice   \n",
            "\n",
            "                                    GC_NM_AB_EN  \\\n",
            "0                                          Fiji   \n",
            "1  South Georgia and the South Sandwich Islands   \n",
            "2                                         China   \n",
            "3                                      Slovenia   \n",
            "4                    Gilbert and Ellice Islands   \n",
            "\n",
            "                                  GC_NM_AB_FR STAT_CD STAT_DESC_EN  \\\n",
            "0                                       Fidji       1       ACTIVE   \n",
            "1  Géorgie du Sud-et-les Îles Sandwich du Sud       1       ACTIVE   \n",
            "2                                       Chine       1       ACTIVE   \n",
            "3                                    Slovénie       1       ACTIVE   \n",
            "4                      îles Gilbert et Ellice       2     INACTIVE   \n",
            "\n",
            "  STAT_DESC_FR  ...            EFF_FN_DT OBSERVATIONS_EN OBSERVATIONS_FR  \\\n",
            "0       ACTIVE  ...  2100-01-01T00:00:00            NULL            NULL   \n",
            "1       ACTIVE  ...  2100-01-01T00:00:00            NULL            NULL   \n",
            "2       ACTIVE  ...  2100-01-01T00:00:00            NULL            NULL   \n",
            "3       ACTIVE  ...  2100-01-01T00:00:00            NULL            NULL   \n",
            "4     INACTIVE  ...  1975-12-31T00:00:00            NULL            NULL   \n",
            "\n",
            "  GC_PAR_ID GC_JUR_ID ISO_ALPHA_2_CD ISO_ALPHA_3_CD UN_ONU_CD  \\\n",
            "0      None      None             FJ            FJI       242   \n",
            "1     10183     10135             GS            SGS       239   \n",
            "2      None      None             CN            CHN       156   \n",
            "3      None      None             SI            SVN       705   \n",
            "4      None      None             KI            KIR       296   \n",
            "\n",
            "              MODIF_DT                                         title  \n",
            "0  2023-11-28T00:00:00                                          Fiji  \n",
            "1  2023-11-28T00:00:00  South Georgia and the South Sandwich Islands  \n",
            "2  2023-11-28T00:00:00                                         China  \n",
            "3  2023-11-28T00:00:00                                      Slovenia  \n",
            "4  2023-11-28T00:00:00                    Gilbert and Ellice Islands  \n",
            "\n",
            "[5 rows x 25 columns]\n"
          ]
        }
      ]
    },
    {
      "cell_type": "code",
      "source": [
        "output = df[df['STAT_CD'] == \"1\"]\n",
        "clean_output = output[['GC_NM_OFF_EN', 'GC_NM_OFF_FR', 'GC_ID', 'UN_ONU_CD', 'ISO_ALPHA_2_CD','GC_NM_AB_FR', 'GC_NM_AB_EN','MODIF_DT','EFF_DT']].rename(\n",
        "    columns={\n",
        "        'GC_NM_OFF_EN': 'title',\n",
        "        'GC_ID': 'id',\n",
        "        'UN_ONU_CD': 'cd_un',\n",
        "        'ISO_ALPHA_2_CD': 'cd_iso2',\n",
        "        'GC_NM_OFF_FR': 'french',\n",
        "        'GC_NM_AB_EN':'aliases',\n",
        "         'GC_NM_AB_FR':'aliases_fr',\n",
        "        'MODIF_DT':'modified',\n",
        "        'EFF_DT':'effectiveDate'\n",
        "    }\n",
        ")\n",
        "\n",
        "# Convert to datetime if necessary\n",
        "clean_output['modified'] = pd.to_datetime(clean_output['modified'])\n",
        "clean_output['effectiveDate'] = pd.to_datetime(clean_output['effectiveDate'])\n",
        "\n",
        "# Format the columns\n",
        "clean_output['modified'] = clean_output['modified'].dt.strftime('%Y-%m-%d')\n",
        "clean_output['effectiveDate'] = clean_output['effectiveDate'].dt.strftime('%Y-%m-%d')\n",
        "\n",
        "print(clean_output.head())\n",
        "print(clean_output.count())"
      ],
      "metadata": {
        "colab": {
          "base_uri": "https://localhost:8080/"
        },
        "id": "o4kgMu_f1ww8",
        "outputId": "0a5c9a4e-6e79-4234-c57c-5e4b83a2eb9c"
      },
      "execution_count": 39,
      "outputs": [
        {
          "output_type": "stream",
          "name": "stdout",
          "text": [
            "                                          title  \\\n",
            "0                          the Republic of Fiji   \n",
            "1  South Georgia and the South Sandwich Islands   \n",
            "2                the People’s Republic of China   \n",
            "3                      the Republic of Slovenia   \n",
            "6                      the Republic of Kiribati   \n",
            "\n",
            "                                       french     id cd_un cd_iso2  \\\n",
            "0                     la République des Fidji  10001   242      FJ   \n",
            "1  Géorgie du Sud-et-les Îles Sandwich du Sud  10002   239      GS   \n",
            "2            la République populaire de Chine  10003   156      CN   \n",
            "3                   la République de Slovénie  10004   705      SI   \n",
            "6                   la République de Kiribati  10005   296      KI   \n",
            "\n",
            "                                   aliases_fr  \\\n",
            "0                                       Fidji   \n",
            "1  Géorgie du Sud-et-les Îles Sandwich du Sud   \n",
            "2                                       Chine   \n",
            "3                                    Slovénie   \n",
            "6                                    Kiribati   \n",
            "\n",
            "                                        aliases    modified effectiveDate  \n",
            "0                                          Fiji  2023-11-28    1970-01-01  \n",
            "1  South Georgia and the South Sandwich Islands  2023-11-28    1993-01-01  \n",
            "2                                         China  2023-11-28    1949-01-01  \n",
            "3                                      Slovenia  2023-11-28    1991-01-01  \n",
            "6                                      Kiribati  2023-11-28    1979-01-01  \n",
            "title            253\n",
            "french           253\n",
            "id               253\n",
            "cd_un            248\n",
            "cd_iso2          252\n",
            "aliases_fr       253\n",
            "aliases          253\n",
            "modified         253\n",
            "effectiveDate    253\n",
            "dtype: int64\n"
          ]
        }
      ]
    },
    {
      "cell_type": "code",
      "source": [],
      "metadata": {
        "id": "C3gpMyG8GHE2"
      },
      "execution_count": null,
      "outputs": []
    },
    {
      "cell_type": "code",
      "source": [
        "# Create a directory to store the Markdown files\n",
        "output_dir = 'outputmd'\n",
        "os.makedirs(output_dir, exist_ok=True)\n",
        "\n",
        "# Iterate through each row of the DataFrame\n",
        "for index, row in output.iterrows():\n",
        "    # Create the file name (e.g., row_0.md, row_1.md, etc.)\n",
        "    file_name = os.path.join(output_dir, f\"{row['title']}.md\")\n",
        "\n",
        "    # Convert the row to a dictionary\n",
        "    row_dict = row.to_dict()\n",
        "\n",
        "    # Convert the dictionary to YAML format\n",
        "    yaml_content = yaml.dump(row_dict, default_flow_style=False)\n",
        "\n",
        "    # Write the YAML content to the file (with .md extension)\n",
        "    with open(file_name, 'w') as f:\n",
        "        f.write(\"---\\n\" + yaml_content + \"\\n---\")\n",
        "\n",
        "print(f\"Files with YAML content (saved as .md) are in the '{output_dir}' directory.\")\n",
        "\n",
        "# Create a zip file containing the Markdown files\n",
        "zip_file_name = 'outputmd.zip'\n",
        "with zipfile.ZipFile(zip_file_name, 'w') as zipf:\n",
        "    for root, _, files in os.walk(output_dir):\n",
        "        for file in files:\n",
        "            file_path = os.path.join(root, file)\n",
        "            zipf.write(file_path, os.path.relpath(file_path, output_dir))\n",
        "\n",
        "print(f\"Markdown files zipped to '{zip_file_name}'.\")"
      ],
      "metadata": {
        "id": "8E_bsriOiaqe"
      },
      "execution_count": null,
      "outputs": []
    }
  ]
}